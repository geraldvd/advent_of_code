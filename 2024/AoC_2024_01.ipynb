{
 "cells": [
  {
   "cell_type": "code",
   "execution_count": 1,
   "id": "81630ed4-0c52-43e8-9141-8fed02cb000c",
   "metadata": {
    "execution": {
     "iopub.execute_input": "2024-12-02T21:43:26.870139Z",
     "iopub.status.busy": "2024-12-02T21:43:26.869589Z",
     "iopub.status.idle": "2024-12-02T21:43:26.878050Z",
     "shell.execute_reply": "2024-12-02T21:43:26.876029Z",
     "shell.execute_reply.started": "2024-12-02T21:43:26.870090Z"
    }
   },
   "outputs": [],
   "source": [
    "import numpy as np\n",
    "import re"
   ]
  },
  {
   "cell_type": "code",
   "execution_count": 4,
   "id": "f1d4d7a3-844a-46cb-895f-685388983193",
   "metadata": {
    "execution": {
     "iopub.execute_input": "2024-12-02T21:44:23.713260Z",
     "iopub.status.busy": "2024-12-02T21:44:23.712724Z",
     "iopub.status.idle": "2024-12-02T21:44:23.729820Z",
     "shell.execute_reply": "2024-12-02T21:44:23.728188Z",
     "shell.execute_reply.started": "2024-12-02T21:44:23.713213Z"
    }
   },
   "outputs": [
    {
     "name": "stdout",
     "output_type": "stream",
     "text": [
      "1a: 1873376\n"
     ]
    }
   ],
   "source": [
    "# 1a\n",
    "with open(\"input_01.txt\", \"r\") as fh:\n",
    "    content = fh.readlines()\n",
    "l1 = np.sort(np.array([int(re.split(r\"\\s+\", c)[0]) for c in content]))\n",
    "l2 = np.sort(np.array([int(re.split(r\"\\s+\", c)[1]) for c in content]))\n",
    "answer_1a = np.sum(np.abs(l1 - l2))\n",
    "print(\"1a:\", answer_1a)"
   ]
  },
  {
   "cell_type": "code",
   "execution_count": 5,
   "id": "a12a1834-42c7-4750-baf2-0116882a9371",
   "metadata": {
    "execution": {
     "iopub.execute_input": "2024-12-02T21:44:25.377192Z",
     "iopub.status.busy": "2024-12-02T21:44:25.376635Z",
     "iopub.status.idle": "2024-12-02T21:44:25.428282Z",
     "shell.execute_reply": "2024-12-02T21:44:25.428042Z",
     "shell.execute_reply.started": "2024-12-02T21:44:25.377145Z"
    }
   },
   "outputs": [
    {
     "name": "stdout",
     "output_type": "stream",
     "text": [
      "1b: 18997088\n"
     ]
    }
   ],
   "source": [
    "# 1b\n",
    "l2_unique = list(set(l2))\n",
    "l2_unique_counts = [sum(l2 == l2u) for l2u in l2_unique]\n",
    "l2_counts = dict(zip(l2_unique, l2_unique_counts))\n",
    "answer_1b = sum([l1i * l2_counts[l1i] for l1i in l1 if l1i in l2_counts.keys()])\n",
    "print(\"1b:\", answer_1b)"
   ]
  }
 ],
 "metadata": {
  "kernelspec": {
   "display_name": "Python 3 (ipykernel)",
   "language": "python",
   "name": "python3"
  },
  "language_info": {
   "codemirror_mode": {
    "name": "ipython",
    "version": 3
   },
   "file_extension": ".py",
   "mimetype": "text/x-python",
   "name": "python",
   "nbconvert_exporter": "python",
   "pygments_lexer": "ipython3",
   "version": "3.11.6"
  }
 },
 "nbformat": 4,
 "nbformat_minor": 5
}
