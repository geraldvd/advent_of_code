{
 "cells": [
  {
   "cell_type": "code",
   "execution_count": 1,
   "id": "cd692ae2-bf55-4ee6-8ef2-231ae766db9d",
   "metadata": {
    "execution": {
     "iopub.execute_input": "2024-12-07T06:31:14.174400Z",
     "iopub.status.busy": "2024-12-07T06:31:14.174321Z",
     "iopub.status.idle": "2024-12-07T06:31:14.238065Z",
     "shell.execute_reply": "2024-12-07T06:31:14.237809Z",
     "shell.execute_reply.started": "2024-12-07T06:31:14.174391Z"
    }
   },
   "outputs": [],
   "source": [
    "import numpy as np\n",
    "import time"
   ]
  },
  {
   "cell_type": "code",
   "execution_count": 2,
   "id": "969925d6-fa09-4d82-91d4-b509d9290acd",
   "metadata": {
    "execution": {
     "iopub.execute_input": "2024-12-07T06:31:14.238534Z",
     "iopub.status.busy": "2024-12-07T06:31:14.238395Z",
     "iopub.status.idle": "2024-12-07T06:31:14.243059Z",
     "shell.execute_reply": "2024-12-07T06:31:14.242807Z",
     "shell.execute_reply.started": "2024-12-07T06:31:14.238522Z"
    }
   },
   "outputs": [],
   "source": [
    "with open(\"input_06.txt\", \"r\") as fh:\n",
    "    content = [[i for i in l.strip()] for l in fh.readlines()]"
   ]
  },
  {
   "cell_type": "code",
   "execution_count": 3,
   "id": "f847f5c4-df8a-45c7-81a3-532c3dd7a279",
   "metadata": {
    "execution": {
     "iopub.execute_input": "2024-12-07T06:31:14.244965Z",
     "iopub.status.busy": "2024-12-07T06:31:14.244849Z",
     "iopub.status.idle": "2024-12-07T06:31:14.249640Z",
     "shell.execute_reply": "2024-12-07T06:31:14.249392Z",
     "shell.execute_reply.started": "2024-12-07T06:31:14.244953Z"
    }
   },
   "outputs": [],
   "source": [
    "grid = np.array(content, dtype=str)\n",
    "up = (-1, 0)\n",
    "down = (1, 0)\n",
    "left = (0, -1)\n",
    "right = (0, 1)\n",
    "distinct_positions = set()"
   ]
  },
  {
   "cell_type": "code",
   "execution_count": 4,
   "id": "40305fec-f0b1-4ce7-a0e5-05f143ad7084",
   "metadata": {
    "execution": {
     "iopub.execute_input": "2024-12-07T06:31:14.251035Z",
     "iopub.status.busy": "2024-12-07T06:31:14.250917Z",
     "iopub.status.idle": "2024-12-07T06:31:14.267320Z",
     "shell.execute_reply": "2024-12-07T06:31:14.266665Z",
     "shell.execute_reply.started": "2024-12-07T06:31:14.251024Z"
    }
   },
   "outputs": [],
   "source": [
    "# Start position and direction\n",
    "for ri, r in enumerate(grid):\n",
    "    for ci, c in enumerate(r):\n",
    "        if \"^\" in c.tolist():\n",
    "            start_pos = (ri, ci)\n",
    "direction = up\n",
    "distinct_positions.add(start_pos)\n",
    "pos = start_pos"
   ]
  },
  {
   "cell_type": "code",
   "execution_count": 5,
   "id": "8d6c0c33-8683-4acc-9b99-85f286c49191",
   "metadata": {
    "editable": true,
    "execution": {
     "iopub.execute_input": "2024-12-07T06:31:14.267721Z",
     "iopub.status.busy": "2024-12-07T06:31:14.267614Z",
     "iopub.status.idle": "2024-12-07T06:31:14.282890Z",
     "shell.execute_reply": "2024-12-07T06:31:14.282629Z",
     "shell.execute_reply.started": "2024-12-07T06:31:14.267709Z"
    },
    "slideshow": {
     "slide_type": ""
    },
    "tags": []
   },
   "outputs": [
    {
     "name": "stdout",
     "output_type": "stream",
     "text": [
      "6a: 5312 (in: 0.008902549743652344 sec)\n"
     ]
    }
   ],
   "source": [
    "# While loop until guard walks out of grid\n",
    "t0 = time.time()\n",
    "while 0 <= pos[0] < grid.shape[0] and 0 <= pos[1] < grid.shape[1]:\n",
    "    distinct_positions.add(pos)\n",
    "    # While loop to rotate if the next step in the current direction is either out of bounds or an obstacle. \n",
    "    # If there is an obstacle: rotate.\n",
    "    while 0 <= pos[0]+direction[0] < grid.shape[0] and \\\n",
    "            0 <= pos[1]+direction[1] < grid.shape[1] and \\\n",
    "            grid[pos[0]+direction[0], pos[1]+direction[1]] == \"#\":\n",
    "        if direction == up: direction = right\n",
    "        elif direction == right: direction = down\n",
    "        elif direction == down: direction = left\n",
    "        else: direction = up\n",
    "    pos = (pos[0]+direction[0], pos[1]+direction[1])\n",
    "                \n",
    "print(f\"6a: {len(distinct_positions)} (in: {time.time() - t0} sec)\")"
   ]
  },
  {
   "cell_type": "code",
   "execution_count": 6,
   "id": "42d3fa86-e9eb-4747-8942-16bfda351590",
   "metadata": {
    "editable": true,
    "execution": {
     "iopub.execute_input": "2024-12-07T06:31:14.284598Z",
     "iopub.status.busy": "2024-12-07T06:31:14.283990Z",
     "iopub.status.idle": "2024-12-07T06:35:16.807559Z",
     "shell.execute_reply": "2024-12-07T06:35:16.807157Z",
     "shell.execute_reply.started": "2024-12-07T06:31:14.284584Z"
    },
    "slideshow": {
     "slide_type": ""
    },
    "tags": []
   },
   "outputs": [
    {
     "name": "stdout",
     "output_type": "stream",
     "text": [
      "6b: 1748 (in: 242.51896810531616 sec)\n"
     ]
    }
   ],
   "source": [
    "obstacle_possibilities = 0\n",
    "t0 = time.time()\n",
    "\n",
    "for d in distinct_positions:\n",
    "    position_history = []\n",
    "    # Place single obstacle if there is empty space, and re-initialize position and direction\n",
    "    if grid[d] != '.':\n",
    "        continue\n",
    "    grid2 = grid.copy()\n",
    "    grid2[d] = \"#\"\n",
    "    pos = start_pos\n",
    "    direction = up\n",
    "    while 0 <= pos[0] < grid2.shape[0] and 0 <= pos[1] < grid2.shape[1]:\n",
    "        if pos+direction in position_history:\n",
    "            obstacle_possibilities += 1\n",
    "            break\n",
    "        # Combined list of position and direction, to evaluate guard walking in loop\n",
    "        position_history.append(pos+direction)\n",
    "        while 0 <= pos[0]+direction[0] < grid2.shape[0] and \\\n",
    "                0 <= pos[1]+direction[1] < grid2.shape[1] and \\\n",
    "                grid2[pos[0]+direction[0], pos[1]+direction[1]] == \"#\":\n",
    "            if direction == up: direction = right\n",
    "            elif direction == right: direction = down\n",
    "            elif direction == down: direction = left\n",
    "            else: direction = up\n",
    "        pos = (pos[0]+direction[0], pos[1]+direction[1])\n",
    "print(f\"6b: {obstacle_possibilities} (in: {time.time() - t0} sec)\")\n",
    "# Note: very inefficient (243 seconds)"
   ]
  }
 ],
 "metadata": {
  "kernelspec": {
   "display_name": "Python 3 (ipykernel)",
   "language": "python",
   "name": "python3"
  },
  "language_info": {
   "codemirror_mode": {
    "name": "ipython",
    "version": 3
   },
   "file_extension": ".py",
   "mimetype": "text/x-python",
   "name": "python",
   "nbconvert_exporter": "python",
   "pygments_lexer": "ipython3",
   "version": "3.11.6"
  }
 },
 "nbformat": 4,
 "nbformat_minor": 5
}
