{
 "cells": [
  {
   "cell_type": "code",
   "execution_count": 1,
   "id": "ab50de5f-95c4-4694-bec3-b72935f2fc2a",
   "metadata": {
    "execution": {
     "iopub.execute_input": "2024-12-08T16:35:56.070148Z",
     "iopub.status.busy": "2024-12-08T16:35:56.070064Z",
     "iopub.status.idle": "2024-12-08T16:35:56.117916Z",
     "shell.execute_reply": "2024-12-08T16:35:56.117598Z",
     "shell.execute_reply.started": "2024-12-08T16:35:56.070140Z"
    }
   },
   "outputs": [],
   "source": [
    "import numpy as np\n",
    "from itertools import combinations"
   ]
  },
  {
   "cell_type": "code",
   "execution_count": 2,
   "id": "f2883d66-c129-42c7-9543-6e1d37214575",
   "metadata": {
    "execution": {
     "iopub.execute_input": "2024-12-08T16:35:56.118849Z",
     "iopub.status.busy": "2024-12-08T16:35:56.118703Z",
     "iopub.status.idle": "2024-12-08T16:35:56.121033Z",
     "shell.execute_reply": "2024-12-08T16:35:56.120739Z",
     "shell.execute_reply.started": "2024-12-08T16:35:56.118838Z"
    }
   },
   "outputs": [],
   "source": [
    "with open(\"input_08.txt\", \"r\") as fh:\n",
    "    content = [c.strip() for c in fh.readlines()]"
   ]
  },
  {
   "cell_type": "code",
   "execution_count": 3,
   "id": "03ab60b7-8619-4f88-b922-5485dae96fc7",
   "metadata": {
    "execution": {
     "iopub.execute_input": "2024-12-08T16:35:56.121448Z",
     "iopub.status.busy": "2024-12-08T16:35:56.121347Z",
     "iopub.status.idle": "2024-12-08T16:35:56.127867Z",
     "shell.execute_reply": "2024-12-08T16:35:56.127624Z",
     "shell.execute_reply.started": "2024-12-08T16:35:56.121437Z"
    }
   },
   "outputs": [],
   "source": [
    "# Antinodes to be determined for each frequency (character), so separating them out\n",
    "frequencies = {}\n",
    "for ir, r in enumerate(content):\n",
    "    for ic, c in enumerate(r):\n",
    "        if c != \".\":\n",
    "            if c not in frequencies.keys():\n",
    "                frequencies[c] = []\n",
    "            frequencies[c].append((ir, ic))\n",
    "\n",
    "\n",
    "def check_grid_limits(c):\n",
    "    return 0 <= c[0] < len(content) and 0 <= c[1] < len(content[0])"
   ]
  },
  {
   "cell_type": "code",
   "execution_count": 4,
   "id": "bf73e13a-1b11-4aa0-b475-dd08becf6c56",
   "metadata": {
    "execution": {
     "iopub.execute_input": "2024-12-08T16:35:56.128266Z",
     "iopub.status.busy": "2024-12-08T16:35:56.128162Z",
     "iopub.status.idle": "2024-12-08T16:35:56.134675Z",
     "shell.execute_reply": "2024-12-08T16:35:56.134414Z",
     "shell.execute_reply.started": "2024-12-08T16:35:56.128255Z"
    }
   },
   "outputs": [],
   "source": [
    "# 8a\n",
    "all_antinodes = set()\n",
    "for k in frequencies.keys():\n",
    "    # Go through all pairs of the same frequency to determine the antinodes\n",
    "    for p1, p2 in combinations(frequencies[k], 2):\n",
    "        dr, dc = p1[0]-p2[0], p1[1]-p2[1]\n",
    "        all_antinodes.add((p1[0]+dr, p1[1]+dc))\n",
    "        all_antinodes.add((p2[0]-dr, p2[1]-dc))"
   ]
  },
  {
   "cell_type": "code",
   "execution_count": 5,
   "id": "31b09b57-6a0a-40bf-abbd-5b69c9a5edc0",
   "metadata": {
    "execution": {
     "iopub.execute_input": "2024-12-08T16:35:56.135334Z",
     "iopub.status.busy": "2024-12-08T16:35:56.135036Z",
     "iopub.status.idle": "2024-12-08T16:35:56.141822Z",
     "shell.execute_reply": "2024-12-08T16:35:56.141580Z",
     "shell.execute_reply.started": "2024-12-08T16:35:56.135321Z"
    }
   },
   "outputs": [
    {
     "name": "stdout",
     "output_type": "stream",
     "text": [
      "8a: 392\n"
     ]
    }
   ],
   "source": [
    "# Only count the antinodes that are within the grid\n",
    "num_antinodes = 0\n",
    "for a in all_antinodes:\n",
    "    if check_grid_limits(a):\n",
    "        num_antinodes += 1\n",
    "print(\"8a:\", num_antinodes)"
   ]
  },
  {
   "cell_type": "code",
   "execution_count": 6,
   "id": "95f60791-51dd-4627-b390-d84020ea0c7b",
   "metadata": {
    "execution": {
     "iopub.execute_input": "2024-12-08T16:35:56.143139Z",
     "iopub.status.busy": "2024-12-08T16:35:56.143025Z",
     "iopub.status.idle": "2024-12-08T16:35:56.150727Z",
     "shell.execute_reply": "2024-12-08T16:35:56.150478Z",
     "shell.execute_reply.started": "2024-12-08T16:35:56.143128Z"
    }
   },
   "outputs": [
    {
     "name": "stdout",
     "output_type": "stream",
     "text": [
      "8b: 1235\n"
     ]
    }
   ],
   "source": [
    "# 8b\n",
    "all_antinodes = set()\n",
    "for k in frequencies.keys():\n",
    "    for p1, p2 in combinations(frequencies[k], 2):\n",
    "        dr, dc = p1[0]-p2[0], p1[1]-p2[1]\n",
    "        for p in (p1, p2):\n",
    "            # All locations on the line of each frequency pair with same distance need to be antinode\n",
    "            for direction in (-1, 1):\n",
    "                antinode = (p[0]+direction*dr, p[1]+direction*dc)\n",
    "                while check_grid_limits(antinode):\n",
    "                    all_antinodes.add(antinode)\n",
    "                    antinode = (antinode[0]+direction*dr, antinode[1]+direction*dc)\n",
    "print(\"8b:\", len(all_antinodes))"
   ]
  }
 ],
 "metadata": {
  "kernelspec": {
   "display_name": "Python 3 (ipykernel)",
   "language": "python",
   "name": "python3"
  },
  "language_info": {
   "codemirror_mode": {
    "name": "ipython",
    "version": 3
   },
   "file_extension": ".py",
   "mimetype": "text/x-python",
   "name": "python",
   "nbconvert_exporter": "python",
   "pygments_lexer": "ipython3",
   "version": "3.11.6"
  }
 },
 "nbformat": 4,
 "nbformat_minor": 5
}
