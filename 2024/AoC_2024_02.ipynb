{
 "cells": [
  {
   "cell_type": "code",
   "execution_count": 1,
   "id": "5eb1819d-32b9-4028-b4f9-211914f42987",
   "metadata": {
    "execution": {
     "iopub.execute_input": "2024-12-02T15:37:04.309168Z",
     "iopub.status.busy": "2024-12-02T15:37:04.309092Z",
     "iopub.status.idle": "2024-12-02T15:37:04.343910Z",
     "shell.execute_reply": "2024-12-02T15:37:04.343605Z",
     "shell.execute_reply.started": "2024-12-02T15:37:04.309159Z"
    }
   },
   "outputs": [],
   "source": [
    "import numpy as np\n",
    "import re"
   ]
  },
  {
   "cell_type": "code",
   "execution_count": 2,
   "id": "c7005138-da86-431c-a8c5-66b78d4b29fc",
   "metadata": {
    "execution": {
     "iopub.execute_input": "2024-12-02T15:37:04.344620Z",
     "iopub.status.busy": "2024-12-02T15:37:04.344456Z",
     "iopub.status.idle": "2024-12-02T15:37:04.353838Z",
     "shell.execute_reply": "2024-12-02T15:37:04.353557Z",
     "shell.execute_reply.started": "2024-12-02T15:37:04.344608Z"
    }
   },
   "outputs": [],
   "source": [
    "with open(\"input_02.txt\", \"r\") as fh:\n",
    "    content = fh.readlines()\n",
    "lines = [np.array([int(d) for d in re.split(r\"\\s+\", l.strip())]) for l in content]"
   ]
  },
  {
   "cell_type": "code",
   "execution_count": 3,
   "id": "6b0c5c4c-abbb-4e92-bb0d-255fac489a38",
   "metadata": {
    "execution": {
     "iopub.execute_input": "2024-12-02T15:37:04.355840Z",
     "iopub.status.busy": "2024-12-02T15:37:04.354967Z",
     "iopub.status.idle": "2024-12-02T15:37:04.360217Z",
     "shell.execute_reply": "2024-12-02T15:37:04.359949Z",
     "shell.execute_reply.started": "2024-12-02T15:37:04.355824Z"
    }
   },
   "outputs": [],
   "source": [
    "def calc_deltas(a):\n",
    "    return a[1:] - a[:-1]"
   ]
  },
  {
   "cell_type": "code",
   "execution_count": 4,
   "id": "5430fa54-4734-460a-bfc7-9d0a2d9c1122",
   "metadata": {
    "execution": {
     "iopub.execute_input": "2024-12-02T15:37:04.361011Z",
     "iopub.status.busy": "2024-12-02T15:37:04.360900Z",
     "iopub.status.idle": "2024-12-02T15:37:04.368563Z",
     "shell.execute_reply": "2024-12-02T15:37:04.368327Z",
     "shell.execute_reply.started": "2024-12-02T15:37:04.360999Z"
    }
   },
   "outputs": [],
   "source": [
    "def check_report(d):\n",
    "    # Return 1 if report is safe, else 0. Multiple checks below.\n",
    "    single_direction = np.array_equal(np.abs(d), d) or np.array_equal(-np.abs(d), d)\n",
    "    lower_bound = sum(np.abs(d)>=1) == len(d)\n",
    "    upper_bound = sum(np.abs(d)<=3) == len(d)\n",
    "    return single_direction and lower_bound and upper_bound"
   ]
  },
  {
   "cell_type": "code",
   "execution_count": 5,
   "id": "61ff2469-03c3-40d5-9eb3-60c3e68bfc73",
   "metadata": {
    "execution": {
     "iopub.execute_input": "2024-12-02T15:37:04.369911Z",
     "iopub.status.busy": "2024-12-02T15:37:04.369712Z",
     "iopub.status.idle": "2024-12-02T15:37:04.390365Z",
     "shell.execute_reply": "2024-12-02T15:37:04.390119Z",
     "shell.execute_reply.started": "2024-12-02T15:37:04.369898Z"
    }
   },
   "outputs": [
    {
     "name": "stdout",
     "output_type": "stream",
     "text": [
      "Safe reports (2a): 572\n"
     ]
    }
   ],
   "source": [
    "deltas = [calc_deltas(l) for l in lines]\n",
    "print(\"Safe reports (2a):\", sum([check_report(d) for d in deltas]))"
   ]
  },
  {
   "cell_type": "code",
   "execution_count": 6,
   "id": "a0bf4a79-e838-4814-a39c-337575798b41",
   "metadata": {
    "execution": {
     "iopub.execute_input": "2024-12-02T15:37:04.390974Z",
     "iopub.status.busy": "2024-12-02T15:37:04.390861Z",
     "iopub.status.idle": "2024-12-02T15:37:04.393405Z",
     "shell.execute_reply": "2024-12-02T15:37:04.393142Z",
     "shell.execute_reply.started": "2024-12-02T15:37:04.390963Z"
    }
   },
   "outputs": [],
   "source": [
    "def adjusted_check_report(l):\n",
    "    d = calc_deltas(l)\n",
    "    if check_report(d):\n",
    "        return True\n",
    "    for i in range(len(l)):\n",
    "        l_adj = np.concatenate((l[:i], l[i+1:]))\n",
    "        if check_report(calc_deltas(l_adj)):\n",
    "            return True\n",
    "    return False"
   ]
  },
  {
   "cell_type": "code",
   "execution_count": 7,
   "id": "db3a8a5e-34af-4391-b8ea-e7c52bb3680f",
   "metadata": {
    "execution": {
     "iopub.execute_input": "2024-12-02T15:37:04.394097Z",
     "iopub.status.busy": "2024-12-02T15:37:04.393866Z",
     "iopub.status.idle": "2024-12-02T15:37:04.439228Z",
     "shell.execute_reply": "2024-12-02T15:37:04.438896Z",
     "shell.execute_reply.started": "2024-12-02T15:37:04.394085Z"
    }
   },
   "outputs": [
    {
     "name": "stdout",
     "output_type": "stream",
     "text": [
      "Adjusted safe reports (2b): 612\n"
     ]
    }
   ],
   "source": [
    "print(\"Adjusted safe reports (2b):\", sum([adjusted_check_report(l) for l in lines]))"
   ]
  }
 ],
 "metadata": {
  "kernelspec": {
   "display_name": "Python 3 (ipykernel)",
   "language": "python",
   "name": "python3"
  },
  "language_info": {
   "codemirror_mode": {
    "name": "ipython",
    "version": 3
   },
   "file_extension": ".py",
   "mimetype": "text/x-python",
   "name": "python",
   "nbconvert_exporter": "python",
   "pygments_lexer": "ipython3",
   "version": "3.11.6"
  }
 },
 "nbformat": 4,
 "nbformat_minor": 5
}
