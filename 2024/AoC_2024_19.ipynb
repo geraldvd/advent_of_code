{
 "cells": [
  {
   "cell_type": "code",
   "execution_count": 1,
   "id": "e98abe96-d095-4ecf-861b-4d24dcb7d0d9",
   "metadata": {
    "execution": {
     "iopub.execute_input": "2024-12-22T11:47:38.025277Z",
     "iopub.status.busy": "2024-12-22T11:47:38.025202Z",
     "iopub.status.idle": "2024-12-22T11:47:38.083620Z",
     "shell.execute_reply": "2024-12-22T11:47:38.083336Z",
     "shell.execute_reply.started": "2024-12-22T11:47:38.025269Z"
    }
   },
   "outputs": [],
   "source": [
    "import numpy as np\n",
    "import re\n",
    "import time"
   ]
  },
  {
   "cell_type": "code",
   "execution_count": 2,
   "id": "af479c01-d876-477d-8836-e468335aa982",
   "metadata": {
    "execution": {
     "iopub.execute_input": "2024-12-22T11:47:38.084106Z",
     "iopub.status.busy": "2024-12-22T11:47:38.083970Z",
     "iopub.status.idle": "2024-12-22T11:47:38.086999Z",
     "shell.execute_reply": "2024-12-22T11:47:38.086740Z",
     "shell.execute_reply.started": "2024-12-22T11:47:38.084094Z"
    }
   },
   "outputs": [],
   "source": [
    "with open(\"input_19.txt\", \"r\") as fh:\n",
    "    towels_available, towels_desired = fh.read().split(\"\\n\\n\")\n",
    "towels_available = re.findall(r\"([wugbr]+)\", towels_available)\n",
    "towels_desired = re.findall(r\"([wugbr]+)\", towels_desired)"
   ]
  },
  {
   "cell_type": "code",
   "execution_count": 3,
   "id": "a71dece4-e29a-40e0-8f17-0420f4a671e9",
   "metadata": {
    "execution": {
     "iopub.execute_input": "2024-12-22T11:47:38.088271Z",
     "iopub.status.busy": "2024-12-22T11:47:38.088080Z",
     "iopub.status.idle": "2024-12-22T11:47:38.093317Z",
     "shell.execute_reply": "2024-12-22T11:47:38.093068Z",
     "shell.execute_reply.started": "2024-12-22T11:47:38.088259Z"
    }
   },
   "outputs": [],
   "source": [
    "# Group available towels by start letters\n",
    "available_grouped = {}\n",
    "for ta in towels_available:\n",
    "    if ta[0] not in available_grouped:\n",
    "        available_grouped[ta[0]] = []\n",
    "    available_grouped[ta[0]].append(ta)"
   ]
  },
  {
   "cell_type": "code",
   "execution_count": 4,
   "id": "1aa578c3-47ab-4ed5-be8c-d8baeba5f2c0",
   "metadata": {
    "execution": {
     "iopub.execute_input": "2024-12-22T11:47:38.093890Z",
     "iopub.status.busy": "2024-12-22T11:47:38.093782Z",
     "iopub.status.idle": "2024-12-22T11:47:38.100307Z",
     "shell.execute_reply": "2024-12-22T11:47:38.099926Z",
     "shell.execute_reply.started": "2024-12-22T11:47:38.093879Z"
    }
   },
   "outputs": [],
   "source": [
    "def get_possible_parts(partial_td):\n",
    "    next_partial_tds = [] # list of tuples: (part, rem)\n",
    "    if partial_td[0] in available_grouped:\n",
    "        for ag in available_grouped[partial_td[0]]:\n",
    "            if len(ag) <= len(partial_td) and partial_td[:len(ag)] == ag:\n",
    "                next_partial_tds.append((ag, partial_td[len(ag):]))\n",
    "    return next_partial_tds"
   ]
  },
  {
   "cell_type": "code",
   "execution_count": 5,
   "id": "ea4462d3-c4d6-40cd-849d-261d19d51e2a",
   "metadata": {
    "execution": {
     "iopub.execute_input": "2024-12-22T11:47:38.101104Z",
     "iopub.status.busy": "2024-12-22T11:47:38.100718Z",
     "iopub.status.idle": "2024-12-22T11:47:38.940544Z",
     "shell.execute_reply": "2024-12-22T11:47:38.940079Z",
     "shell.execute_reply.started": "2024-12-22T11:47:38.101092Z"
    }
   },
   "outputs": [
    {
     "name": "stdout",
     "output_type": "stream",
     "text": [
      "19a: 269 in 0.833580732345581 sec.\n"
     ]
    }
   ],
   "source": [
    "# 19a\n",
    "t0 = time.time()\n",
    "num_solutions = 0\n",
    "for td in towels_desired:\n",
    "    remaining_tds = list(set(get_possible_parts(td)))\n",
    "    while True:\n",
    "        new_remaining_tds = []\n",
    "        for rtd in remaining_tds:\n",
    "            new_remaining_tds += get_possible_parts(rtd[1])\n",
    "        if not len(new_remaining_tds):\n",
    "            # End if there are no more possibilities and no solution found\n",
    "            break\n",
    "        if not min([len(nrt[1]) for nrt in new_remaining_tds]):\n",
    "            # Solution found, since there is no string left\n",
    "            num_solutions += 1\n",
    "            break\n",
    "        remaining_tds = list(set(new_remaining_tds))\n",
    "print(f\"19a: {num_solutions} in {time.time() - t0} sec.\")"
   ]
  },
  {
   "cell_type": "code",
   "execution_count": 6,
   "id": "bda3b91c-56ad-4a75-924b-d4b5c00bc304",
   "metadata": {
    "execution": {
     "iopub.execute_input": "2024-12-22T11:47:38.940927Z",
     "iopub.status.busy": "2024-12-22T11:47:38.940841Z",
     "iopub.status.idle": "2024-12-22T11:47:41.418214Z",
     "shell.execute_reply": "2024-12-22T11:47:41.417500Z",
     "shell.execute_reply.started": "2024-12-22T11:47:38.940918Z"
    }
   },
   "outputs": [
    {
     "name": "stdout",
     "output_type": "stream",
     "text": [
      "19b: 758839075658876 in 2.4736275672912598 sec.\n"
     ]
    }
   ],
   "source": [
    "# 19b\n",
    "t0 = time.time()\n",
    "num_solutions = 0\n",
    "for td in towels_desired:\n",
    "    # Keep track of duplicate solutions in dict (iso set in part a)\n",
    "    remaining_tds = get_possible_parts(td)\n",
    "    remaining_tds = {k:remaining_tds.count(k) for k in set(remaining_tds)}\n",
    "    while True:\n",
    "        new_remaining_tds = {}\n",
    "        for rtd in remaining_tds:\n",
    "            res = get_possible_parts(rtd[1])\n",
    "            res = {k:res.count(k) for k in set(res)}\n",
    "            for k in res:\n",
    "                if k in new_remaining_tds:\n",
    "                    new_remaining_tds[k] += res[k] * remaining_tds[rtd]\n",
    "                else:\n",
    "                    new_remaining_tds[k] = res[k] * remaining_tds[rtd]\n",
    "        remaining_tds = new_remaining_tds\n",
    "        if len(remaining_tds) and not min([len(nrt[1]) for nrt in remaining_tds]):\n",
    "            # Solution found, since there is no string left\n",
    "            num_solutions += sum([remaining_tds[nrt] for nrt in remaining_tds if not len(nrt[1])])\n",
    "            remaining_tds = {nrt:remaining_tds[nrt] for nrt in new_remaining_tds if len(nrt[1])}\n",
    "        if not len(remaining_tds):\n",
    "            # End if there are no more possibilities and no solution found\n",
    "            break\n",
    "print(f\"19b: {num_solutions} in {time.time() - t0} sec.\")"
   ]
  }
 ],
 "metadata": {
  "kernelspec": {
   "display_name": "Python 3 (ipykernel)",
   "language": "python",
   "name": "python3"
  },
  "language_info": {
   "codemirror_mode": {
    "name": "ipython",
    "version": 3
   },
   "file_extension": ".py",
   "mimetype": "text/x-python",
   "name": "python",
   "nbconvert_exporter": "python",
   "pygments_lexer": "ipython3",
   "version": "3.11.6"
  }
 },
 "nbformat": 4,
 "nbformat_minor": 5
}
