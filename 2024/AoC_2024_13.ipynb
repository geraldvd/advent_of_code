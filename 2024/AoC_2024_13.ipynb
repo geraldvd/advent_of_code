{
 "cells": [
  {
   "cell_type": "code",
   "execution_count": 1,
   "id": "63577cbd-0f77-4013-9933-e60802ed78c1",
   "metadata": {
    "execution": {
     "iopub.execute_input": "2024-12-13T11:05:29.911765Z",
     "iopub.status.busy": "2024-12-13T11:05:29.911646Z",
     "iopub.status.idle": "2024-12-13T11:05:29.962289Z",
     "shell.execute_reply": "2024-12-13T11:05:29.961992Z",
     "shell.execute_reply.started": "2024-12-13T11:05:29.911757Z"
    }
   },
   "outputs": [],
   "source": [
    "import numpy as np\n",
    "import re"
   ]
  },
  {
   "cell_type": "code",
   "execution_count": 2,
   "id": "72f9040a-5336-4839-8f7a-9cffacab75be",
   "metadata": {
    "execution": {
     "iopub.execute_input": "2024-12-13T11:05:29.964640Z",
     "iopub.status.busy": "2024-12-13T11:05:29.962751Z",
     "iopub.status.idle": "2024-12-13T11:05:29.966805Z",
     "shell.execute_reply": "2024-12-13T11:05:29.966509Z",
     "shell.execute_reply.started": "2024-12-13T11:05:29.964623Z"
    }
   },
   "outputs": [],
   "source": [
    "with open(\"input_13.txt\", \"r\") as fh:\n",
    "    content = fh.read()\n",
    "machines = content.split(\"\\n\\n\")"
   ]
  },
  {
   "cell_type": "code",
   "execution_count": 3,
   "id": "538036f3-d1df-4885-8c1a-7629f7c3d985",
   "metadata": {
    "execution": {
     "iopub.execute_input": "2024-12-13T11:05:29.969273Z",
     "iopub.status.busy": "2024-12-13T11:05:29.968255Z",
     "iopub.status.idle": "2024-12-13T11:05:29.984390Z",
     "shell.execute_reply": "2024-12-13T11:05:29.984111Z",
     "shell.execute_reply.started": "2024-12-13T11:05:29.969258Z"
    }
   },
   "outputs": [
    {
     "name": "stdout",
     "output_type": "stream",
     "text": [
      "13a: 27157\n",
      "13b: 104015411578548\n"
     ]
    }
   ],
   "source": [
    "total_tokens_13a = 0\n",
    "total_tokens_13b = 0\n",
    "numerical_error = 1e-2 # Note: this cannot be too small or too large\n",
    "question_13b_increment = 10000000000000\n",
    "for m in machines:\n",
    "    res = re.findall(r\"Button A: X\\+(\\d+), Y\\+(\\d+)\\nButton B: X\\+(\\d+), Y\\+(\\d+)\\nPrize: X=(\\d+), Y=(\\d+)\", m)[0]\n",
    "\n",
    "    # Solve as a Linear Algebra problem: y=Ax ==> P = M*button_presses ==> button_presses = M^(-1)*P\n",
    "    M = np.array([[int(res[0]), int(res[2])], [int(res[1]), int(res[3])]])\n",
    "    P = np.array([[int(res[4])], [int(res[5])]])\n",
    "    M_inv = np.linalg.inv(M)\n",
    "    button_presses_13a = np.dot(M_inv, P)\n",
    "    button_presses_13b = np.dot(M_inv, P+question_13b_increment)\n",
    "\n",
    "    # Check whether there is a solution (button presses need to be int)\n",
    "    # 13a\n",
    "    buttons_possible_13a = np.all(abs(np.round(button_presses_13a) - button_presses_13a) < numerical_error)    \n",
    "    if buttons_possible_13a:\n",
    "        total_tokens_13a += 3*button_presses_13a[0][0] + button_presses_13a[1][0]\n",
    "\n",
    "    # 13b\n",
    "    buttons_possible_13b = np.all(abs(np.round(button_presses_13b) - button_presses_13b) < numerical_error)\n",
    "    if buttons_possible_13b:\n",
    "        total_tokens_13b += 3*button_presses_13b[0][0] + button_presses_13b[1][0]\n",
    "print(\"13a:\", int(total_tokens_13a))\n",
    "print(\"13b:\", int(total_tokens_13b))"
   ]
  }
 ],
 "metadata": {
  "kernelspec": {
   "display_name": "Python 3 (ipykernel)",
   "language": "python",
   "name": "python3"
  },
  "language_info": {
   "codemirror_mode": {
    "name": "ipython",
    "version": 3
   },
   "file_extension": ".py",
   "mimetype": "text/x-python",
   "name": "python",
   "nbconvert_exporter": "python",
   "pygments_lexer": "ipython3",
   "version": "3.11.6"
  }
 },
 "nbformat": 4,
 "nbformat_minor": 5
}
