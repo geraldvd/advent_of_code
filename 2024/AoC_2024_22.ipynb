{
 "cells": [
  {
   "cell_type": "code",
   "execution_count": 1,
   "id": "18a0765b-e4c4-4174-9be6-e04b6bf352f2",
   "metadata": {
    "execution": {
     "iopub.execute_input": "2024-12-24T21:11:50.082679Z",
     "iopub.status.busy": "2024-12-24T21:11:50.082601Z",
     "iopub.status.idle": "2024-12-24T21:11:50.130996Z",
     "shell.execute_reply": "2024-12-24T21:11:50.130703Z",
     "shell.execute_reply.started": "2024-12-24T21:11:50.082670Z"
    }
   },
   "outputs": [],
   "source": [
    "import numpy as np"
   ]
  },
  {
   "cell_type": "code",
   "execution_count": 2,
   "id": "f930554a-5efd-44b5-a411-ef4b6dde545a",
   "metadata": {
    "execution": {
     "iopub.execute_input": "2024-12-24T21:11:50.131767Z",
     "iopub.status.busy": "2024-12-24T21:11:50.131399Z",
     "iopub.status.idle": "2024-12-24T21:11:50.134597Z",
     "shell.execute_reply": "2024-12-24T21:11:50.134310Z",
     "shell.execute_reply.started": "2024-12-24T21:11:50.131752Z"
    }
   },
   "outputs": [],
   "source": [
    "with open(\"input_22.txt\", \"r\") as fh:\n",
    "    initial_secrets = [int(s.strip()) for s in fh.readlines()]"
   ]
  },
  {
   "cell_type": "code",
   "execution_count": 3,
   "id": "c92614bc-5182-456d-aaed-8d8875c31589",
   "metadata": {
    "execution": {
     "iopub.execute_input": "2024-12-24T21:11:50.135944Z",
     "iopub.status.busy": "2024-12-24T21:11:50.135667Z",
     "iopub.status.idle": "2024-12-24T21:11:50.140073Z",
     "shell.execute_reply": "2024-12-24T21:11:50.139816Z",
     "shell.execute_reply.started": "2024-12-24T21:11:50.135931Z"
    }
   },
   "outputs": [],
   "source": [
    "def mix(secret, number):\n",
    "    return number ^ secret\n",
    "\n",
    "def prune(secret):\n",
    "    return secret % 16777216\n",
    "\n",
    "def next_secret(secret):\n",
    "    secret = prune(mix(secret, 64*secret))\n",
    "    secret = prune(mix(secret, int(secret/32)))\n",
    "    return prune(mix(secret, 2048*secret))"
   ]
  },
  {
   "cell_type": "code",
   "execution_count": 4,
   "id": "33b5818e-14ee-46f1-be14-0e075e5dcef2",
   "metadata": {
    "execution": {
     "iopub.execute_input": "2024-12-24T21:11:50.140601Z",
     "iopub.status.busy": "2024-12-24T21:11:50.140490Z",
     "iopub.status.idle": "2024-12-24T21:11:50.930872Z",
     "shell.execute_reply": "2024-12-24T21:11:50.930099Z",
     "shell.execute_reply.started": "2024-12-24T21:11:50.140589Z"
    }
   },
   "outputs": [
    {
     "name": "stdout",
     "output_type": "stream",
     "text": [
      "22a: 13004408787\n"
     ]
    }
   ],
   "source": [
    "# 22a\n",
    "sum_2000th = 0\n",
    "for secret in initial_secrets:\n",
    "    for i in range(2000):\n",
    "        secret = next_secret(secret)\n",
    "    sum_2000th += secret\n",
    "print(\"22a:\", sum_2000th)"
   ]
  },
  {
   "cell_type": "code",
   "execution_count": 5,
   "id": "48cea5df-a0e3-4024-becd-b83fa8cae48d",
   "metadata": {
    "execution": {
     "iopub.execute_input": "2024-12-24T21:11:50.931439Z",
     "iopub.status.busy": "2024-12-24T21:11:50.931352Z",
     "iopub.status.idle": "2024-12-24T21:11:58.209905Z",
     "shell.execute_reply": "2024-12-24T21:11:58.209588Z",
     "shell.execute_reply.started": "2024-12-24T21:11:50.931430Z"
    }
   },
   "outputs": [
    {
     "name": "stdout",
     "output_type": "stream",
     "text": [
      "22b: 1455.0\n"
     ]
    }
   ],
   "source": [
    "# 22b\n",
    "num_secrets = 2000\n",
    "prices = np.zeros((len(initial_secrets), num_secrets))\n",
    "deltas = np.zeros((len(initial_secrets), num_secrets-1))\n",
    "patterns = {}\n",
    "for i, secret in enumerate(initial_secrets):\n",
    "    for j in range(num_secrets):\n",
    "        prices[i, j] = secret % 10\n",
    "        if j >= 1:\n",
    "            # Calculate current price minus previous, when second price is known\n",
    "            deltas[i, j-1] = prices[i, j] - prices[i, j-1]\n",
    "        if j >= 4:\n",
    "            # Whenever there are 4 deltas, start storing patterns of 4\n",
    "            td = tuple(deltas[i, j-4:j])\n",
    "            if td not in patterns:\n",
    "                patterns[td] = [None] * len(initial_secrets)\n",
    "            if patterns[td][i] is None:\n",
    "                # Only first occurence of pattern will be stored\n",
    "                patterns[td][i] = prices[i, j]\n",
    "        secret = next_secret(secret)\n",
    "\n",
    "pattern_sums = {}\n",
    "for k in patterns:\n",
    "    pattern_sums[k] = sum([p for p in patterns[k] if p])\n",
    "print(\"22b:\", max(pattern_sums.values()))"
   ]
  }
 ],
 "metadata": {
  "kernelspec": {
   "display_name": "Python 3 (ipykernel)",
   "language": "python",
   "name": "python3"
  },
  "language_info": {
   "codemirror_mode": {
    "name": "ipython",
    "version": 3
   },
   "file_extension": ".py",
   "mimetype": "text/x-python",
   "name": "python",
   "nbconvert_exporter": "python",
   "pygments_lexer": "ipython3",
   "version": "3.11.6"
  }
 },
 "nbformat": 4,
 "nbformat_minor": 5
}
