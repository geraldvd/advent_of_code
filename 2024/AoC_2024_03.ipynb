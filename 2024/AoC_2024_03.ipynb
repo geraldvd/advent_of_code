{
 "cells": [
  {
   "cell_type": "code",
   "execution_count": 1,
   "id": "fb168a83-0b98-4263-bd05-021874425879",
   "metadata": {
    "execution": {
     "iopub.execute_input": "2024-12-03T16:58:25.615541Z",
     "iopub.status.busy": "2024-12-03T16:58:25.615419Z",
     "iopub.status.idle": "2024-12-03T16:58:25.663487Z",
     "shell.execute_reply": "2024-12-03T16:58:25.663209Z",
     "shell.execute_reply.started": "2024-12-03T16:58:25.615532Z"
    }
   },
   "outputs": [],
   "source": [
    "import re\n",
    "import numpy as np"
   ]
  },
  {
   "cell_type": "code",
   "execution_count": 2,
   "id": "6bb03275-c017-4210-9cfe-347548bb37f7",
   "metadata": {
    "execution": {
     "iopub.execute_input": "2024-12-03T16:58:25.664227Z",
     "iopub.status.busy": "2024-12-03T16:58:25.664009Z",
     "iopub.status.idle": "2024-12-03T16:58:25.666522Z",
     "shell.execute_reply": "2024-12-03T16:58:25.666196Z",
     "shell.execute_reply.started": "2024-12-03T16:58:25.664214Z"
    }
   },
   "outputs": [],
   "source": [
    "with open(\"input_03.txt\", \"r\") as fh:\n",
    "    content = fh.readlines()\n",
    "content = \"\".join(content)"
   ]
  },
  {
   "cell_type": "code",
   "execution_count": 3,
   "id": "b91a45f6-799b-4990-82ab-1c9b2d295b66",
   "metadata": {
    "execution": {
     "iopub.execute_input": "2024-12-03T16:58:25.668359Z",
     "iopub.status.busy": "2024-12-03T16:58:25.668236Z",
     "iopub.status.idle": "2024-12-03T16:58:25.674542Z",
     "shell.execute_reply": "2024-12-03T16:58:25.674255Z",
     "shell.execute_reply.started": "2024-12-03T16:58:25.668347Z"
    }
   },
   "outputs": [
    {
     "name": "stdout",
     "output_type": "stream",
     "text": [
      "3a: 165225049\n"
     ]
    }
   ],
   "source": [
    "mult_sum = sum([int(t[0])*int(t[1]) for t in re.findall(r\"mul\\((\\d{1,3}),(\\d{1,3})\\)\", content)])\n",
    "print(\"3a:\", mult_sum)"
   ]
  },
  {
   "cell_type": "code",
   "execution_count": 4,
   "id": "f2804fb5-10a1-451c-bf3a-d82558b54f67",
   "metadata": {
    "execution": {
     "iopub.execute_input": "2024-12-03T16:58:25.675193Z",
     "iopub.status.busy": "2024-12-03T16:58:25.674992Z",
     "iopub.status.idle": "2024-12-03T16:58:25.682316Z",
     "shell.execute_reply": "2024-12-03T16:58:25.681791Z",
     "shell.execute_reply.started": "2024-12-03T16:58:25.675180Z"
    }
   },
   "outputs": [
    {
     "name": "stdout",
     "output_type": "stream",
     "text": [
      "3b: 108830766\n"
     ]
    }
   ],
   "source": [
    "all_matches = re.findall(r\"(do\\(\\))|(don't\\(\\))|mul\\((\\d{1,3}),(\\d{1,3})\\)\", content)\n",
    "mult_sum = 0\n",
    "mult_enabled = True\n",
    "for m in all_matches:\n",
    "    if m[0] == \"do()\":\n",
    "        mult_enabled = True\n",
    "    elif m[1] == \"don't()\":\n",
    "        mult_enabled = False\n",
    "    elif mult_enabled:\n",
    "        mult_sum += int(m[2]) * int(m[3])\n",
    "print(\"3b:\", mult_sum)"
   ]
  }
 ],
 "metadata": {
  "kernelspec": {
   "display_name": "Python 3 (ipykernel)",
   "language": "python",
   "name": "python3"
  },
  "language_info": {
   "codemirror_mode": {
    "name": "ipython",
    "version": 3
   },
   "file_extension": ".py",
   "mimetype": "text/x-python",
   "name": "python",
   "nbconvert_exporter": "python",
   "pygments_lexer": "ipython3",
   "version": "3.11.6"
  }
 },
 "nbformat": 4,
 "nbformat_minor": 5
}
