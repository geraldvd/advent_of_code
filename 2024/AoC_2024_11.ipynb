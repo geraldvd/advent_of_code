{
 "cells": [
  {
   "cell_type": "code",
   "execution_count": 1,
   "id": "2f4ccadb-ed10-4c8c-9367-a75c2483d1a2",
   "metadata": {
    "execution": {
     "iopub.execute_input": "2024-12-14T08:52:15.925353Z",
     "iopub.status.busy": "2024-12-14T08:52:15.925279Z",
     "iopub.status.idle": "2024-12-14T08:52:15.926850Z",
     "shell.execute_reply": "2024-12-14T08:52:15.926679Z",
     "shell.execute_reply.started": "2024-12-14T08:52:15.925344Z"
    }
   },
   "outputs": [],
   "source": [
    "import time\n",
    "import math"
   ]
  },
  {
   "cell_type": "code",
   "execution_count": 2,
   "id": "ef81ae4f-5bd9-47cd-bb5f-f63f5888f92f",
   "metadata": {
    "execution": {
     "iopub.execute_input": "2024-12-14T08:52:15.927162Z",
     "iopub.status.busy": "2024-12-14T08:52:15.927087Z",
     "iopub.status.idle": "2024-12-14T08:52:15.944211Z",
     "shell.execute_reply": "2024-12-14T08:52:15.944014Z",
     "shell.execute_reply.started": "2024-12-14T08:52:15.927154Z"
    }
   },
   "outputs": [
    {
     "data": {
      "text/plain": [
       "[2, 72, 8949, 0, 981038, 86311, 246, 7636740]"
      ]
     },
     "execution_count": 2,
     "metadata": {},
     "output_type": "execute_result"
    }
   ],
   "source": [
    "with open(\"input_11.txt\", \"r\") as fh:\n",
    "    stones = [int(s) for s in fh.read().split(\" \")]\n",
    "stones"
   ]
  },
  {
   "cell_type": "code",
   "execution_count": 3,
   "id": "a8ed1f0c-72cd-4b4e-ab2f-7c97a5ea2f28",
   "metadata": {
    "execution": {
     "iopub.execute_input": "2024-12-14T08:52:15.944620Z",
     "iopub.status.busy": "2024-12-14T08:52:15.944534Z",
     "iopub.status.idle": "2024-12-14T08:52:16.021412Z",
     "shell.execute_reply": "2024-12-14T08:52:16.021184Z",
     "shell.execute_reply.started": "2024-12-14T08:52:15.944612Z"
    }
   },
   "outputs": [
    {
     "name": "stdout",
     "output_type": "stream",
     "text": [
      "11a: 202019 (in: 0.07095098495483398 sec)\n"
     ]
    }
   ],
   "source": [
    "# 11a - brute force method\n",
    "def blink_stone(stone, num=0, max_num=25):\n",
    "    global total_stones\n",
    "    # Keep splitting until max blink count (max_blink) is reache\n",
    "    if num < max_num:\n",
    "        # Apply the rules on 1 stone, and store resulting stone(s) in new_stones\n",
    "        num_digits = int(math.log10(stone) + 1) if stone > 9 else 1\n",
    "        if stone == 0:\n",
    "            blink_stone(1, num+1, max_num)\n",
    "        elif num_digits % 2 == 0:\n",
    "            divisor = 10**(num_digits/2)\n",
    "            first_half = int(stone/divisor)\n",
    "            second_half = int(stone - first_half * divisor)\n",
    "            blink_stone(first_half, num+1, max_num)\n",
    "            blink_stone(second_half, num+1, max_num)\n",
    "            total_stones += 1\n",
    "        else:\n",
    "            blink_stone(2024*stone, num+1, max_num)\n",
    "\n",
    "t0 = time.time()\n",
    "total_stones = len(stones)\n",
    "for s in stones:\n",
    "    blink_stone(s, 0, 25)\n",
    "print(f\"11a: {total_stones} (in: {time.time() - t0} sec)\")"
   ]
  },
  {
   "cell_type": "code",
   "execution_count": 4,
   "id": "552afc28-363d-432a-91c8-7acfdf5eeeaa",
   "metadata": {
    "execution": {
     "iopub.execute_input": "2024-12-14T08:52:16.021835Z",
     "iopub.status.busy": "2024-12-14T08:52:16.021749Z",
     "iopub.status.idle": "2024-12-14T08:52:16.077116Z",
     "shell.execute_reply": "2024-12-14T08:52:16.076722Z",
     "shell.execute_reply.started": "2024-12-14T08:52:16.021826Z"
    }
   },
   "outputs": [
    {
     "name": "stdout",
     "output_type": "stream",
     "text": [
      "11a: 239321955280205 (in: 0.051819801330566406 sec)\n"
     ]
    }
   ],
   "source": [
    "# 11b - ignoring sequence and using a hash_map of all unique stones\n",
    "def apply_stone_rules(stone):\n",
    "    num_digits = int(math.log10(stone) + 1) if stone > 9 else 1\n",
    "    if stone == 0:\n",
    "        new_stones = [1]\n",
    "        num_added_stones = 0\n",
    "    elif num_digits % 2 == 0:\n",
    "        divisor = 10**(num_digits/2)\n",
    "        first_half = int(stone/divisor)\n",
    "        second_half = int(stone - first_half * divisor)\n",
    "        new_stones = [first_half, second_half]\n",
    "        num_added_stones = 1\n",
    "    else:\n",
    "        new_stones = [2024*stone]\n",
    "        num_added_stones = 0\n",
    "    return new_stones, num_added_stones\n",
    "\n",
    "def blink_hash_map(stone_map):\n",
    "    output_map = {}\n",
    "    for s in stone_map:\n",
    "        new_stones, num_added_stones = apply_stone_rules(s)\n",
    "        for ns in new_stones:\n",
    "            if ns in output_map:\n",
    "                output_map[ns] += stone_map[s]\n",
    "            else:\n",
    "                output_map[ns] = stone_map[s]\n",
    "    return output_map\n",
    "\n",
    "t0 = time.time()\n",
    "stone_map = {k:1 for k in stones}\n",
    "for blink in range(75):\n",
    "    stone_map = blink_hash_map(stone_map)\n",
    "print(f\"11a: {sum(stone_map.values())} (in: {time.time() - t0} sec)\")"
   ]
  }
 ],
 "metadata": {
  "kernelspec": {
   "display_name": "Python 3 (ipykernel)",
   "language": "python",
   "name": "python3"
  },
  "language_info": {
   "codemirror_mode": {
    "name": "ipython",
    "version": 3
   },
   "file_extension": ".py",
   "mimetype": "text/x-python",
   "name": "python",
   "nbconvert_exporter": "python",
   "pygments_lexer": "ipython3",
   "version": "3.11.6"
  }
 },
 "nbformat": 4,
 "nbformat_minor": 5
}
