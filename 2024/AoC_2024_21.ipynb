{
 "cells": [
  {
   "cell_type": "code",
   "execution_count": 1,
   "id": "42968b5b-2608-4c2a-8060-9c5e82b147fc",
   "metadata": {
    "execution": {
     "iopub.execute_input": "2025-01-04T12:25:17.824944Z",
     "iopub.status.busy": "2025-01-04T12:25:17.824829Z",
     "iopub.status.idle": "2025-01-04T12:25:17.888569Z",
     "shell.execute_reply": "2025-01-04T12:25:17.888288Z",
     "shell.execute_reply.started": "2025-01-04T12:25:17.824936Z"
    }
   },
   "outputs": [],
   "source": [
    "import numpy as np\n",
    "import re\n",
    "from itertools import permutations\n",
    "import time"
   ]
  },
  {
   "cell_type": "code",
   "execution_count": 2,
   "id": "8f543fd5-8dc8-4d8f-aef5-c614128de06d",
   "metadata": {
    "execution": {
     "iopub.execute_input": "2025-01-04T12:25:17.890766Z",
     "iopub.status.busy": "2025-01-04T12:25:17.889924Z",
     "iopub.status.idle": "2025-01-04T12:25:17.895986Z",
     "shell.execute_reply": "2025-01-04T12:25:17.895682Z",
     "shell.execute_reply.started": "2025-01-04T12:25:17.890750Z"
    }
   },
   "outputs": [
    {
     "data": {
      "text/plain": [
       "['129A', '974A', '805A', '671A', '386A']"
      ]
     },
     "execution_count": 2,
     "metadata": {},
     "output_type": "execute_result"
    }
   ],
   "source": [
    "with open(\"input_21.txt\", \"r\") as fh:\n",
    "    sequences = [s.strip() for s in fh.readlines()]\n",
    "sequences"
   ]
  },
  {
   "cell_type": "code",
   "execution_count": 3,
   "id": "7851ee20-e2f7-46ac-b6b2-b553cc261035",
   "metadata": {
    "execution": {
     "iopub.execute_input": "2025-01-04T12:25:17.897045Z",
     "iopub.status.busy": "2025-01-04T12:25:17.896935Z",
     "iopub.status.idle": "2025-01-04T12:25:17.908553Z",
     "shell.execute_reply": "2025-01-04T12:25:17.908292Z",
     "shell.execute_reply.started": "2025-01-04T12:25:17.897034Z"
    }
   },
   "outputs": [],
   "source": [
    "num_coordinates = {\n",
    "    'A': (3,2),\n",
    "    '0': (3,1),\n",
    "    '1': (2,0),\n",
    "    '2': (2,1),\n",
    "    '3': (2,2),\n",
    "    '4': (1,0),\n",
    "    '5': (1,1),\n",
    "    '6': (1,2),\n",
    "    '7': (0,0),\n",
    "    '8': (0,1),\n",
    "    '9': (0,2),\n",
    "}\n",
    "\n",
    "arrow_coordinates = {\n",
    "    'A': (0, 2),\n",
    "    '^': (0, 1),\n",
    "    'v': (1, 1),\n",
    "    '<': (1, 0),\n",
    "    '>': (1, 2)\n",
    "}\n",
    "\n",
    "\n",
    "def step_on_numpad(from_btn, to_btn):\n",
    "    '''Find single (not only) optimal step through numpad'''\n",
    "    from_coord = num_coordinates[from_btn]\n",
    "    to_coord = num_coordinates[to_btn]\n",
    "    r_steps, c_steps = to_coord[0]-from_coord[0], to_coord[1]-from_coord[1]\n",
    "    sequence = []\n",
    "\n",
    "    if r_steps < 0:\n",
    "        # First up\n",
    "        for i in range(-r_steps):\n",
    "            sequence.append(\"^\")\n",
    "        # Then left or right\n",
    "        for i in range(abs(c_steps)):\n",
    "            sequence.append(\"<\" if c_steps < 0 else \">\")\n",
    "    else:\n",
    "        # First left or right\n",
    "        for i in range(abs(c_steps)):\n",
    "            sequence.append(\"<\" if c_steps < 0 else \">\")\n",
    "        # Then down\n",
    "        for i in range(r_steps):\n",
    "            sequence.append(\"v\")\n",
    "    sequence.append(\"A\")\n",
    "    return sequence\n",
    "\n",
    "\n",
    "def step_on_arrowpad(from_btn, to_btn):\n",
    "    '''Find single (not only) optimal step through arrow pad'''\n",
    "    from_coord = arrow_coordinates[from_btn]\n",
    "    to_coord = arrow_coordinates[to_btn]\n",
    "    r_steps, c_steps = to_coord[0]-from_coord[0], to_coord[1]-from_coord[1]\n",
    "    sequence = []\n",
    "\n",
    "    if r_steps >= 0:\n",
    "        # First down\n",
    "        for i in range(abs(r_steps)):\n",
    "            sequence.append(\"v\")\n",
    "        # Then left or right\n",
    "        for i in range(abs(c_steps)):\n",
    "            sequence.append(\"<\" if c_steps < 0 else \">\")\n",
    "    else:\n",
    "        # First left or right\n",
    "        for i in range(abs(c_steps)):\n",
    "            sequence.append(\"<\" if c_steps < 0 else \">\")\n",
    "        # Then up\n",
    "        for i in range(abs(r_steps)):\n",
    "            sequence.append(\"^\")\n",
    "    sequence.append(\"A\")\n",
    "    return sequence\n",
    "\n",
    "\n",
    "def convert_sequence(seq, numeric_pad=True):\n",
    "    '''Find single (not only) optimal solution of sequence on one of the pads.'''\n",
    "    seq_out = []\n",
    "    seq = [\"A\"] + list(seq)\n",
    "    for i in range(len(seq)-1):\n",
    "        seq_out += step_on_numpad(seq[i], seq[i+1]) if numeric_pad else step_on_arrowpad(seq[i], seq[i+1])\n",
    "\n",
    "    return \"\".join(seq_out)\n",
    "\n",
    "\n",
    "def get_legal_solutions(seq, numeric_pad=True):\n",
    "    '''Get all legal optimal solutions of a sequence.'''\n",
    "    # Calculate first solution\n",
    "    seq = convert_sequence(seq, numeric_pad)\n",
    "    \n",
    "    # Get all possible solutions\n",
    "    perms = [list(permutations(s)) for s in seq.split(\"A\")]\n",
    "    all_solutions = set()\n",
    "    for p in perms:\n",
    "        temp_solutions = set()\n",
    "        for pi in p:\n",
    "            if not len(all_solutions):\n",
    "                temp_solutions.add(\"\".join(pi) + \"A\")\n",
    "            else:\n",
    "                for s in all_solutions:\n",
    "                    temp_solutions.add(s + \"\".join(pi) + \"A\")\n",
    "        all_solutions = temp_solutions.copy()\n",
    "\n",
    "    # Check if solution is legal\n",
    "    if numeric_pad:\n",
    "        start_loc = (3, 2)\n",
    "        forbidden_loc = (3, 0)\n",
    "    else:\n",
    "        start_loc = (0, 2)\n",
    "        forbidden_loc = (0, 0)\n",
    "    legal_solutions = []\n",
    "    for solution in all_solutions:\n",
    "        legal = True\n",
    "        r_loc, c_loc = start_loc\n",
    "        for c in solution:\n",
    "            match(c):\n",
    "                case \"v\": r_loc += 1\n",
    "                case \"^\": r_loc -= 1\n",
    "                case \"<\": c_loc -= 1\n",
    "                case \">\": c_loc += 1\n",
    "            if (r_loc, c_loc) == forbidden_loc:\n",
    "                legal = False\n",
    "                break\n",
    "        if legal:\n",
    "            legal_solutions.append(solution[:-1]) # trailing A should be removed\n",
    "    \n",
    "    return legal_solutions"
   ]
  },
  {
   "cell_type": "code",
   "execution_count": 4,
   "id": "2d7b3c27-467d-43f7-96e7-319ac0a59230",
   "metadata": {
    "execution": {
     "iopub.execute_input": "2025-01-04T12:25:17.910618Z",
     "iopub.status.busy": "2025-01-04T12:25:17.909760Z",
     "iopub.status.idle": "2025-01-04T12:25:17.939569Z",
     "shell.execute_reply": "2025-01-04T12:25:17.939142Z",
     "shell.execute_reply.started": "2025-01-04T12:25:17.910603Z"
    }
   },
   "outputs": [
    {
     "name": "stdout",
     "output_type": "stream",
     "text": [
      "21a: 213536\n"
     ]
    }
   ],
   "source": [
    "# 21a\n",
    "sum_complexities = 0\n",
    "for sequence in sequences:\n",
    "    # Calculate initial sequences\n",
    "    seqs = get_legal_solutions(sequence, True)\n",
    "    # Calculate second sequences\n",
    "    new_seqs = []\n",
    "    for s in seqs:\n",
    "        new_seqs += get_legal_solutions(s, False)\n",
    "    seqs = new_seqs.copy()\n",
    "    # Calculate third sequences\n",
    "    lengths = [len(convert_sequence(s, False)) for s in seqs]\n",
    "    \n",
    "    # Calculate complexity\n",
    "    numeric_part = int(re.findall(r\"(\\d+)\", sequence)[0])\n",
    "    sum_complexities += numeric_part * min(lengths)\n",
    "print(\"21a:\", sum_complexities)"
   ]
  },
  {
   "cell_type": "code",
   "execution_count": 5,
   "id": "17d0ec2e-c0b9-41e9-968d-c8632e3fce1c",
   "metadata": {
    "execution": {
     "iopub.execute_input": "2025-01-04T12:25:17.939998Z",
     "iopub.status.busy": "2025-01-04T12:25:17.939869Z",
     "iopub.status.idle": "2025-01-04T12:25:17.944328Z",
     "shell.execute_reply": "2025-01-04T12:25:17.944127Z",
     "shell.execute_reply.started": "2025-01-04T12:25:17.939985Z"
    }
   },
   "outputs": [],
   "source": [
    "# 21b - functions\n",
    "# Format: k=(from, to), v=possible paths\n",
    "arrow_paths = {\n",
    "    (\"A\", \"A\"): [\"A\"],\n",
    "    (\"A\", \"<\"): [\"v<<A\", \"<v<A\"],\n",
    "    (\"A\", \">\"): [\"vA\"],\n",
    "    (\"A\", \"^\"): [\"<A\"],\n",
    "    (\"A\", \"v\"): [\"v<A\", \"<vA\"],\n",
    "    (\"<\", \"A\"): [\">>^A\", \">^>A\"],\n",
    "    (\"<\", \"<\"): [\"A\"],\n",
    "    (\"<\", \">\"): [\">>A\"], # longer route possible\n",
    "    (\"<\", \"^\"): [\">^A\"], # longer route possible\n",
    "    (\"<\", \"v\"): [\">A\"],\n",
    "    (\">\", \"A\"): [\"^A\"],\n",
    "    (\">\", \"<\"): [\"<<A\"],\n",
    "    (\">\", \">\"): [\"A\"],\n",
    "    (\">\", \"^\"): [\"^<A\", \"<^A\"],\n",
    "    (\">\", \"v\"): [\"<A\"],\n",
    "    (\"^\", \"A\"): [\">A\"],\n",
    "    (\"^\", \"<\"): [\"v<A\"],\n",
    "    (\"^\", \">\"): [\">vA\", \"v>A\"],\n",
    "    (\"^\", \"^\"): [\"A\"],\n",
    "    (\"^\", \"v\"): [\"vA\"],\n",
    "    (\"v\", \"A\"): [\">^A\", \"^>A\"],\n",
    "    (\"v\", \"<\"): [\"<A\"],\n",
    "    (\"v\", \">\"): [\">A\"],\n",
    "    (\"v\", \"^\"): [\"^A\"],\n",
    "    (\"v\", \"v\"): [\"A\"],\n",
    "}\n",
    "\n",
    "# Compose all possible best arrow paths, since one will be most optimal\n",
    "arrow_path_combinations = [{}]\n",
    "for k in arrow_paths:\n",
    "    if len(arrow_paths[k]) == 1:\n",
    "        for apc in arrow_path_combinations:\n",
    "            apc[k] = arrow_paths[k][0]\n",
    "    elif len(arrow_paths[k]) == 2:\n",
    "        new_arrow_path_combinations = []\n",
    "        for apc in arrow_path_combinations:\n",
    "            apc1 = apc.copy()\n",
    "            apc2 = apc.copy()\n",
    "            apc1[k] = arrow_paths[k][0]\n",
    "            apc2[k] = arrow_paths[k][1]\n",
    "            new_arrow_path_combinations.append(apc1)\n",
    "            new_arrow_path_combinations.append(apc2)\n",
    "        arrow_path_combinations = new_arrow_path_combinations.copy()\n",
    "    else:\n",
    "        print(\"This should never happen.\")\n",
    "\n",
    "def create_seq_map(seq, arrow_path):\n",
    "    '''Convert sequence into its hash map of counts'''\n",
    "    seq = \"A\" + seq\n",
    "    seq_dict = {}\n",
    "    for i, _ in enumerate(seq[:-1]):\n",
    "        new_s = arrow_path[(seq[i], seq[i+1])]\n",
    "        if new_s not in seq_dict:\n",
    "            seq_dict[new_s] = 1\n",
    "        else:\n",
    "            seq_dict[new_s] += 1\n",
    "    return seq_dict\n",
    "\n",
    "\n",
    "def iterate_seq_map(seq_dict, arrow_path):\n",
    "    '''Go through each string in a hash map and create new seq map, and then combine.'''\n",
    "    output_seq_dict = {}\n",
    "    for seq in seq_dict:\n",
    "        new_seq_map = create_seq_map(seq, arrow_path)\n",
    "        for k in new_seq_map:\n",
    "            if k not in output_seq_dict:\n",
    "                output_seq_dict[k] = 0\n",
    "            output_seq_dict[k] += seq_dict[seq] * new_seq_map[k]\n",
    "    return output_seq_dict"
   ]
  },
  {
   "cell_type": "code",
   "execution_count": 6,
   "id": "7f90fdbb-1457-4dd8-a9b0-215494393d9a",
   "metadata": {
    "execution": {
     "iopub.execute_input": "2025-01-04T12:25:17.944822Z",
     "iopub.status.busy": "2025-01-04T12:25:17.944681Z",
     "iopub.status.idle": "2025-01-04T12:25:18.352789Z",
     "shell.execute_reply": "2025-01-04T12:25:18.352475Z",
     "shell.execute_reply.started": "2025-01-04T12:25:17.944814Z"
    }
   },
   "outputs": [
    {
     "name": "stdout",
     "output_type": "stream",
     "text": [
      "129A 129 90594397580\n",
      "974A 974 85006969638\n",
      "805A 805 86475783012\n",
      "671A 671 90750571882\n",
      "386A 386 86475783008\n",
      "21b: 258369757013802  in 0.4017040729522705 sec.\n"
     ]
    }
   ],
   "source": [
    "# 21b\n",
    "t0 = time.time()\n",
    "sum_complexities = 0\n",
    "min_keypresses = {} # Format: k=(robot id, from, to), v=minimum key strokes\n",
    "for sequence in sequences:\n",
    "    min_length = -1\n",
    "    for ap in arrow_path_combinations:\n",
    "        # Calculate num pad sequences\n",
    "        seqs = get_legal_solutions(sequence, True)\n",
    "\n",
    "        # Using hash map to come up with combinations\n",
    "        for seq in seqs:\n",
    "            seq_dict = create_seq_map(seq, ap)\n",
    "\n",
    "            for _ in range(25):\n",
    "                seq_dict = iterate_seq_map(seq_dict, ap)\n",
    "\n",
    "            total_length = sum(seq_dict.values())\n",
    "\n",
    "            if total_length < min_length or min_length < 0:\n",
    "                min_length = total_length\n",
    "    \n",
    "    # Calculate complexity\n",
    "    numeric_part = int(re.findall(r\"(\\d+)\", sequence)[0])\n",
    "    sum_complexities += numeric_part * min_length\n",
    "    print(sequence, numeric_part, min_length)\n",
    "print(\"21b:\", sum_complexities, f\" in {time.time() - t0} sec.\")"
   ]
  }
 ],
 "metadata": {
  "kernelspec": {
   "display_name": "Python 3 (ipykernel)",
   "language": "python",
   "name": "python3"
  },
  "language_info": {
   "codemirror_mode": {
    "name": "ipython",
    "version": 3
   },
   "file_extension": ".py",
   "mimetype": "text/x-python",
   "name": "python",
   "nbconvert_exporter": "python",
   "pygments_lexer": "ipython3",
   "version": "3.11.6"
  }
 },
 "nbformat": 4,
 "nbformat_minor": 5
}
