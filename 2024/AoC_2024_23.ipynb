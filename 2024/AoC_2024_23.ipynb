{
 "cells": [
  {
   "cell_type": "code",
   "execution_count": 1,
   "id": "70ce362a-30d6-49a3-95aa-08334a962728",
   "metadata": {
    "execution": {
     "iopub.execute_input": "2024-12-25T10:22:47.751491Z",
     "iopub.status.busy": "2024-12-25T10:22:47.751340Z",
     "iopub.status.idle": "2024-12-25T10:22:47.805900Z",
     "shell.execute_reply": "2024-12-25T10:22:47.805544Z",
     "shell.execute_reply.started": "2024-12-25T10:22:47.751482Z"
    }
   },
   "outputs": [],
   "source": [
    "import numpy as np"
   ]
  },
  {
   "cell_type": "code",
   "execution_count": 2,
   "id": "d96e2922-81dd-4b4f-af5b-7b1fc4bbb0a8",
   "metadata": {
    "execution": {
     "iopub.execute_input": "2024-12-25T10:22:47.806716Z",
     "iopub.status.busy": "2024-12-25T10:22:47.806551Z",
     "iopub.status.idle": "2024-12-25T10:22:47.810928Z",
     "shell.execute_reply": "2024-12-25T10:22:47.810658Z",
     "shell.execute_reply.started": "2024-12-25T10:22:47.806703Z"
    }
   },
   "outputs": [],
   "source": [
    "with open(\"input_23.txt\", \"r\") as fh:\n",
    "    connections = [tuple(c.strip().split(\"-\")) for c in fh.readlines()]"
   ]
  },
  {
   "cell_type": "code",
   "execution_count": 3,
   "id": "e4aeb120-506e-4f69-8595-4a6e70daf9db",
   "metadata": {
    "execution": {
     "iopub.execute_input": "2024-12-25T10:22:47.811692Z",
     "iopub.status.busy": "2024-12-25T10:22:47.811494Z",
     "iopub.status.idle": "2024-12-25T10:22:47.820137Z",
     "shell.execute_reply": "2024-12-25T10:22:47.819887Z",
     "shell.execute_reply.started": "2024-12-25T10:22:47.811679Z"
    }
   },
   "outputs": [],
   "source": [
    "conn_map = {}\n",
    "for c in connections:\n",
    "    for ci in c:\n",
    "        if c[0] not in conn_map:\n",
    "            conn_map[c[0]] = set()\n",
    "        if c[1] not in conn_map:\n",
    "            conn_map[c[1]] = set()\n",
    "        conn_map[c[0]].add(c[1])\n",
    "        conn_map[c[0]].add(c[0])\n",
    "        conn_map[c[1]].add(c[0])\n",
    "        conn_map[c[1]].add(c[1])"
   ]
  },
  {
   "cell_type": "code",
   "execution_count": 4,
   "id": "7af00e68-d3f8-48af-bba6-90c8fcd5e119",
   "metadata": {
    "execution": {
     "iopub.execute_input": "2024-12-25T10:22:47.822274Z",
     "iopub.status.busy": "2024-12-25T10:22:47.822156Z",
     "iopub.status.idle": "2024-12-25T10:22:47.973006Z",
     "shell.execute_reply": "2024-12-25T10:22:47.972582Z",
     "shell.execute_reply.started": "2024-12-25T10:22:47.822263Z"
    }
   },
   "outputs": [
    {
     "name": "stdout",
     "output_type": "stream",
     "text": [
      "23a: 1000\n"
     ]
    }
   ],
   "source": [
    "# 23a\n",
    "triples = set()\n",
    "for c in connections:\n",
    "    for k in conn_map:\n",
    "        if c[0] in conn_map[k] and c[1] in conn_map[k] and c[0] != k and c[1] != k:\n",
    "            triples.add(tuple(sorted([c[0], c[1], k])))\n",
    "\n",
    "counter_start_t = 0\n",
    "for t in triples:\n",
    "    t_start = False\n",
    "    for ti in t:\n",
    "        if ti[0] == \"t\":\n",
    "            t_start = True\n",
    "    if t_start:\n",
    "        counter_start_t += 1\n",
    "print(\"23a:\", counter_start_t)"
   ]
  },
  {
   "cell_type": "code",
   "execution_count": 5,
   "id": "41cebea4-8e47-46e2-8eb0-5492cb6c24af",
   "metadata": {
    "execution": {
     "iopub.execute_input": "2024-12-25T10:22:47.973428Z",
     "iopub.status.busy": "2024-12-25T10:22:47.973332Z",
     "iopub.status.idle": "2024-12-25T10:22:48.277213Z",
     "shell.execute_reply": "2024-12-25T10:22:48.276787Z",
     "shell.execute_reply.started": "2024-12-25T10:22:47.973419Z"
    }
   },
   "outputs": [
    {
     "name": "stdout",
     "output_type": "stream",
     "text": [
      "23b: cf,ct,cv,cz,fi,lq,my,pa,sl,tt,vw,wz,yd\n"
     ]
    }
   ],
   "source": [
    "# 23b\n",
    "multiples = set()\n",
    "for c1 in conn_map:\n",
    "    for c2 in conn_map:\n",
    "        if c1 == c2: continue\n",
    "        overlap = []\n",
    "        for c1i in conn_map[c1]:\n",
    "            if c1i in conn_map[c2]:\n",
    "                overlap.append(c1i)\n",
    "        if len(overlap) > 2:\n",
    "            # Some sequences were not actually fully overlapping, so validating that here.\n",
    "            true_overlap = True\n",
    "            for o1 in overlap:\n",
    "                for o2 in overlap:\n",
    "                    if o1 == o2: continue\n",
    "                    if o1 not in conn_map[o2] or o2 not in conn_map[o1]:\n",
    "                        true_overlap = False\n",
    "            if true_overlap:\n",
    "                multiples.add(tuple(sorted(overlap)))\n",
    "\n",
    "# Get the sequence of fully connected computers\n",
    "max_len = max([len(m) for m in multiples])\n",
    "passcode = set()\n",
    "for m in multiples:\n",
    "    if len(m) != max_len: continue\n",
    "    for mi in m:\n",
    "        passcode.add(mi)\n",
    "print(\"23b:\", \",\".join(sorted(passcode)))"
   ]
  }
 ],
 "metadata": {
  "kernelspec": {
   "display_name": "Python 3 (ipykernel)",
   "language": "python",
   "name": "python3"
  },
  "language_info": {
   "codemirror_mode": {
    "name": "ipython",
    "version": 3
   },
   "file_extension": ".py",
   "mimetype": "text/x-python",
   "name": "python",
   "nbconvert_exporter": "python",
   "pygments_lexer": "ipython3",
   "version": "3.11.6"
  }
 },
 "nbformat": 4,
 "nbformat_minor": 5
}
