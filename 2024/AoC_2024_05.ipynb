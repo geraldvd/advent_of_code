{
 "cells": [
  {
   "cell_type": "code",
   "execution_count": 1,
   "id": "20f44d6a-f49c-4a24-8c4f-9ac3a3c4d971",
   "metadata": {
    "execution": {
     "iopub.execute_input": "2024-12-05T12:32:27.925597Z",
     "iopub.status.busy": "2024-12-05T12:32:27.925431Z",
     "iopub.status.idle": "2024-12-05T12:32:27.928495Z",
     "shell.execute_reply": "2024-12-05T12:32:27.928077Z",
     "shell.execute_reply.started": "2024-12-05T12:32:27.925587Z"
    }
   },
   "outputs": [],
   "source": [
    "with open(\"input_05.txt\", \"r\") as fh:\n",
    "    content = fh.read()\n",
    "rules, updates = content.split(\"\\n\\n\")\n",
    "rules = [tuple([int(i) for i in r.split(\"|\")]) for r in rules.split(\"\\n\")]\n",
    "updates = [[int(i) for i in u.split(\",\")] for u in updates.strip().split(\"\\n\")]"
   ]
  },
  {
   "cell_type": "code",
   "execution_count": 2,
   "id": "2aa148cf-b99e-412b-b38c-c65af4886c8f",
   "metadata": {
    "execution": {
     "iopub.execute_input": "2024-12-05T12:32:27.929306Z",
     "iopub.status.busy": "2024-12-05T12:32:27.929103Z",
     "iopub.status.idle": "2024-12-05T12:32:27.970877Z",
     "shell.execute_reply": "2024-12-05T12:32:27.970575Z",
     "shell.execute_reply.started": "2024-12-05T12:32:27.929290Z"
    }
   },
   "outputs": [
    {
     "name": "stdout",
     "output_type": "stream",
     "text": [
      "5a: 4959\n"
     ]
    }
   ],
   "source": [
    "sum_valid_middle_pages = 0\n",
    "invalid_updates = []\n",
    "for u in updates:\n",
    "    update_valid = True\n",
    "    for r in rules:\n",
    "        if r[0] in u and r[1] in u:\n",
    "            idx0 = u.index(r[0])\n",
    "            idx1 = u.index(r[1])\n",
    "            if idx0 > idx1:\n",
    "                # invalid update\n",
    "                invalid_updates.append(u)\n",
    "                update_valid = False\n",
    "                break\n",
    "    if update_valid:\n",
    "        sum_valid_middle_pages += u[int((len(u)-1)/2)]\n",
    "\n",
    "print(\"5a:\", sum_valid_middle_pages)"
   ]
  },
  {
   "cell_type": "code",
   "execution_count": 3,
   "id": "c417d65d-22fb-418f-b3b9-3a45719f5663",
   "metadata": {
    "execution": {
     "iopub.execute_input": "2024-12-05T12:32:27.971816Z",
     "iopub.status.busy": "2024-12-05T12:32:27.971708Z",
     "iopub.status.idle": "2024-12-05T12:32:28.026168Z",
     "shell.execute_reply": "2024-12-05T12:32:28.025960Z",
     "shell.execute_reply.started": "2024-12-05T12:32:27.971807Z"
    }
   },
   "outputs": [
    {
     "name": "stdout",
     "output_type": "stream",
     "text": [
      "5b: 4655\n"
     ]
    }
   ],
   "source": [
    "sum_corrected_middle_pages = 0\n",
    "for u in invalid_updates:\n",
    "    repeat = True\n",
    "    while repeat:\n",
    "        repeat = False\n",
    "        for r in rules:\n",
    "            if r[0] in u and r[1] in u:\n",
    "                idx0 = u.index(r[0])\n",
    "                idx1 = u.index(r[1])\n",
    "                if idx0 > idx1:\n",
    "                    repeat = True\n",
    "                    u[idx0], u[idx1] = u[idx1], u[idx0]\n",
    "    sum_corrected_middle_pages += u[int((len(u)-1)/2)]\n",
    "print(\"5b:\", sum_corrected_middle_pages)"
   ]
  }
 ],
 "metadata": {
  "kernelspec": {
   "display_name": "Python 3 (ipykernel)",
   "language": "python",
   "name": "python3"
  },
  "language_info": {
   "codemirror_mode": {
    "name": "ipython",
    "version": 3
   },
   "file_extension": ".py",
   "mimetype": "text/x-python",
   "name": "python",
   "nbconvert_exporter": "python",
   "pygments_lexer": "ipython3",
   "version": "3.11.6"
  }
 },
 "nbformat": 4,
 "nbformat_minor": 5
}
