{
 "cells": [
  {
   "cell_type": "code",
   "execution_count": 1,
   "id": "91207ebf-b17f-4382-a8d3-ac85ac30e58f",
   "metadata": {
    "execution": {
     "iopub.execute_input": "2024-12-10T21:29:30.995974Z",
     "iopub.status.busy": "2024-12-10T21:29:30.995900Z",
     "iopub.status.idle": "2024-12-10T21:29:30.998093Z",
     "shell.execute_reply": "2024-12-10T21:29:30.997811Z",
     "shell.execute_reply.started": "2024-12-10T21:29:30.995966Z"
    }
   },
   "outputs": [],
   "source": [
    "with open(\"input_10.txt\", \"r\") as fh:\n",
    "    grid = [[int(i) for i in c.strip()] for c in fh.readlines()]"
   ]
  },
  {
   "cell_type": "code",
   "execution_count": 2,
   "id": "e8bfb417-c67c-4f60-8295-e9f62ceeb394",
   "metadata": {
    "execution": {
     "iopub.execute_input": "2024-12-10T21:29:30.998479Z",
     "iopub.status.busy": "2024-12-10T21:29:30.998401Z",
     "iopub.status.idle": "2024-12-10T21:29:31.015574Z",
     "shell.execute_reply": "2024-12-10T21:29:31.014955Z",
     "shell.execute_reply.started": "2024-12-10T21:29:30.998471Z"
    }
   },
   "outputs": [],
   "source": [
    "trailheads = []\n",
    "for i, r in enumerate(grid):\n",
    "    for j, c in enumerate(r):\n",
    "        if c == 0:\n",
    "            trailheads.append((i, j))"
   ]
  },
  {
   "cell_type": "code",
   "execution_count": 3,
   "id": "f7255e20-7923-4de4-a0aa-72282fb2b50f",
   "metadata": {
    "execution": {
     "iopub.execute_input": "2024-12-10T21:29:31.016309Z",
     "iopub.status.busy": "2024-12-10T21:29:31.016163Z",
     "iopub.status.idle": "2024-12-10T21:29:31.022516Z",
     "shell.execute_reply": "2024-12-10T21:29:31.022160Z",
     "shell.execute_reply.started": "2024-12-10T21:29:31.016290Z"
    }
   },
   "outputs": [],
   "source": [
    "def walk_trail(n, n_coord, trailhead):\n",
    "    global trails\n",
    "    if n == 9:\n",
    "        if trailhead not in trails.keys():\n",
    "            trails[trailhead] = []\n",
    "        trails[trailhead].append(n_coord)\n",
    "    # Loop through all coordinates around the current one and call same function\n",
    "    for i in range(n_coord[0]-1, n_coord[0]+2):\n",
    "        for j in range(n_coord[1]-1, n_coord[1]+2):\n",
    "            if abs((n_coord[0]-i) + (n_coord[1]-j)) == 1 and 0 <= i < len(grid) and 0 <= j < len(grid[0]):\n",
    "                if grid[i][j] == n + 1:\n",
    "                    walk_trail(grid[i][j], (i,j), trailhead)"
   ]
  },
  {
   "cell_type": "code",
   "execution_count": 4,
   "id": "879d105d-5016-4878-9f37-bdab4617118e",
   "metadata": {
    "execution": {
     "iopub.execute_input": "2024-12-10T21:29:31.023735Z",
     "iopub.status.busy": "2024-12-10T21:29:31.023580Z",
     "iopub.status.idle": "2024-12-10T21:29:31.039660Z",
     "shell.execute_reply": "2024-12-10T21:29:31.039456Z",
     "shell.execute_reply.started": "2024-12-10T21:29:31.023720Z"
    }
   },
   "outputs": [
    {
     "name": "stdout",
     "output_type": "stream",
     "text": [
      "10a: 798\n"
     ]
    }
   ],
   "source": [
    "# 7a\n",
    "trails = {}\n",
    "for t in trailheads:\n",
    "    walk_trail(0, t, t)\n",
    "trailhead_scores = sum([len(set(t)) for t in trails.values()])\n",
    "print(\"10a:\", trailhead_scores)"
   ]
  },
  {
   "cell_type": "code",
   "execution_count": 5,
   "id": "7f368ff7-78ae-415d-af90-ed71b8a50db8",
   "metadata": {
    "execution": {
     "iopub.execute_input": "2024-12-10T21:29:31.039996Z",
     "iopub.status.busy": "2024-12-10T21:29:31.039920Z",
     "iopub.status.idle": "2024-12-10T21:29:31.054334Z",
     "shell.execute_reply": "2024-12-10T21:29:31.054087Z",
     "shell.execute_reply.started": "2024-12-10T21:29:31.039988Z"
    }
   },
   "outputs": [
    {
     "name": "stdout",
     "output_type": "stream",
     "text": [
      "10b: 1816\n"
     ]
    }
   ],
   "source": [
    "# 7b\n",
    "trails = {}\n",
    "for t in trailheads:\n",
    "    walk_trail(0, t, t)\n",
    "trailhead_scores = sum([len(t) for t in trails.values()])\n",
    "print(\"10b:\", trailhead_scores)"
   ]
  }
 ],
 "metadata": {
  "kernelspec": {
   "display_name": "Python 3 (ipykernel)",
   "language": "python",
   "name": "python3"
  },
  "language_info": {
   "codemirror_mode": {
    "name": "ipython",
    "version": 3
   },
   "file_extension": ".py",
   "mimetype": "text/x-python",
   "name": "python",
   "nbconvert_exporter": "python",
   "pygments_lexer": "ipython3",
   "version": "3.11.6"
  }
 },
 "nbformat": 4,
 "nbformat_minor": 5
}
