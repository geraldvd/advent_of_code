{
 "cells": [
  {
   "cell_type": "code",
   "execution_count": 1,
   "id": "d5d575a6-0332-4e35-ba77-e194bf68e57f",
   "metadata": {
    "execution": {
     "iopub.execute_input": "2024-12-30T15:21:07.085780Z",
     "iopub.status.busy": "2024-12-30T15:21:07.085707Z",
     "iopub.status.idle": "2024-12-30T15:21:07.140993Z",
     "shell.execute_reply": "2024-12-30T15:21:07.140701Z",
     "shell.execute_reply.started": "2024-12-30T15:21:07.085772Z"
    }
   },
   "outputs": [],
   "source": [
    "import numpy as np\n",
    "import re\n",
    "import time\n",
    "import math"
   ]
  },
  {
   "cell_type": "code",
   "execution_count": 2,
   "id": "1badb5b7-1919-4c72-86ad-11d256ad803a",
   "metadata": {
    "execution": {
     "iopub.execute_input": "2024-12-30T15:21:07.143252Z",
     "iopub.status.busy": "2024-12-30T15:21:07.142456Z",
     "iopub.status.idle": "2024-12-30T15:21:07.145962Z",
     "shell.execute_reply": "2024-12-30T15:21:07.145695Z",
     "shell.execute_reply.started": "2024-12-30T15:21:07.143236Z"
    }
   },
   "outputs": [],
   "source": [
    "with open(\"input_17.txt\", \"r\") as fh:\n",
    "    content_registers, content_program = fh.read().split(\"\\n\\n\")"
   ]
  },
  {
   "cell_type": "code",
   "execution_count": 3,
   "id": "82ce8997-6cb6-4cc6-9a73-e93bdfc4c5da",
   "metadata": {
    "execution": {
     "iopub.execute_input": "2024-12-30T15:21:07.147846Z",
     "iopub.status.busy": "2024-12-30T15:21:07.147726Z",
     "iopub.status.idle": "2024-12-30T15:21:07.157761Z",
     "shell.execute_reply": "2024-12-30T15:21:07.157477Z",
     "shell.execute_reply.started": "2024-12-30T15:21:07.147833Z"
    }
   },
   "outputs": [
    {
     "data": {
      "text/plain": [
       "[2, 4, 1, 1, 7, 5, 0, 3, 1, 4, 4, 4, 5, 5, 3, 0]"
      ]
     },
     "execution_count": 3,
     "metadata": {},
     "output_type": "execute_result"
    }
   ],
   "source": [
    "A, B, C = [int(r) for r in re.findall(r\"(\\d+)\", content_registers)]\n",
    "program = [int(p) for p in re.findall(r\"(\\d)\", content_program)]\n",
    "program"
   ]
  },
  {
   "cell_type": "code",
   "execution_count": 4,
   "id": "132e98c2-93c1-4596-bb6e-2424054d8586",
   "metadata": {
    "execution": {
     "iopub.execute_input": "2024-12-30T15:21:07.158170Z",
     "iopub.status.busy": "2024-12-30T15:21:07.158065Z",
     "iopub.status.idle": "2024-12-30T15:21:07.166745Z",
     "shell.execute_reply": "2024-12-30T15:21:07.166477Z",
     "shell.execute_reply.started": "2024-12-30T15:21:07.158159Z"
    }
   },
   "outputs": [
    {
     "name": "stdout",
     "output_type": "stream",
     "text": [
      "17a: 6,1,6,4,2,4,7,3,5 in 0.00035190582275390625 sec.\n"
     ]
    }
   ],
   "source": [
    "# 17a\n",
    "t0 = time.time()\n",
    "def combo(operand, A, B, C):\n",
    "    if 0 <= operand <= 3:\n",
    "        return operand\n",
    "    match operand:\n",
    "        case 4: return A\n",
    "        case 5: return B\n",
    "        case 6: return C\n",
    "    print(\"Error: this should not be reached\")\n",
    "\n",
    "\n",
    "def interpret(program, A_input, B_input, C_input, with_print=False):\n",
    "    A = A_input\n",
    "    B = B_input\n",
    "    C = C_input\n",
    "    pointer = 0\n",
    "    output = []\n",
    "    \n",
    "    while pointer < len(program):\n",
    "        opcode, operand = program[pointer:pointer+2]\n",
    "    \n",
    "        match opcode:\n",
    "            case 0:\n",
    "                # adv\n",
    "                A = int(A / (2**combo(operand, A, B, C))) # 17b step 4: always: A / 8\n",
    "            case 1:\n",
    "                # bxl\n",
    "                B ^= operand # 17b step 2 and step 5: B LSB flipped (right most bit)\n",
    "            case 2:\n",
    "                # bst\n",
    "                B = combo(operand, A, B, C) % 8 # 17b step 1: B = A % 8 (i.e., B in range(000, 111))\n",
    "            case 3:\n",
    "                # jnz\n",
    "                if A != 0:\n",
    "                    pointer = operand - 2\n",
    "            case 4:\n",
    "                # bxc\n",
    "                B ^= C # 17b step 6\n",
    "            case 5:\n",
    "                # out\n",
    "                out = combo(operand, A, B, C) % 8 # 17b step 7: always B % 8\n",
    "                # Needed for analysis of 17b\n",
    "                if with_print:\n",
    "                    print(\"out\", out, bin(out))\n",
    "                output.append(out)\n",
    "            case 6:\n",
    "                # bdv\n",
    "                B = int(A / (2**combo(operand, A, B, C)))\n",
    "            case 7:\n",
    "                # cdv\n",
    "                C = int(A / (2**combo(operand, A, B, C))) # 17b step 3: C = A / 2**B (i.e., A / range(1, 2**7=128)\n",
    "\n",
    "\n",
    "        # Needed for analysis of 17b\n",
    "        if with_print:\n",
    "            print((opcode, operand))\n",
    "            print(\"A\", A, str(bin(A))[2:], len(str(bin(A))) - 2)\n",
    "            print(\"B\", B, str(bin(B))[2:], len(str(bin(B))) - 2)\n",
    "            print(\"C\", C, str(bin(C))[2:], len(str(bin(C))) - 2)\n",
    "        \n",
    "        pointer += 2\n",
    "    return output\n",
    "\n",
    "print(\"17a:\", \",\".join([str(o) for o in interpret(program, A, B, C)]), f\"in {time.time()-t0} sec.\")"
   ]
  },
  {
   "cell_type": "code",
   "execution_count": 5,
   "id": "bd455098-6a3c-4175-b755-7ebf9afa0b2a",
   "metadata": {
    "execution": {
     "iopub.execute_input": "2024-12-30T15:21:07.168713Z",
     "iopub.status.busy": "2024-12-30T15:21:07.167957Z",
     "iopub.status.idle": "2024-12-30T15:21:08.236862Z",
     "shell.execute_reply": "2024-12-30T15:21:08.236561Z",
     "shell.execute_reply.started": "2024-12-30T15:21:07.168698Z"
    }
   },
   "outputs": [
    {
     "name": "stdout",
     "output_type": "stream",
     "text": [
      "Searching with step-size 2**43 --> New starting A0=175921860444160\n",
      "Searching with step-size 2**41 --> New starting A0=202310139510784\n",
      "Searching with step-size 2**39 --> New starting A0=202310139510784\n",
      "Searching with step-size 2**37 --> New starting A0=202310139510784\n",
      "Searching with step-size 2**35 --> New starting A0=202310139510784\n",
      "Searching with step-size 2**33 --> New starting A0=202404628791296\n",
      "Searching with step-size 2**31 --> New starting A0=202406776274944\n",
      "Searching with step-size 2**29 --> New starting A0=202406776274944\n",
      "Searching with step-size 2**27 --> New starting A0=202975054135296\n",
      "Searching with step-size 2**25 --> New starting A0=202975054135296\n",
      "Searching with step-size 2**23 --> New starting A0=202975171575808\n",
      "Searching with step-size 2**21 --> New starting A0=202975182061568\n",
      "Searching with step-size 2**19 --> New starting A0=202975183634432\n",
      "Searching with step-size 2**17 --> New starting A0=202975183634432\n",
      "Searching with step-size 2**15 --> New starting A0=202975183634432\n",
      "Searching with step-size 2**13 --> New starting A0=202975183642624\n",
      "Searching with step-size 2**11 --> New starting A0=202975183644672\n",
      "Searching with step-size 2**9 --> New starting A0=202975183645184\n",
      "Searching with step-size 2**7 --> New starting A0=202975183645184\n",
      "Searching with step-size 2**5 --> New starting A0=202975183645184\n",
      "Searching with step-size 2**3 --> New starting A0=202975183645224\n",
      "Searching with step-size 2**1 --> New starting A0=202975183645226\n",
      "17b: 202975183645226 in 1.0638668537139893 sec.\n"
     ]
    }
   ],
   "source": [
    "# 17b\n",
    "t0 = time.time()\n",
    "# Absolute Min and max values determined based on length of output. Binary digits of A reduce by 3 every iteration\n",
    "A_min = 2**((len(program) - 1)*3)\n",
    "A_max = 2**((len(program))*3) - 1\n",
    "max_exp = int(math.log2(A_min))\n",
    "\n",
    "# Solve by searching output from right to left. Search with decreasing step-sizes.\n",
    "A0 = A_min\n",
    "res = interpret(program, A0, 0, 0, with_print=False)\n",
    "exp = max_exp\n",
    "compare_element = -1\n",
    "while res != program:\n",
    "    exp -= 2\n",
    "    count = 1\n",
    "    A = A0\n",
    "    # Each loop tries to find next output from the right by searching a binary level of magnitude more accurate.\n",
    "    # When a new output digit is found, the exponent will be decreased, and the minimum A to start searching increased.\n",
    "    while count < 10000:\n",
    "        res = interpret(program, A, 0, 0, with_print=False)\n",
    "        if res[compare_element:] == program[compare_element:]:\n",
    "            # Update A0 and add extra element to compare in the future iterations\n",
    "            A0 = A\n",
    "            compare_element -= 1\n",
    "            break\n",
    "        count += 1\n",
    "        A += 2**exp\n",
    "    print(f\"Searching with step-size 2**{exp} --> New starting A0={A0}\")\n",
    "print(\"17b:\", A, f\"in {time.time()-t0} sec.\")"
   ]
  }
 ],
 "metadata": {
  "kernelspec": {
   "display_name": "Python 3 (ipykernel)",
   "language": "python",
   "name": "python3"
  },
  "language_info": {
   "codemirror_mode": {
    "name": "ipython",
    "version": 3
   },
   "file_extension": ".py",
   "mimetype": "text/x-python",
   "name": "python",
   "nbconvert_exporter": "python",
   "pygments_lexer": "ipython3",
   "version": "3.11.6"
  }
 },
 "nbformat": 4,
 "nbformat_minor": 5
}
