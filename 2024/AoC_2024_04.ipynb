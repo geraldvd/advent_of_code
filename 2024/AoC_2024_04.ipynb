{
 "cells": [
  {
   "cell_type": "code",
   "execution_count": 1,
   "id": "a4496030-b357-4bdf-b590-94c072971b9a",
   "metadata": {
    "execution": {
     "iopub.execute_input": "2024-12-04T22:56:13.862106Z",
     "iopub.status.busy": "2024-12-04T22:56:13.861904Z",
     "iopub.status.idle": "2024-12-04T22:56:13.914559Z",
     "shell.execute_reply": "2024-12-04T22:56:13.914234Z",
     "shell.execute_reply.started": "2024-12-04T22:56:13.862091Z"
    }
   },
   "outputs": [],
   "source": [
    "import numpy as np\n",
    "import re"
   ]
  },
  {
   "cell_type": "code",
   "execution_count": 2,
   "id": "4500107e-c795-4455-b161-01084d495cd0",
   "metadata": {
    "execution": {
     "iopub.execute_input": "2024-12-04T22:56:13.915431Z",
     "iopub.status.busy": "2024-12-04T22:56:13.915162Z",
     "iopub.status.idle": "2024-12-04T22:56:13.917753Z",
     "shell.execute_reply": "2024-12-04T22:56:13.917484Z",
     "shell.execute_reply.started": "2024-12-04T22:56:13.915417Z"
    }
   },
   "outputs": [],
   "source": [
    "with open(\"input_04.txt\", \"r\") as fh:\n",
    "    content = [c.strip() for c in fh.readlines()]"
   ]
  },
  {
   "cell_type": "code",
   "execution_count": 3,
   "id": "bfcaffc8-adef-42ba-8b6b-038516d175a3",
   "metadata": {
    "execution": {
     "iopub.execute_input": "2024-12-04T22:56:13.919151Z",
     "iopub.status.busy": "2024-12-04T22:56:13.919033Z",
     "iopub.status.idle": "2024-12-04T22:56:13.933892Z",
     "shell.execute_reply": "2024-12-04T22:56:13.933571Z",
     "shell.execute_reply.started": "2024-12-04T22:56:13.919139Z"
    }
   },
   "outputs": [
    {
     "name": "stdout",
     "output_type": "stream",
     "text": [
      "4a: 2654\n"
     ]
    }
   ],
   "source": [
    "N = len(content)\n",
    "xmas_count = 0\n",
    "# Horizontal\n",
    "for c in content:\n",
    "    xmas_count += len(re.findall(r\"XMAS\", c))\n",
    "    xmas_count += len(re.findall(r\"XMAS\", c[::-1]))\n",
    "\n",
    "# Vertical\n",
    "verticals = [\"\".join([c[n] for c in content]) for n in range(N)]\n",
    "for v in verticals:\n",
    "    xmas_count += len(re.findall(r\"XMAS\", v))\n",
    "    xmas_count += len(re.findall(r\"XMAS\", v[::-1]))\n",
    "\n",
    "# Diagonal - starting top left\n",
    "diagonals = []\n",
    "for n in range(N):\n",
    "    d1 = []\n",
    "    d2 = []\n",
    "    d3 = []\n",
    "    d4 = []\n",
    "    for i in range(n+1):\n",
    "        d1 += content[n-i][i]\n",
    "        d2 += content[N - (n-i) - 1][N - i - 1]\n",
    "        d3 += content[n-i][N - i - 1]\n",
    "        d4 += content[N - (n-i) - 1][i]\n",
    "    diagonals.append(\"\".join(d1))\n",
    "    if n != N-1:\n",
    "        diagonals.append(\"\".join(d2))\n",
    "    diagonals.append(\"\".join(d3))\n",
    "    if n != N-1:\n",
    "        diagonals.append(\"\".join(d4))\n",
    "for d in diagonals:\n",
    "    xmas_count += len(re.findall(r\"XMAS\", d))\n",
    "    xmas_count += len(re.findall(r\"XMAS\", d[::-1]))\n",
    "print(\"4a:\", xmas_count)"
   ]
  },
  {
   "cell_type": "code",
   "execution_count": 4,
   "id": "4ef05745-a6af-4a7f-a04c-ac252536c64c",
   "metadata": {
    "execution": {
     "iopub.execute_input": "2024-12-04T22:56:13.934620Z",
     "iopub.status.busy": "2024-12-04T22:56:13.934424Z",
     "iopub.status.idle": "2024-12-04T22:56:13.937749Z",
     "shell.execute_reply": "2024-12-04T22:56:13.937477Z",
     "shell.execute_reply.started": "2024-12-04T22:56:13.934607Z"
    }
   },
   "outputs": [],
   "source": [
    "def find_cross_mas(A):\n",
    "    # M.S\n",
    "    # .A.\n",
    "    # M.S\n",
    "    xmas_count = 0\n",
    "    N = len(A) - 2\n",
    "    for i in range(N):\n",
    "        for j in range(N):\n",
    "            if A[i][j] == \"M\" and A[i][j+2] == \"S\" and A[i+1][j+1] == \"A\" and A[i+2][j] == \"M\" and A[i+2][j+2] == \"S\":\n",
    "                xmas_count += 1\n",
    "    return xmas_count\n",
    "    \n",
    "def rotate_matrix(A):\n",
    "    # Rotate 90 degrees\n",
    "    N = len(A)\n",
    "    return [\"\".join([A[i][j] for i in range(N-1, -1, -1)]) for j in range(N)]"
   ]
  },
  {
   "cell_type": "code",
   "execution_count": 5,
   "id": "bd3806d4-92ff-4ca6-8839-a29dd5e192e0",
   "metadata": {
    "execution": {
     "iopub.execute_input": "2024-12-04T22:56:13.938249Z",
     "iopub.status.busy": "2024-12-04T22:56:13.938145Z",
     "iopub.status.idle": "2024-12-04T22:56:13.956735Z",
     "shell.execute_reply": "2024-12-04T22:56:13.956468Z",
     "shell.execute_reply.started": "2024-12-04T22:56:13.938237Z"
    }
   },
   "outputs": [
    {
     "name": "stdout",
     "output_type": "stream",
     "text": [
      "4b: 1990\n"
     ]
    }
   ],
   "source": [
    "xmas_count = 0\n",
    "for rotations in range(4):\n",
    "    content = rotate_matrix(content)\n",
    "    xmas_count += find_cross_mas(content)\n",
    "print(\"4b:\", xmas_count)"
   ]
  }
 ],
 "metadata": {
  "kernelspec": {
   "display_name": "Python 3 (ipykernel)",
   "language": "python",
   "name": "python3"
  },
  "language_info": {
   "codemirror_mode": {
    "name": "ipython",
    "version": 3
   },
   "file_extension": ".py",
   "mimetype": "text/x-python",
   "name": "python",
   "nbconvert_exporter": "python",
   "pygments_lexer": "ipython3",
   "version": "3.11.6"
  }
 },
 "nbformat": 4,
 "nbformat_minor": 5
}
