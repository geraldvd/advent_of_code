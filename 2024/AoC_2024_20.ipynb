{
 "cells": [
  {
   "cell_type": "code",
   "execution_count": 1,
   "id": "169b2ba7-263c-4a51-8423-a5c24f0aca97",
   "metadata": {
    "execution": {
     "iopub.execute_input": "2024-12-30T16:48:58.401730Z",
     "iopub.status.busy": "2024-12-30T16:48:58.401596Z",
     "iopub.status.idle": "2024-12-30T16:48:58.449391Z",
     "shell.execute_reply": "2024-12-30T16:48:58.449078Z",
     "shell.execute_reply.started": "2024-12-30T16:48:58.401722Z"
    }
   },
   "outputs": [],
   "source": [
    "import numpy as np\n",
    "import time"
   ]
  },
  {
   "cell_type": "code",
   "execution_count": 2,
   "id": "f2564f52-9404-44b9-bb08-60a02c355645",
   "metadata": {
    "execution": {
     "iopub.execute_input": "2024-12-30T16:48:58.450079Z",
     "iopub.status.busy": "2024-12-30T16:48:58.449879Z",
     "iopub.status.idle": "2024-12-30T16:48:58.454444Z",
     "shell.execute_reply": "2024-12-30T16:48:58.454170Z",
     "shell.execute_reply.started": "2024-12-30T16:48:58.450067Z"
    }
   },
   "outputs": [],
   "source": [
    "with open(\"input_20.txt\", \"r\") as fh:\n",
    "    grid = np.array([list(l.strip()) for l in fh.readlines()])"
   ]
  },
  {
   "cell_type": "code",
   "execution_count": 3,
   "id": "aa6debd8-663b-417f-9bdd-b59031e6fbee",
   "metadata": {
    "execution": {
     "iopub.execute_input": "2024-12-30T16:48:58.455085Z",
     "iopub.status.busy": "2024-12-30T16:48:58.454914Z",
     "iopub.status.idle": "2024-12-30T16:48:58.486816Z",
     "shell.execute_reply": "2024-12-30T16:48:58.486572Z",
     "shell.execute_reply.started": "2024-12-30T16:48:58.455074Z"
    }
   },
   "outputs": [],
   "source": [
    "def pretty_print(grid, remove_negative=False):\n",
    "    for r in grid:\n",
    "        for c in r:\n",
    "            if remove_negative and c < 0:\n",
    "                c = \"\"\n",
    "            print(c, end=\"\\t\")\n",
    "        print()\n",
    "    print()\n",
    "\n",
    "def all_adjacent(loc):\n",
    "    all_locs = [(loc[0]+1, loc[1]), (loc[0]-1, loc[1]), (loc[0], loc[1]+1), (loc[0], loc[1]-1)]\n",
    "    return [l for l in all_locs if l[0]<grid.shape[0] and l[1] <grid.shape[1] and l[0]>=0 and l[1] >= 0] # last and added for 20b\n",
    "\n",
    "def navigate_grid(grid):\n",
    "    # Walk through starting point grid, with explicit assumption that there is only one path\n",
    "    grid_out = -np.ones(grid.shape)\n",
    "    next_locs = {}\n",
    "    cur_loc = tuple(i.item() for i in np.where(grid==\"S\"))\n",
    "    time = 0\n",
    "    grid_out[cur_loc] = time\n",
    "    while grid[cur_loc] != \"E\":\n",
    "        time += 1\n",
    "        new_locs_found = 0\n",
    "        for next_step in all_adjacent(cur_loc):\n",
    "            if (grid[next_step] == \".\" or grid[next_step] == \"E\") and grid_out[next_step] == -1:\n",
    "                new_locs_found += 1\n",
    "                grid_out[next_step] = time\n",
    "                next_locs[cur_loc] = next_step\n",
    "                cur_loc = next_step\n",
    "                break\n",
    "    return grid_out, next_locs\n",
    "\n",
    "times, next_locs = navigate_grid(grid)"
   ]
  },
  {
   "cell_type": "code",
   "execution_count": 4,
   "id": "38537d10-28a3-404f-aa99-bb85c0a43f8b",
   "metadata": {
    "execution": {
     "iopub.execute_input": "2024-12-30T16:48:58.487364Z",
     "iopub.status.busy": "2024-12-30T16:48:58.487203Z",
     "iopub.status.idle": "2024-12-30T16:48:58.537286Z",
     "shell.execute_reply": "2024-12-30T16:48:58.536884Z",
     "shell.execute_reply.started": "2024-12-30T16:48:58.487353Z"
    }
   },
   "outputs": [
    {
     "name": "stdout",
     "output_type": "stream",
     "text": [
      "20a: 1463\n"
     ]
    }
   ],
   "source": [
    "# 20a\n",
    "savings_threshold = 100\n",
    "cur_loc = tuple(i.item() for i in np.where(times==0))\n",
    "savings = {}\n",
    "while cur_loc in next_locs:\n",
    "    for next_step in all_adjacent(cur_loc):\n",
    "        if next_step in next_locs:\n",
    "            continue\n",
    "        for second_step in all_adjacent(next_step):\n",
    "            s = times[second_step] - times[cur_loc] - 2\n",
    "            if s >= savings_threshold:\n",
    "                if s not in savings:\n",
    "                    savings[s] = 1\n",
    "                else:\n",
    "                    savings[s] += 1\n",
    "        \n",
    "    cur_loc = next_locs[cur_loc]\n",
    "print(\"20a:\", sum(savings.values()))"
   ]
  },
  {
   "cell_type": "code",
   "execution_count": 5,
   "id": "515be53d-7e7f-45b2-a3e2-31dc2a0b5154",
   "metadata": {
    "execution": {
     "iopub.execute_input": "2024-12-30T16:48:58.538272Z",
     "iopub.status.busy": "2024-12-30T16:48:58.538112Z",
     "iopub.status.idle": "2024-12-30T16:49:04.639408Z",
     "shell.execute_reply": "2024-12-30T16:49:04.639063Z",
     "shell.execute_reply.started": "2024-12-30T16:48:58.538264Z"
    }
   },
   "outputs": [
    {
     "name": "stdout",
     "output_type": "stream",
     "text": [
      "20b: 985332 in 6.098456144332886 sec.\n"
     ]
    }
   ],
   "source": [
    "# 20b\n",
    "t0 = time.time()\n",
    "# Loc db is required to avoid multiple np.where calls\n",
    "loc_db = {}\n",
    "for num in range(0, int(np.max(times)) + 1):\n",
    "    loc_db[num] = tuple(i.item() for i in np.where(times==num))\n",
    "\n",
    "# Find all possible shortcuts/cheats\n",
    "num_cheats =0\n",
    "for num in range(0, int(np.max(times))):\n",
    "    loc = loc_db[num]\n",
    "    for cheat_num in range(num+1, int(np.max(times))+1):\n",
    "        cheat_loc = loc_db[cheat_num]\n",
    "        # Check minimum distance and calculate cheat\n",
    "        dist = abs(loc[0]-cheat_loc[0]) + abs(loc[1]-cheat_loc[1])\n",
    "        if dist <= 20 and cheat_num-num-dist >= savings_threshold:\n",
    "            num_cheats += 1\n",
    "\n",
    "print(\"20b:\", num_cheats, f\"in {time.time()-t0} sec.\")"
   ]
  }
 ],
 "metadata": {
  "kernelspec": {
   "display_name": "Python 3 (ipykernel)",
   "language": "python",
   "name": "python3"
  },
  "language_info": {
   "codemirror_mode": {
    "name": "ipython",
    "version": 3
   },
   "file_extension": ".py",
   "mimetype": "text/x-python",
   "name": "python",
   "nbconvert_exporter": "python",
   "pygments_lexer": "ipython3",
   "version": "3.11.6"
  }
 },
 "nbformat": 4,
 "nbformat_minor": 5
}
