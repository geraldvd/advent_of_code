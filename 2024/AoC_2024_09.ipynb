{
 "cells": [
  {
   "cell_type": "code",
   "execution_count": 1,
   "id": "e9bd211e-979c-4645-9d29-2d44e3ed95b8",
   "metadata": {
    "execution": {
     "iopub.execute_input": "2024-12-13T12:45:37.400259Z",
     "iopub.status.busy": "2024-12-13T12:45:37.400145Z",
     "iopub.status.idle": "2024-12-13T12:45:37.448820Z",
     "shell.execute_reply": "2024-12-13T12:45:37.448497Z",
     "shell.execute_reply.started": "2024-12-13T12:45:37.400250Z"
    }
   },
   "outputs": [],
   "source": [
    "import numpy as np\n",
    "import time"
   ]
  },
  {
   "cell_type": "code",
   "execution_count": 2,
   "id": "0043abf6-246a-46bf-8f1f-642ef1c50d2b",
   "metadata": {
    "execution": {
     "iopub.execute_input": "2024-12-13T12:45:37.449315Z",
     "iopub.status.busy": "2024-12-13T12:45:37.449177Z",
     "iopub.status.idle": "2024-12-13T12:45:37.452364Z",
     "shell.execute_reply": "2024-12-13T12:45:37.451878Z",
     "shell.execute_reply.started": "2024-12-13T12:45:37.449303Z"
    }
   },
   "outputs": [],
   "source": [
    "with open(\"input_09.txt\", \"r\") as fh:\n",
    "    diskmap = fh.read().strip()"
   ]
  },
  {
   "cell_type": "code",
   "execution_count": 3,
   "id": "de07408c-e2d8-442c-b888-a678da3d4ea8",
   "metadata": {
    "execution": {
     "iopub.execute_input": "2024-12-13T12:45:37.453507Z",
     "iopub.status.busy": "2024-12-13T12:45:37.453392Z",
     "iopub.status.idle": "2024-12-13T12:45:37.458968Z",
     "shell.execute_reply": "2024-12-13T12:45:37.458683Z",
     "shell.execute_reply.started": "2024-12-13T12:45:37.453496Z"
    }
   },
   "outputs": [],
   "source": [
    "# Pretty print of list\n",
    "def print_diskmap(l):\n",
    "    s = \"\"\n",
    "    for li in l:\n",
    "        if li is None:\n",
    "            s += \".\"\n",
    "        else:\n",
    "            s += str(li)\n",
    "    print(s)"
   ]
  },
  {
   "cell_type": "code",
   "execution_count": 4,
   "id": "4dd20043-efd4-4b9e-87de-17836e51d9d3",
   "metadata": {
    "execution": {
     "iopub.execute_input": "2024-12-13T12:45:37.459424Z",
     "iopub.status.busy": "2024-12-13T12:45:37.459318Z",
     "iopub.status.idle": "2024-12-13T12:45:37.486731Z",
     "shell.execute_reply": "2024-12-13T12:45:37.486457Z",
     "shell.execute_reply.started": "2024-12-13T12:45:37.459412Z"
    }
   },
   "outputs": [],
   "source": [
    "# Convert blocks to list, with None for empty space\n",
    "blocks = []\n",
    "current_block = 0\n",
    "for i, s in enumerate(diskmap):\n",
    "    d = int(s)\n",
    "    if not i % 2:\n",
    "        # Block\n",
    "        for j in range(d):\n",
    "            blocks.append(current_block)\n",
    "        current_block += 1\n",
    "    else:\n",
    "        # Empty space\n",
    "        for j in range(d):\n",
    "            blocks.append(None)"
   ]
  },
  {
   "cell_type": "code",
   "execution_count": 5,
   "id": "684d1f1d-0504-4128-9de6-ef7d60444af8",
   "metadata": {
    "execution": {
     "iopub.execute_input": "2024-12-13T12:45:37.488698Z",
     "iopub.status.busy": "2024-12-13T12:45:37.487936Z",
     "iopub.status.idle": "2024-12-13T12:45:37.514892Z",
     "shell.execute_reply": "2024-12-13T12:45:37.514586Z",
     "shell.execute_reply.started": "2024-12-13T12:45:37.488683Z"
    }
   },
   "outputs": [
    {
     "name": "stdout",
     "output_type": "stream",
     "text": [
      "9a: 6395800119709 (in: 0.022747516632080078 sec)\n"
     ]
    }
   ],
   "source": [
    "# 9a\n",
    "t0 = time.time()\n",
    "empty_idx = [idx for idx, b in enumerate(blocks) if b is None]\n",
    "idx_empty_idx = 0\n",
    "blocks_9a = blocks[:]\n",
    "for i, b in enumerate(blocks[::-1]):\n",
    "    if b is not None:\n",
    "        blocks_9a[empty_idx[idx_empty_idx]] = b\n",
    "        blocks_9a[len(blocks) - i - 1] = None\n",
    "        idx_empty_idx += 1\n",
    "    # Stop when there are no more empty idx left, or when the empty idx's are all right of the blocks\n",
    "    if idx_empty_idx >= len(empty_idx) or empty_idx[idx_empty_idx] >= len(blocks) - i - 1:\n",
    "        break\n",
    "checksum = sum([b*i for i, b in enumerate(blocks_9a) if b is not None])\n",
    "print(f\"9a: {checksum} (in: {time.time() - t0} sec)\")"
   ]
  },
  {
   "cell_type": "code",
   "execution_count": 6,
   "id": "9afe7e32-8ed1-4389-8750-75de342531ff",
   "metadata": {
    "execution": {
     "iopub.execute_input": "2024-12-13T12:45:37.515346Z",
     "iopub.status.busy": "2024-12-13T12:45:37.515259Z",
     "iopub.status.idle": "2024-12-13T12:45:48.044198Z",
     "shell.execute_reply": "2024-12-13T12:45:48.043843Z",
     "shell.execute_reply.started": "2024-12-13T12:45:37.515336Z"
    }
   },
   "outputs": [
    {
     "name": "stdout",
     "output_type": "stream",
     "text": [
      "9b: 6418529470362 (in: 10.524753093719482 sec)\n"
     ]
    }
   ],
   "source": [
    "# 9b\n",
    "t0 = time.time()\n",
    "# Create dict with index of empty space, and number of sequenctial spaces after that (incl.)\n",
    "empty_lengths = {empty_idx[0]: 1} # Dict: k=index, v=number of empty spots\n",
    "cur_empty_val = empty_idx[0]\n",
    "for i, ei in enumerate(empty_idx[1:]):\n",
    "    if ei == empty_idx[i] + 1:\n",
    "        empty_lengths[cur_empty_val] += 1\n",
    "    else:\n",
    "        cur_empty_val = ei\n",
    "        empty_lengths[cur_empty_val] = 1\n",
    "\n",
    "# Create dict of files: k=block id of file, v=(index of first block, number of blocks in file) (note: inefficient)\n",
    "files = {} \n",
    "for sb in set(blocks):\n",
    "    if sb is not None:\n",
    "        files[sb] = (blocks.index(sb), blocks.count(sb))\n",
    "\n",
    "# Go through empty space, and try to fill with files backwards\n",
    "added_files = {}\n",
    "for empty_start_idx, empty_space in empty_lengths.items():\n",
    "    # Try to fill empty space with one or more files from right to left\n",
    "    remaining_empty_space = empty_space\n",
    "    latest_empty_start_idx = empty_start_idx\n",
    "    scan_files_again = True # True if there may be space for another file\n",
    "    while scan_files_again:\n",
    "        scan_files_again = False\n",
    "        temp_moved_keys = []\n",
    "        for k in list(files.keys())[::-1]:\n",
    "            if remaining_empty_space >= files[k][1] and files[k][0] > latest_empty_start_idx:\n",
    "                # File fits\n",
    "                temp_moved_keys.append(k)\n",
    "                added_files[k] = (latest_empty_start_idx, files[k][1])\n",
    "                remaining_empty_space -= files[k][1]\n",
    "                latest_empty_start_idx += files[k][1]\n",
    "                # Check if more empty space here\n",
    "                if remaining_empty_space > 0:\n",
    "                    scan_files_again = True\n",
    "                break\n",
    "        # House keeping: remove files that are already moved\n",
    "        for k in temp_moved_keys:\n",
    "            files.pop(k)\n",
    "\n",
    "# Re-create blocks list\n",
    "blocks_9b = [None for b in blocks]\n",
    "all_files = files|added_files\n",
    "for k in all_files.keys():\n",
    "    for offset in range(all_files[k][1]):\n",
    "        blocks_9b[all_files[k][0]+offset] = k\n",
    "\n",
    "checksum = sum([b*i for i, b in enumerate(blocks_9b) if b is not None])\n",
    "print(f\"9b: {checksum} (in: {time.time() - t0} sec)\")"
   ]
  }
 ],
 "metadata": {
  "kernelspec": {
   "display_name": "Python 3 (ipykernel)",
   "language": "python",
   "name": "python3"
  },
  "language_info": {
   "codemirror_mode": {
    "name": "ipython",
    "version": 3
   },
   "file_extension": ".py",
   "mimetype": "text/x-python",
   "name": "python",
   "nbconvert_exporter": "python",
   "pygments_lexer": "ipython3",
   "version": "3.11.6"
  }
 },
 "nbformat": 4,
 "nbformat_minor": 5
}
