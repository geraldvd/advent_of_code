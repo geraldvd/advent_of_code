{
 "cells": [
  {
   "cell_type": "code",
   "execution_count": 1,
   "id": "827c5c67-2029-47d4-aac9-393b22940b47",
   "metadata": {
    "execution": {
     "iopub.execute_input": "2024-12-25T15:08:28.267670Z",
     "iopub.status.busy": "2024-12-25T15:08:28.267552Z",
     "iopub.status.idle": "2024-12-25T15:08:28.269436Z",
     "shell.execute_reply": "2024-12-25T15:08:28.269252Z",
     "shell.execute_reply.started": "2024-12-25T15:08:28.267663Z"
    }
   },
   "outputs": [],
   "source": [
    "with open(\"input_12.txt\", \"r\") as fh:\n",
    "    grid = [[c for c in r.strip()] for r in fh.readlines()]"
   ]
  },
  {
   "cell_type": "code",
   "execution_count": 2,
   "id": "2061966f-c662-4c62-9623-16558318c5a5",
   "metadata": {
    "execution": {
     "iopub.execute_input": "2024-12-25T15:08:28.269814Z",
     "iopub.status.busy": "2024-12-25T15:08:28.269703Z",
     "iopub.status.idle": "2024-12-25T15:08:28.285910Z",
     "shell.execute_reply": "2024-12-25T15:08:28.285489Z",
     "shell.execute_reply.started": "2024-12-25T15:08:28.269806Z"
    }
   },
   "outputs": [],
   "source": [
    "def search_adj_plots(letter, coord):\n",
    "    # Determine adjacent plots with same letter, and give permiter\n",
    "    r, c = coord\n",
    "    adj_coords = set()\n",
    "    for r_adj, c_adj in [(r-1, c), (r+1, c), (r, c-1), (r, c+1)]:\n",
    "        if 0 <= r_adj < len(grid) and 0 <= c_adj < len(grid[0]) and grid[r_adj][c_adj] == letter:\n",
    "            # Same region\n",
    "            adj_coords.add((r_adj, c_adj))\n",
    "    plot_perimeter = 4 - len(adj_coords)\n",
    "    return adj_coords, plot_perimeter\n",
    "\n",
    "def search_region(letter, coord):\n",
    "    # Search entire region with letter and start_coord\n",
    "    search_coords = set([coord])\n",
    "    region_coords = set()\n",
    "    region_perimeter = 0\n",
    "    while len(search_coords):\n",
    "        c = search_coords.pop()\n",
    "        if c in region_coords:\n",
    "            continue\n",
    "        adj_coords, plot_perimeter = search_adj_plots(letter, c)\n",
    "        search_coords = search_coords.union(adj_coords)\n",
    "        region_perimeter += plot_perimeter\n",
    "        region_coords.add(c)\n",
    "    return region_coords, region_perimeter*len(region_coords)"
   ]
  },
  {
   "cell_type": "code",
   "execution_count": 3,
   "id": "b3a1ad89-5203-47b4-a812-99a5205a5f07",
   "metadata": {
    "execution": {
     "iopub.execute_input": "2024-12-25T15:08:28.288025Z",
     "iopub.status.busy": "2024-12-25T15:08:28.287560Z",
     "iopub.status.idle": "2024-12-25T15:08:28.442504Z",
     "shell.execute_reply": "2024-12-25T15:08:28.442063Z",
     "shell.execute_reply.started": "2024-12-25T15:08:28.288002Z"
    }
   },
   "outputs": [
    {
     "name": "stdout",
     "output_type": "stream",
     "text": [
      "12a: 1402544\n"
     ]
    }
   ],
   "source": [
    "# 12a\n",
    "seen_coords = set()\n",
    "total_cost = 0\n",
    "for ir, r in enumerate(grid):\n",
    "    for ic, c in enumerate(r):\n",
    "        if (ir, ic) not in seen_coords:\n",
    "            region_coords, region_cost = search_region(c, (ir, ic))\n",
    "            seen_coords = seen_coords.union(region_coords)\n",
    "            total_cost += region_cost\n",
    "print(\"12a:\", total_cost)"
   ]
  },
  {
   "cell_type": "code",
   "execution_count": 4,
   "id": "dddf8759-8f24-4e95-b4f7-9156f4042d67",
   "metadata": {
    "execution": {
     "iopub.execute_input": "2024-12-25T15:08:28.443149Z",
     "iopub.status.busy": "2024-12-25T15:08:28.443053Z",
     "iopub.status.idle": "2024-12-25T15:08:28.587027Z",
     "shell.execute_reply": "2024-12-25T15:08:28.586769Z",
     "shell.execute_reply.started": "2024-12-25T15:08:28.443140Z"
    }
   },
   "outputs": [
    {
     "name": "stdout",
     "output_type": "stream",
     "text": [
      "12b: 862486\n"
     ]
    }
   ],
   "source": [
    "# 12b\n",
    "def get_sides(region_coords):\n",
    "    hor_sides = {} # k=height (on top is r, on bottom is r+1), v=column (plot) number\n",
    "    ver_sides = {} # k=lateral position (left is c, right is c+1), v=row (plot) number\n",
    "    for r, c in region_coords:\n",
    "        letter = grid[r][c]\n",
    "    \n",
    "        # Horizontal\n",
    "        if r-1 < 0 or (r-1 >= 0 and grid[r-1][c] != letter):\n",
    "            if r not in hor_sides:\n",
    "                hor_sides[r] = set()\n",
    "            hor_sides[r].add(-c) # Negative c is only added to distinguish sides next to each other that enclose different plots\n",
    "        if r+1 >= len(grid) or (r+1 < len(grid) and grid[r+1][c] != letter):\n",
    "            if r+1 not in hor_sides:\n",
    "                hor_sides[r+1] = set()\n",
    "            hor_sides[r+1].add(c)\n",
    "        # Vertical\n",
    "        if c-1 < 0 or (c-1 >= 0 and grid[r][c-1] != letter):\n",
    "            if c not in ver_sides:\n",
    "                ver_sides[c] = set()\n",
    "            ver_sides[c].add(-r)\n",
    "        if c+1 >= len(grid[0]) or (c+1 < len(grid[0]) and grid[r][c+1] != letter):\n",
    "            if c+1 not in ver_sides:\n",
    "                ver_sides[c+1] = set()\n",
    "            ver_sides[c+1].add(r)\n",
    "    \n",
    "    # Each set in hor_sides and ver_sides now represents one or multiple sides on a certain line; no need to distinguish\n",
    "    sides = []\n",
    "    for hs in hor_sides.values():\n",
    "        sides.append(hs)\n",
    "    for vs in ver_sides.values():\n",
    "        sides.append(vs)\n",
    "    \n",
    "    return sides\n",
    "\n",
    "seen_coords = set()\n",
    "total_cost = 0\n",
    "for ir, r in enumerate(grid):\n",
    "    for ic, c in enumerate(r):\n",
    "        if (ir, ic) not in seen_coords:\n",
    "            region_coords, region_cost = search_region(c, (ir, ic))\n",
    "            seen_coords = seen_coords.union(region_coords)\n",
    "            # Extract all sides of the region\n",
    "            sides = get_sides(region_coords)\n",
    "            num_sides = 0\n",
    "            # A sequence of numbers is 1 side if they increment by 1, for any larger increment, it indicates an added side.\n",
    "            for s in sides:\n",
    "                s = sorted(s)\n",
    "                num_sides += 1 # always minimum of 1 side\n",
    "                for i in range(len(s)-1):\n",
    "                    if s[i+1] - s[i] > 1:\n",
    "                        num_sides += 1\n",
    "            total_cost += len(region_coords) * num_sides\n",
    "print(\"12b:\", total_cost)"
   ]
  }
 ],
 "metadata": {
  "kernelspec": {
   "display_name": "Python 3 (ipykernel)",
   "language": "python",
   "name": "python3"
  },
  "language_info": {
   "codemirror_mode": {
    "name": "ipython",
    "version": 3
   },
   "file_extension": ".py",
   "mimetype": "text/x-python",
   "name": "python",
   "nbconvert_exporter": "python",
   "pygments_lexer": "ipython3",
   "version": "3.11.6"
  }
 },
 "nbformat": 4,
 "nbformat_minor": 5
}
