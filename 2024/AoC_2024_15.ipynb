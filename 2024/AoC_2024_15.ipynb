{
 "cells": [
  {
   "cell_type": "code",
   "execution_count": 1,
   "id": "5e6a05dc-c43f-472e-8933-1facd7d79dc0",
   "metadata": {
    "execution": {
     "iopub.execute_input": "2024-12-21T17:01:47.772239Z",
     "iopub.status.busy": "2024-12-21T17:01:47.772114Z",
     "iopub.status.idle": "2024-12-21T17:01:47.848444Z",
     "shell.execute_reply": "2024-12-21T17:01:47.848060Z",
     "shell.execute_reply.started": "2024-12-21T17:01:47.772230Z"
    }
   },
   "outputs": [],
   "source": [
    "import numpy as np"
   ]
  },
  {
   "cell_type": "code",
   "execution_count": 2,
   "id": "36ad909c-528b-46fa-82ba-8d37bd4fd0f2",
   "metadata": {
    "execution": {
     "iopub.execute_input": "2024-12-21T17:01:47.849042Z",
     "iopub.status.busy": "2024-12-21T17:01:47.848894Z",
     "iopub.status.idle": "2024-12-21T17:01:47.853236Z",
     "shell.execute_reply": "2024-12-21T17:01:47.852853Z",
     "shell.execute_reply.started": "2024-12-21T17:01:47.849028Z"
    }
   },
   "outputs": [],
   "source": [
    "with open(\"input_15.txt\", \"r\") as fh:\n",
    "    content = fh.read().split(\"\\n\\n\")\n",
    "grid = np.array([[i for i in r] for r in content[0].split(\"\\n\")])\n",
    "directions = [d for d in content[1] if d in [\">\", \"<\", \"v\", \"^\"]]"
   ]
  },
  {
   "cell_type": "code",
   "execution_count": 3,
   "id": "80bc812c-790d-418c-a474-0af1efc7eab3",
   "metadata": {
    "execution": {
     "iopub.execute_input": "2024-12-21T17:01:47.854396Z",
     "iopub.status.busy": "2024-12-21T17:01:47.854282Z",
     "iopub.status.idle": "2024-12-21T17:01:47.859250Z",
     "shell.execute_reply": "2024-12-21T17:01:47.858985Z",
     "shell.execute_reply.started": "2024-12-21T17:01:47.854385Z"
    }
   },
   "outputs": [],
   "source": [
    "def pretty_print(grid):\n",
    "    for r in grid:\n",
    "        print(\"\".join(r))"
   ]
  },
  {
   "cell_type": "code",
   "execution_count": 4,
   "id": "71e53df6-29bd-4d1d-8564-1ca9fcba471d",
   "metadata": {
    "execution": {
     "iopub.execute_input": "2024-12-21T17:01:47.859879Z",
     "iopub.status.busy": "2024-12-21T17:01:47.859713Z",
     "iopub.status.idle": "2024-12-21T17:01:48.085299Z",
     "shell.execute_reply": "2024-12-21T17:01:48.085058Z",
     "shell.execute_reply.started": "2024-12-21T17:01:47.859867Z"
    }
   },
   "outputs": [
    {
     "name": "stdout",
     "output_type": "stream",
     "text": [
      "15a: 1517819\n"
     ]
    }
   ],
   "source": [
    "# 15a\n",
    "def move_robot(grid, direction):\n",
    "    grid_output = grid.copy()\n",
    "    robot_loc = tuple(rl.item() for rl in np.where(grid == \"@\"))\n",
    "    if direction == \"<\":\n",
    "        first_wall = np.where(grid[robot_loc[0], :robot_loc[1]] == \"#\")[0][-1]\n",
    "        empty_spaces = np.where(grid[robot_loc[0], :robot_loc[1]] == \".\")[0]\n",
    "        if len(empty_spaces) and empty_spaces[-1] > first_wall:\n",
    "            empty_space = empty_spaces[-1]\n",
    "            move_block = grid[robot_loc[0], empty_space+1:robot_loc[1]+1]\n",
    "            grid_output[robot_loc[0], empty_space:robot_loc[1]] = move_block\n",
    "            grid_output[robot_loc] = \".\"\n",
    "    elif direction == \">\":\n",
    "        first_wall = np.where(grid[robot_loc[0], robot_loc[1]+1:] == \"#\")[0][0] + robot_loc[1] + 1\n",
    "        empty_spaces = np.where(grid[robot_loc[0], robot_loc[1]+1:] == \".\")[0]\n",
    "        if len(empty_spaces) and empty_spaces[0] + robot_loc[1] + 1 < first_wall:\n",
    "            empty_space = empty_spaces[0] + robot_loc[1] + 1\n",
    "            move_block = grid[robot_loc[0], robot_loc[1]:empty_space]\n",
    "            grid_output[robot_loc[0], robot_loc[1]+1:empty_space+1] = move_block\n",
    "            grid_output[robot_loc] = \".\"\n",
    "    elif direction == \"^\":\n",
    "        first_wall = np.where(grid[:robot_loc[0], robot_loc[1]] == \"#\")[0][-1]\n",
    "        empty_spaces = np.where(grid[:robot_loc[0], robot_loc[1]] == \".\")[0]\n",
    "        if len(empty_spaces) and empty_spaces[-1] > first_wall:\n",
    "            empty_space = empty_spaces[-1]\n",
    "            move_block = grid[empty_space+1:robot_loc[0]+1, robot_loc[1]]\n",
    "            grid_output[empty_space:robot_loc[0], robot_loc[1]] = move_block\n",
    "            grid_output[robot_loc] = \".\"\n",
    "    elif direction == \"v\":\n",
    "        first_wall = np.where(grid[robot_loc[0]+1:, robot_loc[1]] == \"#\")[0][0] + robot_loc[0] + 1\n",
    "        empty_spaces = np.where(grid[robot_loc[0]+1:, robot_loc[1]] == \".\")[0]\n",
    "        if len(empty_spaces) and empty_spaces[0] + robot_loc[0] + 1 < first_wall:\n",
    "            empty_space = empty_spaces[0] + robot_loc[0] + 1\n",
    "            move_block = grid[robot_loc[0]:empty_space, robot_loc[1]]\n",
    "            grid_output[robot_loc[0]+1:empty_space+1, robot_loc[1]] = move_block\n",
    "            grid_output[robot_loc] = \".\"\n",
    "    return grid_output\n",
    "\n",
    "\n",
    "def calculate_gps_boxes(grid):\n",
    "    boxes = np.where(grid == \"O\")\n",
    "    return sum(100*boxes[0]) + sum(boxes[1])\n",
    "\n",
    "\n",
    "grid_15a = grid.copy()\n",
    "for d in directions:\n",
    "    grid_15a = move_robot(grid_15a, d)\n",
    "\n",
    "print(\"15a:\", calculate_gps_boxes(grid_15a))"
   ]
  },
  {
   "cell_type": "code",
   "execution_count": 5,
   "id": "33ff0f6d-9f81-4e77-9e4d-cc8a4973f57f",
   "metadata": {
    "execution": {
     "iopub.execute_input": "2024-12-21T17:01:48.085759Z",
     "iopub.status.busy": "2024-12-21T17:01:48.085651Z",
     "iopub.status.idle": "2024-12-21T17:01:48.402983Z",
     "shell.execute_reply": "2024-12-21T17:01:48.402534Z",
     "shell.execute_reply.started": "2024-12-21T17:01:48.085750Z"
    }
   },
   "outputs": [
    {
     "name": "stdout",
     "output_type": "stream",
     "text": [
      "15b: 1538862\n"
     ]
    }
   ],
   "source": [
    "# 15b\n",
    "def expand_grid(grid):\n",
    "    grid_out = np.full((grid.shape[0], grid.shape[1]*2), \".\", dtype=str)\n",
    "    for ri in range(grid.shape[0]):\n",
    "        for ci in range(grid.shape[1]):\n",
    "            if grid[ri, ci] == \"O\":\n",
    "                grid_out[ri, 2*ci] = \"[\"\n",
    "                grid_out[ri, 2*ci+1] = \"]\"\n",
    "            else:\n",
    "                grid_out[ri, 2*ci] = grid[ri, ci]\n",
    "                if grid[ri, ci] != \"@\":\n",
    "                    grid_out[ri, 2*ci+1] = grid[ri, ci]\n",
    "    return grid_out\n",
    "\n",
    "\n",
    "def move_robot_15b(grid, direction):\n",
    "    # Left and right movements don't change\n",
    "    if direction == \"<\" or direction == \">\":\n",
    "        return move_robot(grid, direction)\n",
    "\n",
    "    # Up and down movements are more complicated\n",
    "    grid_out = grid.copy()\n",
    "    robot_loc = tuple(rl.item() for rl in np.where(grid == \"@\"))\n",
    "    if direction == \"^\":\n",
    "        if grid_out[robot_loc[0]-1, robot_loc[1]] == \".\":\n",
    "            # No boxes to move\n",
    "            grid_out[robot_loc[0]-1, robot_loc[1]] = \"@\"\n",
    "            grid_out[robot_loc] = \".\"\n",
    "            return grid_out\n",
    "        elif grid_out[robot_loc[0]-1, robot_loc[1]] == \"#\":\n",
    "            # Blocked\n",
    "            return grid_out\n",
    "        else:\n",
    "            search_height = robot_loc[0]-1\n",
    "            if grid_out[search_height, robot_loc[1]] == \"[\":\n",
    "                boxes_to_move = [set([(search_height, robot_loc[1]), (search_height, robot_loc[1]+1)])]\n",
    "            else:\n",
    "                boxes_to_move = [set([(search_height, robot_loc[1]-1), (search_height, robot_loc[1])])]\n",
    "            \n",
    "            keep_searching = True\n",
    "            while keep_searching:\n",
    "                new_boxes_to_move = set()\n",
    "                keep_searching = False\n",
    "                search_height -= 1\n",
    "                for br, bc in boxes_to_move[-1]:\n",
    "                    if grid_out[search_height, bc] == \"#\":\n",
    "                        return grid_out\n",
    "                    if grid_out[search_height, bc] == \"[\":\n",
    "                        keep_searching = True\n",
    "                        new_boxes_to_move.add((search_height, bc))\n",
    "                        new_boxes_to_move.add((search_height, bc+1))\n",
    "                    elif grid_out[search_height, bc] == \"]\":\n",
    "                        keep_searching = True\n",
    "                        new_boxes_to_move.add((search_height, bc-1))\n",
    "                        new_boxes_to_move.add((search_height, bc))\n",
    "                boxes_to_move.append(new_boxes_to_move)\n",
    "            # Move boxes\n",
    "            for layer in boxes_to_move[::-1]:\n",
    "                for br, bc in layer:\n",
    "                    grid_out[br-1, bc] = grid_out[br, bc]\n",
    "                    grid_out[br, bc] = \".\"\n",
    "            grid_out[robot_loc[0]-1, robot_loc[1]] = \"@\"\n",
    "            grid_out[robot_loc] = \".\"\n",
    "            return grid_out\n",
    "            \n",
    "    elif direction == \"v\":\n",
    "        if grid_out[robot_loc[0]+1, robot_loc[1]] == \".\":\n",
    "            # No boxes to move\n",
    "            grid_out[robot_loc[0]+1, robot_loc[1]] = \"@\"\n",
    "            grid_out[robot_loc] = \".\"\n",
    "            return grid_out\n",
    "        elif grid_out[robot_loc[0]+1, robot_loc[1]] == \"#\":\n",
    "            # Blocked\n",
    "            return grid_out\n",
    "        else:\n",
    "            search_height = robot_loc[0]+1\n",
    "            if grid_out[search_height, robot_loc[1]] == \"[\":\n",
    "                boxes_to_move = [set([(search_height, robot_loc[1]), (search_height, robot_loc[1]+1)])]\n",
    "            else:\n",
    "                boxes_to_move = [set([(search_height, robot_loc[1]-1), (search_height, robot_loc[1])])]\n",
    "            \n",
    "            keep_searching = True\n",
    "            while keep_searching:\n",
    "                new_boxes_to_move = set()\n",
    "                keep_searching = False\n",
    "                search_height += 1\n",
    "                for br, bc in boxes_to_move[-1]:\n",
    "                    if grid_out[search_height, bc] == \"#\":\n",
    "                        return grid_out\n",
    "                    if grid_out[search_height, bc] == \"[\":\n",
    "                        keep_searching = True\n",
    "                        new_boxes_to_move.add((search_height, bc))\n",
    "                        new_boxes_to_move.add((search_height, bc+1))\n",
    "                    elif grid_out[search_height, bc] == \"]\":\n",
    "                        keep_searching = True\n",
    "                        new_boxes_to_move.add((search_height, bc-1))\n",
    "                        new_boxes_to_move.add((search_height, bc))\n",
    "                boxes_to_move.append(new_boxes_to_move)\n",
    "            # Move boxes\n",
    "            for layer in boxes_to_move[::-1]:\n",
    "                for br, bc in layer:\n",
    "                    grid_out[br+1, bc] = grid_out[br, bc]\n",
    "                    grid_out[br, bc] = \".\"\n",
    "            grid_out[robot_loc[0]+1, robot_loc[1]] = \"@\"\n",
    "            grid_out[robot_loc] = \".\"\n",
    "            return grid_out\n",
    "\n",
    "def calculate_gps_boxes(grid):\n",
    "    boxes = np.where(grid == \"[\")\n",
    "    return sum(100*boxes[0]) + sum(boxes[1])\n",
    "    \n",
    "\n",
    "grid_15b = expand_grid(grid)\n",
    "for d in directions:\n",
    "    grid_15b = move_robot_15b(grid_15b, d)\n",
    "\n",
    "print(\"15b:\", calculate_gps_boxes(grid_15b))"
   ]
  }
 ],
 "metadata": {
  "kernelspec": {
   "display_name": "Python 3 (ipykernel)",
   "language": "python",
   "name": "python3"
  },
  "language_info": {
   "codemirror_mode": {
    "name": "ipython",
    "version": 3
   },
   "file_extension": ".py",
   "mimetype": "text/x-python",
   "name": "python",
   "nbconvert_exporter": "python",
   "pygments_lexer": "ipython3",
   "version": "3.11.6"
  }
 },
 "nbformat": 4,
 "nbformat_minor": 5
}
