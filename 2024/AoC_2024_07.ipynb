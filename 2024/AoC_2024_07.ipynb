{
 "cells": [
  {
   "cell_type": "code",
   "execution_count": 1,
   "id": "1875019b-b227-43bc-8355-dff3909d7ba6",
   "metadata": {
    "execution": {
     "iopub.execute_input": "2024-12-07T06:27:40.978210Z",
     "iopub.status.busy": "2024-12-07T06:27:40.978138Z",
     "iopub.status.idle": "2024-12-07T06:27:41.042409Z",
     "shell.execute_reply": "2024-12-07T06:27:41.041884Z",
     "shell.execute_reply.started": "2024-12-07T06:27:40.978202Z"
    }
   },
   "outputs": [],
   "source": [
    "import numpy as np\n",
    "import re\n",
    "import time"
   ]
  },
  {
   "cell_type": "code",
   "execution_count": 2,
   "id": "215f9bba-263b-49a9-865f-efbe3c80154b",
   "metadata": {
    "execution": {
     "iopub.execute_input": "2024-12-07T06:27:41.043765Z",
     "iopub.status.busy": "2024-12-07T06:27:41.043178Z",
     "iopub.status.idle": "2024-12-07T06:27:41.045972Z",
     "shell.execute_reply": "2024-12-07T06:27:41.045720Z",
     "shell.execute_reply.started": "2024-12-07T06:27:41.043748Z"
    }
   },
   "outputs": [],
   "source": [
    "with open(\"input_07.txt\", \"r\") as fh:\n",
    "    content = fh.readlines()"
   ]
  },
  {
   "cell_type": "code",
   "execution_count": 3,
   "id": "f23b2b48-f402-43f5-b790-62a314b006c3",
   "metadata": {
    "execution": {
     "iopub.execute_input": "2024-12-07T06:27:41.046524Z",
     "iopub.status.busy": "2024-12-07T06:27:41.046320Z",
     "iopub.status.idle": "2024-12-07T06:27:41.058332Z",
     "shell.execute_reply": "2024-12-07T06:27:41.058084Z",
     "shell.execute_reply.started": "2024-12-07T06:27:41.046512Z"
    }
   },
   "outputs": [],
   "source": [
    "# Create dict of calibration results (keys) and list of operandi (values)\n",
    "calibration_results = {}\n",
    "for c in content:\n",
    "    match = re.match(r\"(\\d+):\\s([\\s\\d]+)\", c)\n",
    "    if match:\n",
    "        calibration_results[int(match.group(1))] = [int(m) for m in match.group(2).split()]"
   ]
  },
  {
   "cell_type": "code",
   "execution_count": 4,
   "id": "3bce45ea-08ae-4e39-ba3e-643ccc385bab",
   "metadata": {
    "execution": {
     "iopub.execute_input": "2024-12-07T06:27:41.059454Z",
     "iopub.status.busy": "2024-12-07T06:27:41.059267Z",
     "iopub.status.idle": "2024-12-07T06:27:41.156780Z",
     "shell.execute_reply": "2024-12-07T06:27:41.156396Z",
     "shell.execute_reply.started": "2024-12-07T06:27:41.059442Z"
    }
   },
   "outputs": [
    {
     "name": "stdout",
     "output_type": "stream",
     "text": [
      "7a: 663613490587 (in: 0.09055852890014648 sec)\n"
     ]
    }
   ],
   "source": [
    "# 7a\n",
    "t0 = time.time()\n",
    "sum_calibration_results = 0\n",
    "# Go through all calibration results, to check if they are valid\n",
    "for result, operandi in calibration_results.items():\n",
    "    possible_solutions = [operandi]\n",
    "    # Create all permutations of equations, with the possible operandi\n",
    "    while len(possible_solutions[0]) > 1:\n",
    "        new_possible_solutions = []\n",
    "        for p in possible_solutions:\n",
    "            if len(p) > 2:\n",
    "                new_possible_solutions.append([p[0]+p[1]] + p[2:])\n",
    "                new_possible_solutions.append([p[0]*p[1]] + p[2:])\n",
    "            else:\n",
    "                new_possible_solutions.append([p[0]+p[1]])\n",
    "                new_possible_solutions.append([p[0]*p[1]])\n",
    "        possible_solutions = list(new_possible_solutions)\n",
    "    # Check validity of calibration result\n",
    "    possible_solutions = [p[0] for p in possible_solutions]\n",
    "    if result in possible_solutions:\n",
    "        sum_calibration_results += result\n",
    "print(f\"7a: {sum_calibration_results} (in: {time.time() - t0} sec)\")"
   ]
  },
  {
   "cell_type": "code",
   "execution_count": null,
   "id": "6b344255-3108-4049-8f34-b19f9948f321",
   "metadata": {
    "execution": {
     "iopub.execute_input": "2024-12-07T06:27:41.157239Z",
     "iopub.status.busy": "2024-12-07T06:27:41.157155Z"
    }
   },
   "outputs": [],
   "source": [
    "# 7b\n",
    "t0 = time.time()\n",
    "sum_calibration_results = 0\n",
    "for result, operandi in calibration_results.items():\n",
    "    possible_solutions = [operandi]\n",
    "    while len(possible_solutions[0]) > 1:\n",
    "        new_possible_solutions = []\n",
    "        for p in possible_solutions:\n",
    "            if len(p) > 2:\n",
    "                new_possible_solutions.append([p[0]+p[1]] + p[2:])\n",
    "                new_possible_solutions.append([p[0]*p[1]] + p[2:])\n",
    "                # Added operandi for part b\n",
    "                new_possible_solutions.append([int(str(p[0])+str(p[1]))] + p[2:])\n",
    "            else:\n",
    "                new_possible_solutions.append([p[0]+p[1]])\n",
    "                new_possible_solutions.append([p[0]*p[1]])\n",
    "                # Added operandi for part b\n",
    "                new_possible_solutions.append([int(str(p[0])+str(p[1]))])\n",
    "        possible_solutions = list(new_possible_solutions)\n",
    "    possible_solutions = [p[0] for p in possible_solutions]\n",
    "    if result in possible_solutions:\n",
    "        sum_calibration_results += result\n",
    "print(f\"7b: {sum_calibration_results} (in: {time.time() - t0} sec)\")"
   ]
  }
 ],
 "metadata": {
  "kernelspec": {
   "display_name": "Python 3 (ipykernel)",
   "language": "python",
   "name": "python3"
  },
  "language_info": {
   "codemirror_mode": {
    "name": "ipython",
    "version": 3
   },
   "file_extension": ".py",
   "mimetype": "text/x-python",
   "name": "python",
   "nbconvert_exporter": "python",
   "pygments_lexer": "ipython3",
   "version": "3.11.6"
  }
 },
 "nbformat": 4,
 "nbformat_minor": 5
}
