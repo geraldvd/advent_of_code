{
 "cells": [
  {
   "cell_type": "code",
   "execution_count": 1,
   "metadata": {
    "execution": {
     "iopub.execute_input": "2024-12-31T16:47:05.670733Z",
     "iopub.status.busy": "2024-12-31T16:47:05.670608Z",
     "iopub.status.idle": "2024-12-31T16:47:05.718262Z",
     "shell.execute_reply": "2024-12-31T16:47:05.717991Z",
     "shell.execute_reply.started": "2024-12-31T16:47:05.670725Z"
    }
   },
   "outputs": [],
   "source": [
    "import numpy as np\n",
    "import time"
   ]
  },
  {
   "cell_type": "code",
   "execution_count": 2,
   "metadata": {
    "execution": {
     "iopub.execute_input": "2024-12-31T16:47:05.718890Z",
     "iopub.status.busy": "2024-12-31T16:47:05.718696Z",
     "iopub.status.idle": "2024-12-31T16:47:05.723441Z",
     "shell.execute_reply": "2024-12-31T16:47:05.723173Z",
     "shell.execute_reply.started": "2024-12-31T16:47:05.718878Z"
    }
   },
   "outputs": [],
   "source": [
    "with open(\"input_16.txt\", \"r\") as fh:\n",
    "    grid = np.array([[c for c in r.strip()] for r in fh.readlines()])"
   ]
  },
  {
   "cell_type": "code",
   "execution_count": 3,
   "metadata": {
    "execution": {
     "iopub.execute_input": "2024-12-31T16:47:05.724079Z",
     "iopub.status.busy": "2024-12-31T16:47:05.723912Z",
     "iopub.status.idle": "2024-12-31T16:47:05.728005Z",
     "shell.execute_reply": "2024-12-31T16:47:05.727497Z",
     "shell.execute_reply.started": "2024-12-31T16:47:05.724067Z"
    }
   },
   "outputs": [],
   "source": [
    "def pretty_print(grid):\n",
    "    # Pretty print\n",
    "    for r in grid:\n",
    "        if grid.dtype == \"float64\":\n",
    "            r = [str(int(i))+\"\\t\" if i>=0 else \"#\\t\" for i in r]\n",
    "        print(''.join(r))\n",
    "    print()\n",
    "\n",
    "def graphic_print(grid):\n",
    "    # Pretty print\n",
    "    for r in grid:\n",
    "        if grid.dtype == \"float64\":\n",
    "            r = [\". \" if i>=0 else \"# \" for i in r]\n",
    "        print(''.join(r))\n",
    "    print()\n",
    "\n",
    "def all_rotations(h):\n",
    "    # Get the 2 possible single 90 degree rotations (list of tuples)\n",
    "    rotations = []\n",
    "    rotations.append((abs(h[0])-1, abs(h[1])-1))\n",
    "    rotations.append((-(abs(h[0])-1), -(abs(h[1])-1)))\n",
    "    return rotations"
   ]
  },
  {
   "cell_type": "code",
   "execution_count": 4,
   "metadata": {
    "execution": {
     "iopub.execute_input": "2024-12-31T16:47:05.728602Z",
     "iopub.status.busy": "2024-12-31T16:47:05.728423Z",
     "iopub.status.idle": "2024-12-31T16:47:05.849116Z",
     "shell.execute_reply": "2024-12-31T16:47:05.848554Z",
     "shell.execute_reply.started": "2024-12-31T16:47:05.728590Z"
    }
   },
   "outputs": [
    {
     "name": "stdout",
     "output_type": "stream",
     "text": [
      "16a: 102488 (with 102 turns and 488 straights) in 0.11397409439086914 sec.\n"
     ]
    }
   ],
   "source": [
    "# 16a\n",
    "# State: tuple of position (tuple) and heading (unit-tuple)\n",
    "initial_state = (tuple(np.array(np.where(grid == \"S\")).transpose()[0]), (0, 1))\n",
    "# Keep best score per state to avoid memory issues\n",
    "scores = {initial_state: 0}\n",
    "# Keep track of states to test, finished when no more states left (either hitting a wall, reaching E or not improving score anymore)\n",
    "current_states = [initial_state]\n",
    "# Keep track of number of turns\n",
    "num_turns = {initial_state: 0}\n",
    "\n",
    "t0 = time.time()\n",
    "best_score = 1e9\n",
    "best_num_turns = 0\n",
    "counter = 0\n",
    "MAX_COUNTER = 1000\n",
    "while len(current_states) and counter < MAX_COUNTER:\n",
    "    new_states = []\n",
    "    for cs in current_states:\n",
    "        # Option 1: move step in current heading\n",
    "        new_pos = (cs[0][0]+cs[1][0], cs[0][1]+cs[1][1])\n",
    "        if grid[new_pos] != \"#\":\n",
    "            new_score = scores[cs] + 1\n",
    "            new_cs = (new_pos, cs[1])\n",
    "            if new_cs not in scores or (new_cs in scores and new_score < scores[new_cs]):\n",
    "                scores[new_cs] = new_score\n",
    "                num_turns[new_cs] = num_turns[cs]\n",
    "                if grid[new_pos] != \"E\":\n",
    "                    new_states.append(new_cs)\n",
    "                elif new_score < best_score:\n",
    "                    best_score = new_score\n",
    "                    best_num_turns = num_turns[cs]\n",
    "        \n",
    "        # Option 2: rotate 90 degrees in both possible directions\n",
    "        for h in all_rotations(cs[1]):\n",
    "            new_score = scores[cs] + 1000\n",
    "            new_cs = (cs[0], h)\n",
    "            if new_cs not in scores or (new_cs in scores and new_score < scores[new_cs]):\n",
    "                scores[new_cs] = new_score\n",
    "                num_turns[new_cs] = num_turns[cs] + 1\n",
    "                new_states.append(new_cs)\n",
    "    current_states = new_states.copy()\n",
    "            \n",
    "    counter += 1\n",
    "best_num_straights = best_score - 1000*best_num_turns\n",
    "print(f\"16a: {best_score} (with {best_num_turns} turns and {best_num_straights} straights) in {time.time() - t0} sec.\")\n",
    "assert counter != MAX_COUNTER, \"You reached the end on the counter. Maybe increase MAX_COUNTER?\""
   ]
  },
  {
   "cell_type": "code",
   "execution_count": 5,
   "metadata": {
    "execution": {
     "iopub.execute_input": "2024-12-31T16:47:05.850920Z",
     "iopub.status.busy": "2024-12-31T16:47:05.850747Z",
     "iopub.status.idle": "2024-12-31T16:47:12.052823Z",
     "shell.execute_reply": "2024-12-31T16:47:12.052484Z",
     "shell.execute_reply.started": "2024-12-31T16:47:05.850905Z"
    }
   },
   "outputs": [
    {
     "name": "stdout",
     "output_type": "stream",
     "text": [
      "16b: 559 in 6.197046279907227 sec.\n"
     ]
    }
   ],
   "source": [
    "# 16b\n",
    "# Find all valid branches and keep track of them until they 1) are invalid (e.g., score too large, or no next step possible), \n",
    "# or 2) turn out to be optimal (i.e., reach the end with the right score)\n",
    "t0 = time.time()\n",
    "nodes = set()\n",
    "branches = [[(initial_state, 0)]] # Format: branch=list(nodes), node = ((pos, heading), score)\n",
    "best_states = {} # Format k=(pos, heading), v=score\n",
    "end_loc = tuple(np.array(np.where(grid == \"E\")).transpose()[0])\n",
    "\n",
    "while len(branches):\n",
    "    new_branches = []\n",
    "    for branch in branches:\n",
    "        state, score = branch[-1]\n",
    "        loc, heading = state\n",
    "        if score == best_score and loc == end_loc:\n",
    "            # Store only locations\n",
    "            nodes = nodes.union(b[0][0] for b in branch)\n",
    "            continue\n",
    "        \n",
    "        # Option 1: move step in current heading\n",
    "        new_loc = (loc[0]+heading[0], loc[1]+heading[1])\n",
    "        new_state = (new_loc, heading)\n",
    "        if grid[new_loc] != \"#\":\n",
    "            new_score = score + 1\n",
    "            if new_score <= best_score and ((new_state in best_states and best_states[new_state] >= new_score) or (new_state not in best_states)):\n",
    "                best_states[new_state] = new_score\n",
    "                new_branches.append(branch + [(new_state, new_score)])\n",
    "        \n",
    "        # Option 2: rotate 90 degrees in both possible directions\n",
    "        for h in all_rotations(heading):\n",
    "            new_score = score + 1000\n",
    "            new_state = (loc, h)\n",
    "            if new_score <= best_score and ((new_state in best_states and best_states[new_state] >= new_score) or (new_state not in best_states)):\n",
    "                best_states[new_state] = new_score\n",
    "                new_branches.append(branch + [(new_state, new_score)])\n",
    "        \n",
    "    branches = new_branches.copy()\n",
    "print(f\"16b: {len(nodes)} in {time.time() - t0} sec.\")"
   ]
  },
  {
   "cell_type": "code",
   "execution_count": 6,
   "metadata": {
    "execution": {
     "iopub.execute_input": "2024-12-31T16:47:12.053196Z",
     "iopub.status.busy": "2024-12-31T16:47:12.053106Z",
     "iopub.status.idle": "2024-12-31T16:47:12.280716Z",
     "shell.execute_reply": "2024-12-31T16:47:12.280456Z",
     "shell.execute_reply.started": "2024-12-31T16:47:12.053186Z"
    }
   },
   "outputs": [
    {
     "data": {
      "image/png": "[encoded data removed]",
      "text/plain": [
       "<Figure size 640x480 with 1 Axes>"
      ]
     },
     "metadata": {},
     "output_type": "display_data"
    }
   ],
   "source": [
    "# Visualization used for debugging\n",
    "import matplotlib.pyplot as plt\n",
    "%matplotlib inline\n",
    "\n",
    "# Create some sample data\n",
    "x, y = [n[0] for n in nodes], [n[1] for n in nodes]\n",
    "x_start, y_start = np.where(grid == \"S\")\n",
    "x_end, y_end = np.where(grid == \"E\")\n",
    "\n",
    "# Create the scatter plot\n",
    "plt.scatter(x, y, s=1)\n",
    "plt.scatter(x_start, y_start, s=50, c='green')\n",
    "plt.scatter(x_end, y_end, s=50, c='red')\n",
    "\n",
    "# Add labels and title (optional)\n",
    "plt.xlabel('X axis')\n",
    "plt.ylabel('Y axis')\n",
    "plt.title('Scatter Plot')\n",
    "\n",
    "# Display the plot\n",
    "plt.show()"
   ]
  }
 ],
 "metadata": {
  "kernelspec": {
   "display_name": "Python 3 (ipykernel)",
   "language": "python",
   "name": "python3"
  },
  "language_info": {
   "codemirror_mode": {
    "name": "ipython",
    "version": 3
   },
   "file_extension": ".py",
   "mimetype": "text/x-python",
   "name": "python",
   "nbconvert_exporter": "python",
   "pygments_lexer": "ipython3",
   "version": "3.11.6"
  }
 },
 "nbformat": 4,
 "nbformat_minor": 4
}
