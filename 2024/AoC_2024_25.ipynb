{
 "cells": [
  {
   "cell_type": "code",
   "execution_count": 1,
   "id": "c77e6527-3435-49b5-9f3a-d740ed1db97e",
   "metadata": {
    "execution": {
     "iopub.execute_input": "2024-12-25T13:21:01.698652Z",
     "iopub.status.busy": "2024-12-25T13:21:01.698567Z",
     "iopub.status.idle": "2024-12-25T13:21:01.771540Z",
     "shell.execute_reply": "2024-12-25T13:21:01.771219Z",
     "shell.execute_reply.started": "2024-12-25T13:21:01.698642Z"
    }
   },
   "outputs": [],
   "source": [
    "import numpy as np"
   ]
  },
  {
   "cell_type": "code",
   "execution_count": 2,
   "id": "37d4f38f-6a80-4a21-9af7-411eb9226edd",
   "metadata": {
    "execution": {
     "iopub.execute_input": "2024-12-25T13:21:01.772231Z",
     "iopub.status.busy": "2024-12-25T13:21:01.772025Z",
     "iopub.status.idle": "2024-12-25T13:21:01.783888Z",
     "shell.execute_reply": "2024-12-25T13:21:01.783622Z",
     "shell.execute_reply.started": "2024-12-25T13:21:01.772218Z"
    }
   },
   "outputs": [],
   "source": [
    "with open(\"input_25.txt\", \"r\") as fh:\n",
    "    content = fh.read().split(\"\\n\\n\")\n",
    "\n",
    "def convert_schematic(s):\n",
    "    s = s.strip()\n",
    "    is_key = True if s[:5] == \".....\" else False\n",
    "    grid = np.array([[j for j in i] for i in s.split(\"\\n\")])\n",
    "    code = np.sum(grid == \"#\", axis=0) - 1\n",
    "    return is_key, code\n",
    "    \n",
    "keys = []\n",
    "locks = []\n",
    "for c in content:\n",
    "    is_key, code = convert_schematic(c)\n",
    "    if is_key:\n",
    "        keys.append(code)\n",
    "    else:\n",
    "        locks.append(code)\n",
    "keys = np.array(keys)\n",
    "locks = np.array(locks)"
   ]
  },
  {
   "cell_type": "code",
   "execution_count": 3,
   "id": "c9f6e6d5-cbac-48e7-bf44-8dcd6da81b30",
   "metadata": {
    "execution": {
     "iopub.execute_input": "2024-12-25T13:21:01.785050Z",
     "iopub.status.busy": "2024-12-25T13:21:01.784879Z",
     "iopub.status.idle": "2024-12-25T13:21:01.796566Z",
     "shell.execute_reply": "2024-12-25T13:21:01.796322Z",
     "shell.execute_reply.started": "2024-12-25T13:21:01.785038Z"
    }
   },
   "outputs": [
    {
     "name": "stdout",
     "output_type": "stream",
     "text": [
      "25a: 3269\n"
     ]
    }
   ],
   "source": [
    "# 25a\n",
    "num_fits = 0\n",
    "for k in keys:\n",
    "    overlap = 5 - k - locks\n",
    "    valid_locks = sum(np.sum(overlap<0, axis=1) == 0)\n",
    "    num_fits += valid_locks\n",
    "print(\"25a:\", num_fits)"
   ]
  }
 ],
 "metadata": {
  "kernelspec": {
   "display_name": "Python 3 (ipykernel)",
   "language": "python",
   "name": "python3"
  },
  "language_info": {
   "codemirror_mode": {
    "name": "ipython",
    "version": 3
   },
   "file_extension": ".py",
   "mimetype": "text/x-python",
   "name": "python",
   "nbconvert_exporter": "python",
   "pygments_lexer": "ipython3",
   "version": "3.11.6"
  }
 },
 "nbformat": 4,
 "nbformat_minor": 5
}
