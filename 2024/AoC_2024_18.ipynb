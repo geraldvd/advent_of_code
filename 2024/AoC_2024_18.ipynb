{
 "cells": [
  {
   "cell_type": "code",
   "execution_count": 1,
   "id": "64fd6d43-0ad6-4842-bac5-95466cfd3ac6",
   "metadata": {
    "execution": {
     "iopub.execute_input": "2024-12-21T15:58:38.497075Z",
     "iopub.status.busy": "2024-12-21T15:58:38.496996Z",
     "iopub.status.idle": "2024-12-21T15:58:38.546980Z",
     "shell.execute_reply": "2024-12-21T15:58:38.546687Z",
     "shell.execute_reply.started": "2024-12-21T15:58:38.497066Z"
    }
   },
   "outputs": [],
   "source": [
    "import numpy as np\n",
    "import time"
   ]
  },
  {
   "cell_type": "code",
   "execution_count": 2,
   "id": "60bc7c5a-c459-4497-88ae-21ddbe82d6d6",
   "metadata": {
    "execution": {
     "iopub.execute_input": "2024-12-21T15:58:38.547655Z",
     "iopub.status.busy": "2024-12-21T15:58:38.547448Z",
     "iopub.status.idle": "2024-12-21T15:58:38.552362Z",
     "shell.execute_reply": "2024-12-21T15:58:38.552103Z",
     "shell.execute_reply.started": "2024-12-21T15:58:38.547642Z"
    }
   },
   "outputs": [],
   "source": [
    "with open(\"input_18.txt\", \"r\") as fh:\n",
    "    bytes = [tuple([int(bi) for bi in b.strip().split(\",\")]) for b in fh.readlines()]"
   ]
  },
  {
   "cell_type": "code",
   "execution_count": 3,
   "id": "d4e335cb-c011-4b8c-b6dc-ee1b1f4bfa65",
   "metadata": {
    "execution": {
     "iopub.execute_input": "2024-12-21T15:58:38.552955Z",
     "iopub.status.busy": "2024-12-21T15:58:38.552787Z",
     "iopub.status.idle": "2024-12-21T15:58:38.556056Z",
     "shell.execute_reply": "2024-12-21T15:58:38.555808Z",
     "shell.execute_reply.started": "2024-12-21T15:58:38.552943Z"
    }
   },
   "outputs": [],
   "source": [
    "bytes_to_simulate = 1024 # 12\n",
    "dim = 71 # 7"
   ]
  },
  {
   "cell_type": "code",
   "execution_count": 4,
   "id": "1d21348e-17d0-4b6f-8fea-a2a4740d3aaa",
   "metadata": {
    "execution": {
     "iopub.execute_input": "2024-12-21T15:58:38.556609Z",
     "iopub.status.busy": "2024-12-21T15:58:38.556440Z",
     "iopub.status.idle": "2024-12-21T15:58:38.562123Z",
     "shell.execute_reply": "2024-12-21T15:58:38.561868Z",
     "shell.execute_reply.started": "2024-12-21T15:58:38.556598Z"
    }
   },
   "outputs": [],
   "source": [
    "def create_grid(dim, bytes_to_simulate):\n",
    "    grid = np.full((dim, dim), \".\")\n",
    "    for i in range(bytes_to_simulate):\n",
    "        X, Y = bytes[i]\n",
    "        grid[Y, X] = \"#\"\n",
    "    return grid"
   ]
  },
  {
   "cell_type": "code",
   "execution_count": 5,
   "id": "69e2ffcd-24da-44ac-9391-e0f8ccb94d19",
   "metadata": {
    "execution": {
     "iopub.execute_input": "2024-12-21T15:58:38.563357Z",
     "iopub.status.busy": "2024-12-21T15:58:38.563180Z",
     "iopub.status.idle": "2024-12-21T15:58:38.583826Z",
     "shell.execute_reply": "2024-12-21T15:58:38.583571Z",
     "shell.execute_reply.started": "2024-12-21T15:58:38.563345Z"
    }
   },
   "outputs": [
    {
     "name": "stdout",
     "output_type": "stream",
     "text": [
      "18a: 336\n"
     ]
    }
   ],
   "source": [
    "# 18a\n",
    "def get_next_pos(x, y):\n",
    "    new_pos = []\n",
    "    for px, py in [(x-1, y), (x+1, y), (x, y-1), (x, y+1)]:\n",
    "        if 0 <= px < dim and 0 <= py < dim and grid[py, px] != \"#\":\n",
    "            new_pos.append((px, py))\n",
    "    return new_pos\n",
    "\n",
    "grid = create_grid(dim, bytes_to_simulate)\n",
    "positions = [(0,0)]\n",
    "steps = 1e9 * np.ones(grid.shape)\n",
    "steps[0,0] = 0\n",
    "\n",
    "while steps[-1, -1] >= 1e9:\n",
    "    new_positions = []\n",
    "    for px, py in positions:\n",
    "        for npx, npy in get_next_pos(px, py):\n",
    "            if steps[npy, npx] > steps[py, px] + 1:\n",
    "                steps[npy, npx] = steps[py, px] + 1\n",
    "                new_positions.append((npx, npy))\n",
    "    positions = new_positions.copy()\n",
    "    \n",
    "print(\"18a:\", int(steps[-1, -1]))"
   ]
  },
  {
   "cell_type": "code",
   "execution_count": 7,
   "id": "55bdb286-6161-4f4d-93d3-a8236d0c7488",
   "metadata": {
    "execution": {
     "iopub.execute_input": "2024-12-21T15:59:44.535130Z",
     "iopub.status.busy": "2024-12-21T15:59:44.534835Z",
     "iopub.status.idle": "2024-12-21T16:00:00.795346Z",
     "shell.execute_reply": "2024-12-21T16:00:00.795019Z",
     "shell.execute_reply.started": "2024-12-21T15:59:44.535112Z"
    }
   },
   "outputs": [
    {
     "name": "stdout",
     "output_type": "stream",
     "text": [
      "18b: 24,30 (in 16.256942749023438 sec)\n"
     ]
    }
   ],
   "source": [
    "# 18b\n",
    "t0 = time.time()\n",
    "grid = create_grid(dim, 0)\n",
    "next_byte = -1\n",
    "keep_going = True\n",
    "\n",
    "while keep_going:\n",
    "    next_byte += 1\n",
    "    grid[bytes[next_byte][1], bytes[next_byte][0]] = \"#\"\n",
    "    positions = [(0,0)]\n",
    "    steps = 1e9 * np.ones(grid.shape)\n",
    "    steps[0,0] = 0\n",
    "\n",
    "    while True:\n",
    "        new_positions = []\n",
    "        for px, py in positions:\n",
    "            for npx, npy in get_next_pos(px, py):\n",
    "                if steps[npy, npx] > steps[py, px] + 1:\n",
    "                    steps[npy, npx] = steps[py, px] + 1\n",
    "                    new_positions.append((npx, npy))\n",
    "        positions = new_positions.copy()\n",
    "        if steps[-1, -1] < 1e9:\n",
    "            break\n",
    "        if not len(positions) and steps[-1, -1] >= 1e9:\n",
    "            keep_going = False\n",
    "            break\n",
    "\n",
    "print(\"18b:\", f\"{bytes[next_byte][0]},{bytes[next_byte][1]} (in {time.time() - t0} sec)\")"
   ]
  }
 ],
 "metadata": {
  "kernelspec": {
   "display_name": "Python 3 (ipykernel)",
   "language": "python",
   "name": "python3"
  },
  "language_info": {
   "codemirror_mode": {
    "name": "ipython",
    "version": 3
   },
   "file_extension": ".py",
   "mimetype": "text/x-python",
   "name": "python",
   "nbconvert_exporter": "python",
   "pygments_lexer": "ipython3",
   "version": "3.11.6"
  }
 },
 "nbformat": 4,
 "nbformat_minor": 5
}
