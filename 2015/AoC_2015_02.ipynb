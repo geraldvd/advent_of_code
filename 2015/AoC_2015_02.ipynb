{
 "cells": [
  {
   "cell_type": "code",
   "execution_count": 1,
   "id": "d626cc19-34c2-4f66-a6cd-887c58bb3517",
   "metadata": {
    "execution": {
     "iopub.execute_input": "2024-12-07T16:54:18.352804Z",
     "iopub.status.busy": "2024-12-07T16:54:18.352252Z",
     "iopub.status.idle": "2024-12-07T16:54:18.403392Z",
     "shell.execute_reply": "2024-12-07T16:54:18.403083Z",
     "shell.execute_reply.started": "2024-12-07T16:54:18.352753Z"
    }
   },
   "outputs": [],
   "source": [
    "import numpy as np"
   ]
  },
  {
   "cell_type": "code",
   "execution_count": 6,
   "id": "db988b0d-4e6e-45e8-9902-f795ffc8155e",
   "metadata": {
    "execution": {
     "iopub.execute_input": "2024-12-07T16:57:54.116718Z",
     "iopub.status.busy": "2024-12-07T16:57:54.116129Z",
     "iopub.status.idle": "2024-12-07T16:57:54.129032Z",
     "shell.execute_reply": "2024-12-07T16:57:54.128265Z",
     "shell.execute_reply.started": "2024-12-07T16:57:54.116666Z"
    }
   },
   "outputs": [],
   "source": [
    "with open(\"input_02.txt\", \"r\") as fh:\n",
    "    content = fh.readlines()\n",
    "present_dims = [sorted([int(i) for i in c.strip().split('x')]) for c in content]"
   ]
  },
  {
   "cell_type": "code",
   "execution_count": 10,
   "id": "98a50ba0-2508-4a30-ad8c-ef0cbe243162",
   "metadata": {
    "execution": {
     "iopub.execute_input": "2024-12-07T16:59:29.120221Z",
     "iopub.status.busy": "2024-12-07T16:59:29.118203Z",
     "iopub.status.idle": "2024-12-07T16:59:29.128684Z",
     "shell.execute_reply": "2024-12-07T16:59:29.127518Z",
     "shell.execute_reply.started": "2024-12-07T16:59:29.120151Z"
    }
   },
   "outputs": [
    {
     "name": "stdout",
     "output_type": "stream",
     "text": [
      "2a: 1606483\n"
     ]
    }
   ],
   "source": [
    "wrapping_paper = sum([3*d[0]*d[1] + 2*d[0]*d[2] + 2*d[1]*d[2] for d in present_dims])\n",
    "print(\"2a:\", wrapping_paper)"
   ]
  },
  {
   "cell_type": "code",
   "execution_count": 13,
   "id": "0634537e-4d64-42bb-9729-6a8b78fd0248",
   "metadata": {
    "execution": {
     "iopub.execute_input": "2024-12-07T17:02:10.778798Z",
     "iopub.status.busy": "2024-12-07T17:02:10.778528Z",
     "iopub.status.idle": "2024-12-07T17:02:10.782287Z",
     "shell.execute_reply": "2024-12-07T17:02:10.781820Z",
     "shell.execute_reply.started": "2024-12-07T17:02:10.778780Z"
    }
   },
   "outputs": [
    {
     "name": "stdout",
     "output_type": "stream",
     "text": [
      "2b: 3842356\n"
     ]
    }
   ],
   "source": [
    "ribbon = sum([2*d[0] + 2*d[1] + d[0]*d[1]*d[2] for d in present_dims])\n",
    "print(\"2b:\", ribbon)"
   ]
  }
 ],
 "metadata": {
  "kernelspec": {
   "display_name": "Python 3 (ipykernel)",
   "language": "python",
   "name": "python3"
  },
  "language_info": {
   "codemirror_mode": {
    "name": "ipython",
    "version": 3
   },
   "file_extension": ".py",
   "mimetype": "text/x-python",
   "name": "python",
   "nbconvert_exporter": "python",
   "pygments_lexer": "ipython3",
   "version": "3.11.6"
  }
 },
 "nbformat": 4,
 "nbformat_minor": 5
}
