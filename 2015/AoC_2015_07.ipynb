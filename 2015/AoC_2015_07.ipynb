{
 "cells": [
  {
   "cell_type": "code",
   "execution_count": 1,
   "id": "2dd5e5db-966d-4319-a7e3-92891754b9b8",
   "metadata": {
    "execution": {
     "iopub.execute_input": "2025-01-13T10:33:46.239079Z",
     "iopub.status.busy": "2025-01-13T10:33:46.238954Z",
     "iopub.status.idle": "2025-01-13T10:33:46.240534Z",
     "shell.execute_reply": "2025-01-13T10:33:46.240354Z",
     "shell.execute_reply.started": "2025-01-13T10:33:46.239070Z"
    }
   },
   "outputs": [],
   "source": [
    "import re\n",
    "import time"
   ]
  },
  {
   "cell_type": "code",
   "execution_count": 2,
   "id": "411d097e-6368-49ac-9675-e11af8c1e47c",
   "metadata": {
    "execution": {
     "iopub.execute_input": "2025-01-13T10:33:46.240885Z",
     "iopub.status.busy": "2025-01-13T10:33:46.240814Z",
     "iopub.status.idle": "2025-01-13T10:33:46.246961Z",
     "shell.execute_reply": "2025-01-13T10:33:46.246786Z",
     "shell.execute_reply.started": "2025-01-13T10:33:46.240877Z"
    }
   },
   "outputs": [],
   "source": [
    "with open(\"input_07.txt\", \"r\") as fh:\n",
    "    content = fh.readlines()"
   ]
  },
  {
   "cell_type": "code",
   "execution_count": 3,
   "id": "7a77851e-485f-4bb4-95e6-a8e255e79155",
   "metadata": {
    "execution": {
     "iopub.execute_input": "2025-01-13T10:33:46.247293Z",
     "iopub.status.busy": "2025-01-13T10:33:46.247219Z",
     "iopub.status.idle": "2025-01-13T10:33:46.253525Z",
     "shell.execute_reply": "2025-01-13T10:33:46.253336Z",
     "shell.execute_reply.started": "2025-01-13T10:33:46.247286Z"
    }
   },
   "outputs": [],
   "source": [
    "def get_instructions(content):\n",
    "    instructions = {}\n",
    "    for c in content:\n",
    "        i, o = c.split(\"->\")\n",
    "        o = o.strip()\n",
    "        result = re.findall(r\"\\w+\", i)\n",
    "        assert o not in instructions, \"Output expected only once\"\n",
    "        if len(result) == 1:\n",
    "            instructions[o] = (None, result[0])\n",
    "        elif len(result) == 2:\n",
    "            assert result[0] == \"NOT\", \"NOT operator was expected\"\n",
    "            instructions[o] = (result[0], result[1])\n",
    "        elif len(result) == 3:\n",
    "            instructions[o] = (result[1], result[0], result[2])\n",
    "        else:\n",
    "            print(\"Error: this should never happen.\")\n",
    "    return instructions\n",
    "\n",
    "\n",
    "def parse(instructions):\n",
    "    outputs = {}\n",
    "    while len(instructions):\n",
    "        remove_keys = []\n",
    "        for k in instructions:\n",
    "            i = instructions[k]\n",
    "            match i[0]:\n",
    "                case None:\n",
    "                    if i[1].isdigit():\n",
    "                        outputs[k] = int(i[1])\n",
    "                        remove_keys.append(k)\n",
    "                    elif i[1] in outputs:\n",
    "                        outputs[k] = outputs[i[1]]\n",
    "                        remove_keys.append(k)\n",
    "                case \"NOT\":\n",
    "                    if i[1].isdigit():\n",
    "                        outputs[k] = ~int(i[1])\n",
    "                        remove_keys.append(k)\n",
    "                    elif i[1] in outputs:\n",
    "                        outputs[k] = ~outputs[i[1]]\n",
    "                        remove_keys.append(k)\n",
    "                case _:\n",
    "                    method = i[0]\n",
    "                    operand1, operand2 = None, None\n",
    "                    if i[1].isdigit():\n",
    "                        operand1 = int(i[1])\n",
    "                    elif i[1] in outputs:\n",
    "                        operand1 = outputs[i[1]]\n",
    "                    if i[2].isdigit():\n",
    "                        operand2 = int(i[2])\n",
    "                    elif i[2] in outputs:\n",
    "                        operand2 = outputs[i[2]]\n",
    "                    if operand1 is not None and operand2 is not None:\n",
    "                        remove_keys.append(k)\n",
    "                        match method:\n",
    "                            case \"AND\":\n",
    "                                outputs[k] = operand1 & operand2\n",
    "                            case \"OR\":\n",
    "                                outputs[k] = operand1 | operand2\n",
    "                            case \"LSHIFT\":\n",
    "                                outputs[k] = operand1 << operand2\n",
    "                            case \"RSHIFT\":\n",
    "                                outputs[k] = operand1 >> operand2\n",
    "                            case _:\n",
    "                                print(\"Error: this should never happen.\")\n",
    "        # Remove keys from instructions\n",
    "        for k in remove_keys:\n",
    "            del instructions[k]\n",
    "\n",
    "        # Convert signed integers to unsigned equivalent (i.e., most significant bit should not be the sign)\n",
    "    for o in outputs:\n",
    "        outputs[o] = (outputs[o] + 2**16) % 2**16\n",
    "    return outputs"
   ]
  },
  {
   "cell_type": "code",
   "execution_count": 4,
   "id": "b96c4666-e338-4f6e-856f-f4338ef64413",
   "metadata": {
    "execution": {
     "iopub.execute_input": "2025-01-13T10:33:46.254189Z",
     "iopub.status.busy": "2025-01-13T10:33:46.254075Z",
     "iopub.status.idle": "2025-01-13T10:33:46.262003Z",
     "shell.execute_reply": "2025-01-13T10:33:46.261790Z",
     "shell.execute_reply.started": "2025-01-13T10:33:46.254181Z"
    }
   },
   "outputs": [
    {
     "name": "stdout",
     "output_type": "stream",
     "text": [
      "7a: 3176 in 0.002394437789916992 sec.\n"
     ]
    }
   ],
   "source": [
    "# 7a\n",
    "t0 = time.time()\n",
    "instructions = get_instructions(content)\n",
    "outputs = parse(instructions)\n",
    "print(\"7a:\", outputs[\"a\"], f\"in {time.time() - t0} sec.\")"
   ]
  },
  {
   "cell_type": "code",
   "execution_count": 5,
   "id": "abc0b368-3ade-4cbc-b8ac-9ff5fd7495e6",
   "metadata": {
    "execution": {
     "iopub.execute_input": "2025-01-13T10:33:46.262337Z",
     "iopub.status.busy": "2025-01-13T10:33:46.262260Z",
     "iopub.status.idle": "2025-01-13T10:33:46.270298Z",
     "shell.execute_reply": "2025-01-13T10:33:46.270108Z",
     "shell.execute_reply.started": "2025-01-13T10:33:46.262329Z"
    }
   },
   "outputs": [
    {
     "name": "stdout",
     "output_type": "stream",
     "text": [
      "7b: 14710 in 0.010710000991821289 sec.\n"
     ]
    }
   ],
   "source": [
    "# 7b\n",
    "instructions = get_instructions(content)\n",
    "instructions[\"b\"] = (None, str(outputs[\"a\"]))\n",
    "outputs = parse(instructions)\n",
    "print(\"7b:\", outputs[\"a\"], f\"in {time.time() - t0} sec.\")"
   ]
  }
 ],
 "metadata": {
  "kernelspec": {
   "display_name": "Python 3 (ipykernel)",
   "language": "python",
   "name": "python3"
  },
  "language_info": {
   "codemirror_mode": {
    "name": "ipython",
    "version": 3
   },
   "file_extension": ".py",
   "mimetype": "text/x-python",
   "name": "python",
   "nbconvert_exporter": "python",
   "pygments_lexer": "ipython3",
   "version": "3.11.6"
  }
 },
 "nbformat": 4,
 "nbformat_minor": 5
}
