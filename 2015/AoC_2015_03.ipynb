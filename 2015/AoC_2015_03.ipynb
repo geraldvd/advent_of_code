{
 "cells": [
  {
   "cell_type": "code",
   "execution_count": 1,
   "id": "1837016c-97cb-4439-a709-8e5c401f4f32",
   "metadata": {
    "execution": {
     "iopub.execute_input": "2024-12-07T21:21:55.913690Z",
     "iopub.status.busy": "2024-12-07T21:21:55.913614Z",
     "iopub.status.idle": "2024-12-07T21:21:55.960282Z",
     "shell.execute_reply": "2024-12-07T21:21:55.959792Z",
     "shell.execute_reply.started": "2024-12-07T21:21:55.913682Z"
    }
   },
   "outputs": [],
   "source": [
    "import numpy as np"
   ]
  },
  {
   "cell_type": "code",
   "execution_count": 2,
   "id": "0a86e31a-7bfc-41b2-bd18-af179cc54a3f",
   "metadata": {
    "execution": {
     "iopub.execute_input": "2024-12-07T21:21:55.961064Z",
     "iopub.status.busy": "2024-12-07T21:21:55.960869Z",
     "iopub.status.idle": "2024-12-07T21:21:55.965859Z",
     "shell.execute_reply": "2024-12-07T21:21:55.965208Z",
     "shell.execute_reply.started": "2024-12-07T21:21:55.961048Z"
    }
   },
   "outputs": [],
   "source": [
    "with open(\"input_03.txt\", \"r\") as fh:\n",
    "    content = fh.read()"
   ]
  },
  {
   "cell_type": "code",
   "execution_count": 3,
   "id": "dcec6aa6-5aaf-44f7-af0f-41150871718d",
   "metadata": {
    "execution": {
     "iopub.execute_input": "2024-12-07T21:21:55.968061Z",
     "iopub.status.busy": "2024-12-07T21:21:55.967415Z",
     "iopub.status.idle": "2024-12-07T21:21:55.973756Z",
     "shell.execute_reply": "2024-12-07T21:21:55.973123Z",
     "shell.execute_reply.started": "2024-12-07T21:21:55.968046Z"
    }
   },
   "outputs": [],
   "source": [
    "def convert_directions(d):\n",
    "    match d:\n",
    "        case \"<\":\n",
    "            return (-1, 0)\n",
    "        case \">\":\n",
    "            return (1, 0)\n",
    "        case \"^\":\n",
    "            return (0, 1)\n",
    "        case \"v\":\n",
    "            return (0, -1)\n",
    "\n",
    "directions = [convert_directions(c) for c in content]"
   ]
  },
  {
   "cell_type": "code",
   "execution_count": 4,
   "id": "9ec6e0c8-7158-4d57-b8b5-2dc9fb3004b1",
   "metadata": {
    "execution": {
     "iopub.execute_input": "2024-12-07T21:21:55.974513Z",
     "iopub.status.busy": "2024-12-07T21:21:55.974366Z",
     "iopub.status.idle": "2024-12-07T21:21:55.985670Z",
     "shell.execute_reply": "2024-12-07T21:21:55.985028Z",
     "shell.execute_reply.started": "2024-12-07T21:21:55.974499Z"
    }
   },
   "outputs": [
    {
     "name": "stdout",
     "output_type": "stream",
     "text": [
      "3a: 2565\n"
     ]
    }
   ],
   "source": [
    "visited_locations = set()\n",
    "cur_loc = (0, 0)\n",
    "visited_locations.add(cur_loc)\n",
    "for d in directions:\n",
    "    cur_loc = (cur_loc[0]+d[0], cur_loc[1]+d[1])\n",
    "    visited_locations.add(cur_loc)\n",
    "print(\"3a:\", len(visited_locations))"
   ]
  },
  {
   "cell_type": "code",
   "execution_count": 5,
   "id": "06b649a1-6461-4edf-85bc-8b00070af9ea",
   "metadata": {
    "execution": {
     "iopub.execute_input": "2024-12-07T21:21:55.986414Z",
     "iopub.status.busy": "2024-12-07T21:21:55.986274Z",
     "iopub.status.idle": "2024-12-07T21:21:55.995573Z",
     "shell.execute_reply": "2024-12-07T21:21:55.994893Z",
     "shell.execute_reply.started": "2024-12-07T21:21:55.986400Z"
    }
   },
   "outputs": [
    {
     "name": "stdout",
     "output_type": "stream",
     "text": [
      "3b: 2639\n"
     ]
    }
   ],
   "source": [
    "dir_santa = directions[::2]\n",
    "dir_robot = directions[1::2]\n",
    "visited_locations = set()\n",
    "cur_loc = (0, 0)\n",
    "for d in dir_santa:\n",
    "    cur_loc = (cur_loc[0]+d[0], cur_loc[1]+d[1])\n",
    "    visited_locations.add(cur_loc)\n",
    "cur_loc = (0, 0)\n",
    "for d in dir_robot:\n",
    "    cur_loc = (cur_loc[0]+d[0], cur_loc[1]+d[1])\n",
    "    visited_locations.add(cur_loc)\n",
    "print(\"3b:\", len(visited_locations))"
   ]
  }
 ],
 "metadata": {
  "kernelspec": {
   "display_name": "Python 3 (ipykernel)",
   "language": "python",
   "name": "python3"
  },
  "language_info": {
   "codemirror_mode": {
    "name": "ipython",
    "version": 3
   },
   "file_extension": ".py",
   "mimetype": "text/x-python",
   "name": "python",
   "nbconvert_exporter": "python",
   "pygments_lexer": "ipython3",
   "version": "3.11.6"
  }
 },
 "nbformat": 4,
 "nbformat_minor": 5
}
