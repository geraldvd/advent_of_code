{
 "cells": [
  {
   "cell_type": "code",
   "execution_count": 1,
   "id": "24278157-6acb-4b12-bbd3-e9f1e2c0c98b",
   "metadata": {
    "execution": {
     "iopub.execute_input": "2024-12-08T19:50:53.818875Z",
     "iopub.status.busy": "2024-12-08T19:50:53.818745Z",
     "iopub.status.idle": "2024-12-08T19:50:53.820454Z",
     "shell.execute_reply": "2024-12-08T19:50:53.820201Z",
     "shell.execute_reply.started": "2024-12-08T19:50:53.818867Z"
    }
   },
   "outputs": [],
   "source": [
    "import re"
   ]
  },
  {
   "cell_type": "code",
   "execution_count": 2,
   "id": "cad0fe0c-99f0-4972-a1fd-68147d613a7f",
   "metadata": {
    "execution": {
     "iopub.execute_input": "2024-12-08T19:50:53.820863Z",
     "iopub.status.busy": "2024-12-08T19:50:53.820745Z",
     "iopub.status.idle": "2024-12-08T19:50:53.838348Z",
     "shell.execute_reply": "2024-12-08T19:50:53.837424Z",
     "shell.execute_reply.started": "2024-12-08T19:50:53.820855Z"
    }
   },
   "outputs": [],
   "source": [
    "with open(\"input_05.txt\", \"r\") as fh:\n",
    "    strings = [s.strip() for s in fh.readlines()]"
   ]
  },
  {
   "cell_type": "code",
   "execution_count": 3,
   "id": "9e782f45-0eb4-4a78-90f0-8be4357793fc",
   "metadata": {
    "execution": {
     "iopub.execute_input": "2024-12-08T19:50:53.840303Z",
     "iopub.status.busy": "2024-12-08T19:50:53.839593Z",
     "iopub.status.idle": "2024-12-08T19:50:53.846995Z",
     "shell.execute_reply": "2024-12-08T19:50:53.845976Z",
     "shell.execute_reply.started": "2024-12-08T19:50:53.840273Z"
    }
   },
   "outputs": [],
   "source": [
    "# 1a\n",
    "def is_nice_string(s):\n",
    "    forbidden_strings = [\"ab\", \"cd\", \"pq\", \"xy\"]\n",
    "    num_vowels = len(re.findall(r\"[aeiou]\", s))\n",
    "    has_forbidden_string = sum([1 if f in s else 0 for f in forbidden_strings])\n",
    "    adjacent_letters = len(re.findall(r\"([a-z])\\1+\", s))\n",
    "    return bool(num_vowels >= 3 and not has_forbidden_string and adjacent_letters)"
   ]
  },
  {
   "cell_type": "code",
   "execution_count": 5,
   "id": "9e0d3a3d-33d9-4c5d-9d8d-891440f1e182",
   "metadata": {
    "execution": {
     "iopub.execute_input": "2024-12-08T19:51:39.563144Z",
     "iopub.status.busy": "2024-12-08T19:51:39.562501Z",
     "iopub.status.idle": "2024-12-08T19:51:39.567172Z",
     "shell.execute_reply": "2024-12-08T19:51:39.566962Z",
     "shell.execute_reply.started": "2024-12-08T19:51:39.563123Z"
    }
   },
   "outputs": [
    {
     "name": "stdout",
     "output_type": "stream",
     "text": [
      "5a: 255\n"
     ]
    }
   ],
   "source": [
    "print(\"5a:\", sum([is_nice_string(s) for s in strings]))"
   ]
  },
  {
   "cell_type": "code",
   "execution_count": 30,
   "id": "847a90a1-8c06-4d78-96a8-c2b3a42d7a56",
   "metadata": {
    "execution": {
     "iopub.execute_input": "2024-12-08T20:00:30.779885Z",
     "iopub.status.busy": "2024-12-08T20:00:30.779343Z",
     "iopub.status.idle": "2024-12-08T20:00:30.787127Z",
     "shell.execute_reply": "2024-12-08T20:00:30.785828Z",
     "shell.execute_reply.started": "2024-12-08T20:00:30.779839Z"
    }
   },
   "outputs": [],
   "source": [
    "def is_nice_string_b(s):\n",
    "    # print(re.findall(r\"([a-z][a-z])\\1+\", s))\n",
    "    print(re.findall(r\"[a-z]\", s))"
   ]
  },
  {
   "cell_type": "code",
   "execution_count": 34,
   "id": "d5fe8333-b051-4691-a51e-0e5c215cd9bc",
   "metadata": {
    "execution": {
     "iopub.execute_input": "2024-12-08T20:00:58.461047Z",
     "iopub.status.busy": "2024-12-08T20:00:58.460510Z",
     "iopub.status.idle": "2024-12-08T20:00:58.468621Z",
     "shell.execute_reply": "2024-12-08T20:00:58.467515Z",
     "shell.execute_reply.started": "2024-12-08T20:00:58.461001Z"
    }
   },
   "outputs": [
    {
     "name": "stdout",
     "output_type": "stream",
     "text": [
      "[]\n"
     ]
    }
   ],
   "source": [
    "is_nice_string_b('aabcdefgaa')"
   ]
  },
  {
   "cell_type": "code",
   "execution_count": null,
   "id": "78d38bfa-52f5-4c69-bfcb-83c7c3b9600c",
   "metadata": {},
   "outputs": [],
   "source": []
  }
 ],
 "metadata": {
  "kernelspec": {
   "display_name": "Python 3 (ipykernel)",
   "language": "python",
   "name": "python3"
  },
  "language_info": {
   "codemirror_mode": {
    "name": "ipython",
    "version": 3
   },
   "file_extension": ".py",
   "mimetype": "text/x-python",
   "name": "python",
   "nbconvert_exporter": "python",
   "pygments_lexer": "ipython3",
   "version": "3.11.6"
  }
 },
 "nbformat": 4,
 "nbformat_minor": 5
}
