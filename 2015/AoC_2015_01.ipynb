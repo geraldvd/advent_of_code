{
 "cells": [
  {
   "cell_type": "code",
   "execution_count": 1,
   "id": "0b43cdc3-edca-4a07-a8c8-ded60c74694c",
   "metadata": {
    "execution": {
     "iopub.execute_input": "2024-12-07T16:35:39.388020Z",
     "iopub.status.busy": "2024-12-07T16:35:39.387878Z",
     "iopub.status.idle": "2024-12-07T16:35:39.435093Z",
     "shell.execute_reply": "2024-12-07T16:35:39.434801Z",
     "shell.execute_reply.started": "2024-12-07T16:35:39.388010Z"
    }
   },
   "outputs": [],
   "source": [
    "import numpy as np"
   ]
  },
  {
   "cell_type": "code",
   "execution_count": 2,
   "id": "e6a0b73d-8d6e-421a-82d0-024c52054766",
   "metadata": {
    "execution": {
     "iopub.execute_input": "2024-12-07T16:35:39.435597Z",
     "iopub.status.busy": "2024-12-07T16:35:39.435452Z",
     "iopub.status.idle": "2024-12-07T16:35:39.437979Z",
     "shell.execute_reply": "2024-12-07T16:35:39.437551Z",
     "shell.execute_reply.started": "2024-12-07T16:35:39.435585Z"
    }
   },
   "outputs": [],
   "source": [
    "with open(\"input_01.txt\", \"r\") as fh:\n",
    "    content = fh.read()"
   ]
  },
  {
   "cell_type": "code",
   "execution_count": 5,
   "id": "261e49ee-c969-4fce-a93d-3d74a9801441",
   "metadata": {
    "execution": {
     "iopub.execute_input": "2024-12-07T16:38:14.247504Z",
     "iopub.status.busy": "2024-12-07T16:38:14.246942Z",
     "iopub.status.idle": "2024-12-07T16:38:14.256596Z",
     "shell.execute_reply": "2024-12-07T16:38:14.254955Z",
     "shell.execute_reply.started": "2024-12-07T16:38:14.247442Z"
    }
   },
   "outputs": [
    {
     "name": "stdout",
     "output_type": "stream",
     "text": [
      "1a: 138\n"
     ]
    }
   ],
   "source": [
    "floor_deltas = [-1 if c==\")\" else 1 for c in content]\n",
    "print(\"1a:\", sum(floor_deltas))"
   ]
  },
  {
   "cell_type": "code",
   "execution_count": 6,
   "id": "626bac65-7b2d-4908-8103-3721a8b9be66",
   "metadata": {
    "execution": {
     "iopub.execute_input": "2024-12-07T16:39:38.950734Z",
     "iopub.status.busy": "2024-12-07T16:39:38.950183Z",
     "iopub.status.idle": "2024-12-07T16:39:38.959775Z",
     "shell.execute_reply": "2024-12-07T16:39:38.958295Z",
     "shell.execute_reply.started": "2024-12-07T16:39:38.950689Z"
    }
   },
   "outputs": [
    {
     "name": "stdout",
     "output_type": "stream",
     "text": [
      "1b: 1771\n"
     ]
    }
   ],
   "source": [
    "floor = 0\n",
    "for i, fd in enumerate(floor_deltas):\n",
    "    floor += fd\n",
    "    if floor == -1:\n",
    "        break\n",
    "print(\"1b:\", i+1)"
   ]
  }
 ],
 "metadata": {
  "kernelspec": {
   "display_name": "Python 3 (ipykernel)",
   "language": "python",
   "name": "python3"
  },
  "language_info": {
   "codemirror_mode": {
    "name": "ipython",
    "version": 3
   },
   "file_extension": ".py",
   "mimetype": "text/x-python",
   "name": "python",
   "nbconvert_exporter": "python",
   "pygments_lexer": "ipython3",
   "version": "3.11.6"
  }
 },
 "nbformat": 4,
 "nbformat_minor": 5
}
