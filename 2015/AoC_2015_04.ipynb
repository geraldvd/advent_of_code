{
 "cells": [
  {
   "cell_type": "code",
   "execution_count": 1,
   "id": "47578f2c-4288-4db0-8c52-93039c2f3cdd",
   "metadata": {
    "execution": {
     "iopub.execute_input": "2024-12-08T16:44:56.651576Z",
     "iopub.status.busy": "2024-12-08T16:44:56.651455Z",
     "iopub.status.idle": "2024-12-08T16:44:56.653091Z",
     "shell.execute_reply": "2024-12-08T16:44:56.652918Z",
     "shell.execute_reply.started": "2024-12-08T16:44:56.651567Z"
    }
   },
   "outputs": [],
   "source": [
    "import hashlib"
   ]
  },
  {
   "cell_type": "code",
   "execution_count": 2,
   "id": "7bcdde35-7f16-4d31-8f0b-4b4c77043fcc",
   "metadata": {
    "execution": {
     "iopub.execute_input": "2024-12-08T16:44:56.653446Z",
     "iopub.status.busy": "2024-12-08T16:44:56.653339Z",
     "iopub.status.idle": "2024-12-08T16:44:56.668650Z",
     "shell.execute_reply": "2024-12-08T16:44:56.668364Z",
     "shell.execute_reply.started": "2024-12-08T16:44:56.653438Z"
    }
   },
   "outputs": [],
   "source": [
    "secret_key = \"yzbqklnj\""
   ]
  },
  {
   "cell_type": "code",
   "execution_count": 3,
   "id": "2f1a6455-8705-4e00-bf45-3a9c4094447f",
   "metadata": {
    "execution": {
     "iopub.execute_input": "2024-12-08T16:44:56.669263Z",
     "iopub.status.busy": "2024-12-08T16:44:56.669047Z",
     "iopub.status.idle": "2024-12-08T16:44:56.804749Z",
     "shell.execute_reply": "2024-12-08T16:44:56.804479Z",
     "shell.execute_reply.started": "2024-12-08T16:44:56.669250Z"
    }
   },
   "outputs": [
    {
     "name": "stdout",
     "output_type": "stream",
     "text": [
      "4a: 282749\n"
     ]
    }
   ],
   "source": [
    "# 4a\n",
    "num = 0\n",
    "while True:\n",
    "    num += 1\n",
    "    result = hashlib.md5(f\"{secret_key}{num}\".encode('utf-8')).hexdigest()\n",
    "    if result[:5] == '00000':\n",
    "        break\n",
    "print(\"4a:\", num)"
   ]
  },
  {
   "cell_type": "code",
   "execution_count": 4,
   "id": "64a2a851-822e-4201-a6b6-48ba0b5e0b88",
   "metadata": {
    "execution": {
     "iopub.execute_input": "2024-12-08T16:44:56.805589Z",
     "iopub.status.busy": "2024-12-08T16:44:56.805457Z",
     "iopub.status.idle": "2024-12-08T16:45:01.139693Z",
     "shell.execute_reply": "2024-12-08T16:45:01.139387Z",
     "shell.execute_reply.started": "2024-12-08T16:44:56.805580Z"
    }
   },
   "outputs": [
    {
     "name": "stdout",
     "output_type": "stream",
     "text": [
      "4b: 9962624\n"
     ]
    }
   ],
   "source": [
    "# 4b\n",
    "num = 0\n",
    "while True:\n",
    "    num += 1\n",
    "    result = hashlib.md5(f\"{secret_key}{num}\".encode('utf-8')).hexdigest()\n",
    "    if result[:6] == '000000':\n",
    "        break\n",
    "print(\"4b:\", num)"
   ]
  },
  {
   "cell_type": "code",
   "execution_count": null,
   "id": "f950497f-a86b-4322-9dd1-290bc4de4d0a",
   "metadata": {},
   "outputs": [],
   "source": []
  }
 ],
 "metadata": {
  "kernelspec": {
   "display_name": "Python 3 (ipykernel)",
   "language": "python",
   "name": "python3"
  },
  "language_info": {
   "codemirror_mode": {
    "name": "ipython",
    "version": 3
   },
   "file_extension": ".py",
   "mimetype": "text/x-python",
   "name": "python",
   "nbconvert_exporter": "python",
   "pygments_lexer": "ipython3",
   "version": "3.11.6"
  }
 },
 "nbformat": 4,
 "nbformat_minor": 5
}
